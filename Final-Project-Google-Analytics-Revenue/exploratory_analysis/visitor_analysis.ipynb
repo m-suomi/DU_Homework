{
 "cells": [
  {
   "cell_type": "code",
   "execution_count": 1,
   "metadata": {},
   "outputs": [],
   "source": [
    "import pandas as pd\n",
    "import numpy as np"
   ]
  },
  {
   "cell_type": "code",
   "execution_count": 2,
   "metadata": {},
   "outputs": [
    {
     "name": "stderr",
     "output_type": "stream",
     "text": [
      "C:\\Users\\chutc\\AppData\\Local\\Continuum\\anaconda3\\lib\\site-packages\\IPython\\core\\interactiveshell.py:2728: DtypeWarning: Columns (3,33) have mixed types. Specify dtype option on import or set low_memory=False.\n",
      "  interactivity=interactivity, compiler=compiler, result=result)\n"
     ]
    }
   ],
   "source": [
    "df = pd.read_csv('train_v1_full_data_split.csv')"
   ]
  },
  {
   "cell_type": "code",
   "execution_count": 3,
   "metadata": {
    "scrolled": true
   },
   "outputs": [
    {
     "data": {
      "text/html": [
       "<div>\n",
       "<style scoped>\n",
       "    .dataframe tbody tr th:only-of-type {\n",
       "        vertical-align: middle;\n",
       "    }\n",
       "\n",
       "    .dataframe tbody tr th {\n",
       "        vertical-align: top;\n",
       "    }\n",
       "\n",
       "    .dataframe thead th {\n",
       "        text-align: right;\n",
       "    }\n",
       "</style>\n",
       "<table border=\"1\" class=\"dataframe\">\n",
       "  <thead>\n",
       "    <tr style=\"text-align: right;\">\n",
       "      <th></th>\n",
       "      <th>Unnamed: 0</th>\n",
       "      <th>channelGrouping</th>\n",
       "      <th>date</th>\n",
       "      <th>fullVisitorId</th>\n",
       "      <th>sessionId</th>\n",
       "      <th>socialEngagementType</th>\n",
       "      <th>visitId</th>\n",
       "      <th>visitNumber</th>\n",
       "      <th>visitStartTime</th>\n",
       "      <th>device_deviceCategory</th>\n",
       "      <th>...</th>\n",
       "      <th>lat_lng</th>\n",
       "      <th>timezone</th>\n",
       "      <th>datetime_iso_utc</th>\n",
       "      <th>datetime_iso_local</th>\n",
       "      <th>year_local</th>\n",
       "      <th>month_local</th>\n",
       "      <th>day_local</th>\n",
       "      <th>yearday_local</th>\n",
       "      <th>weekday_local</th>\n",
       "      <th>hour_local</th>\n",
       "    </tr>\n",
       "  </thead>\n",
       "  <tbody>\n",
       "    <tr>\n",
       "      <th>0</th>\n",
       "      <td>0</td>\n",
       "      <td>Organic Search</td>\n",
       "      <td>20160902</td>\n",
       "      <td>1131660440785968503</td>\n",
       "      <td>1131660440785968503_1472830385</td>\n",
       "      <td>Not Socially Engaged</td>\n",
       "      <td>1472830385</td>\n",
       "      <td>1</td>\n",
       "      <td>1472830385</td>\n",
       "      <td>desktop</td>\n",
       "      <td>...</td>\n",
       "      <td>(38.423734, 27.142826)</td>\n",
       "      <td>('+03', 3.0)</td>\n",
       "      <td>2016-09-02 15:33:05+00:00</td>\n",
       "      <td>2016-09-02 18:33:05+03:00</td>\n",
       "      <td>2016.0</td>\n",
       "      <td>9.0</td>\n",
       "      <td>2.0</td>\n",
       "      <td>246.0</td>\n",
       "      <td>5.0</td>\n",
       "      <td>18.0</td>\n",
       "    </tr>\n",
       "    <tr>\n",
       "      <th>1</th>\n",
       "      <td>1</td>\n",
       "      <td>Organic Search</td>\n",
       "      <td>20160902</td>\n",
       "      <td>377306020877927890</td>\n",
       "      <td>377306020877927890_1472880147</td>\n",
       "      <td>Not Socially Engaged</td>\n",
       "      <td>1472880147</td>\n",
       "      <td>1</td>\n",
       "      <td>1472880147</td>\n",
       "      <td>desktop</td>\n",
       "      <td>...</td>\n",
       "      <td>(-25.274398, 133.775136)</td>\n",
       "      <td>('ACST', 9.5)</td>\n",
       "      <td>2016-09-03 05:22:27+00:00</td>\n",
       "      <td>2016-09-03 14:52:27+09:30</td>\n",
       "      <td>2016.0</td>\n",
       "      <td>9.0</td>\n",
       "      <td>3.0</td>\n",
       "      <td>247.0</td>\n",
       "      <td>6.0</td>\n",
       "      <td>14.0</td>\n",
       "    </tr>\n",
       "    <tr>\n",
       "      <th>2</th>\n",
       "      <td>2</td>\n",
       "      <td>Organic Search</td>\n",
       "      <td>20160902</td>\n",
       "      <td>3895546263509774583</td>\n",
       "      <td>3895546263509774583_1472865386</td>\n",
       "      <td>Not Socially Engaged</td>\n",
       "      <td>1472865386</td>\n",
       "      <td>1</td>\n",
       "      <td>1472865386</td>\n",
       "      <td>desktop</td>\n",
       "      <td>...</td>\n",
       "      <td>(40.4167754, -3.7037902)</td>\n",
       "      <td>('CEST', 2.0)</td>\n",
       "      <td>2016-09-03 01:16:26+00:00</td>\n",
       "      <td>2016-09-03 03:16:26+02:00</td>\n",
       "      <td>2016.0</td>\n",
       "      <td>9.0</td>\n",
       "      <td>3.0</td>\n",
       "      <td>247.0</td>\n",
       "      <td>6.0</td>\n",
       "      <td>3.0</td>\n",
       "    </tr>\n",
       "    <tr>\n",
       "      <th>3</th>\n",
       "      <td>3</td>\n",
       "      <td>Organic Search</td>\n",
       "      <td>20160902</td>\n",
       "      <td>4763447161404445595</td>\n",
       "      <td>4763447161404445595_1472881213</td>\n",
       "      <td>Not Socially Engaged</td>\n",
       "      <td>1472881213</td>\n",
       "      <td>1</td>\n",
       "      <td>1472881213</td>\n",
       "      <td>desktop</td>\n",
       "      <td>...</td>\n",
       "      <td>(-0.789275, 113.921327)</td>\n",
       "      <td>('WIB', 7.0)</td>\n",
       "      <td>2016-09-03 05:40:13+00:00</td>\n",
       "      <td>2016-09-03 12:40:13+07:00</td>\n",
       "      <td>2016.0</td>\n",
       "      <td>9.0</td>\n",
       "      <td>3.0</td>\n",
       "      <td>247.0</td>\n",
       "      <td>6.0</td>\n",
       "      <td>12.0</td>\n",
       "    </tr>\n",
       "    <tr>\n",
       "      <th>4</th>\n",
       "      <td>4</td>\n",
       "      <td>Organic Search</td>\n",
       "      <td>20160902</td>\n",
       "      <td>27294437909732085</td>\n",
       "      <td>27294437909732085_1472822600</td>\n",
       "      <td>Not Socially Engaged</td>\n",
       "      <td>1472822600</td>\n",
       "      <td>2</td>\n",
       "      <td>1472822600</td>\n",
       "      <td>mobile</td>\n",
       "      <td>...</td>\n",
       "      <td>(55.378051, -3.435973)</td>\n",
       "      <td>('BST', 1.0)</td>\n",
       "      <td>2016-09-02 13:23:20+00:00</td>\n",
       "      <td>2016-09-02 14:23:20+01:00</td>\n",
       "      <td>2016.0</td>\n",
       "      <td>9.0</td>\n",
       "      <td>2.0</td>\n",
       "      <td>246.0</td>\n",
       "      <td>5.0</td>\n",
       "      <td>14.0</td>\n",
       "    </tr>\n",
       "  </tbody>\n",
       "</table>\n",
       "<p>5 rows × 45 columns</p>\n",
       "</div>"
      ],
      "text/plain": [
       "   Unnamed: 0 channelGrouping      date        fullVisitorId  \\\n",
       "0           0  Organic Search  20160902  1131660440785968503   \n",
       "1           1  Organic Search  20160902   377306020877927890   \n",
       "2           2  Organic Search  20160902  3895546263509774583   \n",
       "3           3  Organic Search  20160902  4763447161404445595   \n",
       "4           4  Organic Search  20160902    27294437909732085   \n",
       "\n",
       "                        sessionId  socialEngagementType     visitId  \\\n",
       "0  1131660440785968503_1472830385  Not Socially Engaged  1472830385   \n",
       "1   377306020877927890_1472880147  Not Socially Engaged  1472880147   \n",
       "2  3895546263509774583_1472865386  Not Socially Engaged  1472865386   \n",
       "3  4763447161404445595_1472881213  Not Socially Engaged  1472881213   \n",
       "4    27294437909732085_1472822600  Not Socially Engaged  1472822600   \n",
       "\n",
       "   visitNumber  visitStartTime device_deviceCategory    ...      \\\n",
       "0            1      1472830385               desktop    ...       \n",
       "1            1      1472880147               desktop    ...       \n",
       "2            1      1472865386               desktop    ...       \n",
       "3            1      1472881213               desktop    ...       \n",
       "4            2      1472822600                mobile    ...       \n",
       "\n",
       "                    lat_lng       timezone           datetime_iso_utc  \\\n",
       "0    (38.423734, 27.142826)   ('+03', 3.0)  2016-09-02 15:33:05+00:00   \n",
       "1  (-25.274398, 133.775136)  ('ACST', 9.5)  2016-09-03 05:22:27+00:00   \n",
       "2  (40.4167754, -3.7037902)  ('CEST', 2.0)  2016-09-03 01:16:26+00:00   \n",
       "3   (-0.789275, 113.921327)   ('WIB', 7.0)  2016-09-03 05:40:13+00:00   \n",
       "4    (55.378051, -3.435973)   ('BST', 1.0)  2016-09-02 13:23:20+00:00   \n",
       "\n",
       "          datetime_iso_local year_local month_local day_local yearday_local  \\\n",
       "0  2016-09-02 18:33:05+03:00     2016.0         9.0       2.0         246.0   \n",
       "1  2016-09-03 14:52:27+09:30     2016.0         9.0       3.0         247.0   \n",
       "2  2016-09-03 03:16:26+02:00     2016.0         9.0       3.0         247.0   \n",
       "3  2016-09-03 12:40:13+07:00     2016.0         9.0       3.0         247.0   \n",
       "4  2016-09-02 14:23:20+01:00     2016.0         9.0       2.0         246.0   \n",
       "\n",
       "  weekday_local hour_local  \n",
       "0           5.0       18.0  \n",
       "1           6.0       14.0  \n",
       "2           6.0        3.0  \n",
       "3           6.0       12.0  \n",
       "4           5.0       14.0  \n",
       "\n",
       "[5 rows x 45 columns]"
      ]
     },
     "execution_count": 3,
     "metadata": {},
     "output_type": "execute_result"
    }
   ],
   "source": [
    "df.head()"
   ]
  },
  {
   "cell_type": "code",
   "execution_count": 4,
   "metadata": {
    "scrolled": true
   },
   "outputs": [
    {
     "data": {
      "text/plain": [
       "Index(['Unnamed: 0', 'channelGrouping', 'date', 'fullVisitorId', 'sessionId',\n",
       "       'socialEngagementType', 'visitId', 'visitNumber', 'visitStartTime',\n",
       "       'device_deviceCategory', 'device_browser', 'device_isMobile',\n",
       "       'device_operatingSystem', 'geoNetwork_subContinent',\n",
       "       'geoNetwork_region', 'geoNetwork_continent', 'geoNetwork_country',\n",
       "       'geoNetwork_city', 'geoNetwork_metro', 'geoNetwork_networkDomain',\n",
       "       'totals_bounces', 'totals_hits', 'totals_newVisits', 'totals_pageviews',\n",
       "       'totals_visits', 'totals_transactionRevenue',\n",
       "       'trafficSource_isTrueDirect', 'trafficSource_keyword',\n",
       "       'trafficSource_source', 'trafficSource_adContent',\n",
       "       'trafficSource_medium', 'trafficSource_referralPath',\n",
       "       'trafficSource_campaign', 'trafficSource_campaignCode', 'city_country',\n",
       "       'lat_lng', 'timezone', 'datetime_iso_utc', 'datetime_iso_local',\n",
       "       'year_local', 'month_local', 'day_local', 'yearday_local',\n",
       "       'weekday_local', 'hour_local'],\n",
       "      dtype='object')"
      ]
     },
     "execution_count": 4,
     "metadata": {},
     "output_type": "execute_result"
    }
   ],
   "source": [
    "df.columns"
   ]
  },
  {
   "cell_type": "code",
   "execution_count": 5,
   "metadata": {
    "scrolled": true
   },
   "outputs": [
    {
     "data": {
      "text/plain": [
       "(11515, 46)"
      ]
     },
     "execution_count": 5,
     "metadata": {},
     "output_type": "execute_result"
    }
   ],
   "source": [
    "#creating actual_revenue column with revenue in dollars\n",
    "df['actual_revenue'] = df.totals_transactionRevenue.map(lambda x: x/1000000)\n",
    "\n",
    "#converting all values in actual_revenue to floats\n",
    "for x in df.actual_revenue:\n",
    "    x = float(x)\n",
    "    \n",
    "\n",
    "type(df.actual_revenue.max())\n",
    "\n",
    "#create a mask for just visits with revenue\n",
    "rev_df = df[df['actual_revenue'] > 0]\n",
    "\n",
    "rev_df.shape"
   ]
  },
  {
   "cell_type": "code",
   "execution_count": 6,
   "metadata": {},
   "outputs": [
    {
     "name": "stdout",
     "output_type": "stream",
     "text": [
      "Total revenue generated is $1540071.24\n"
     ]
    }
   ],
   "source": [
    "total_rev = rev_df.actual_revenue.sum()\n",
    "print('Total revenue generated is $' + str(rev_df.actual_revenue.sum()))"
   ]
  },
  {
   "cell_type": "code",
   "execution_count": 7,
   "metadata": {},
   "outputs": [],
   "source": [
    "#create new dataframe of revenue by customer\n",
    "visitor_df = pd.DataFrame(rev_df.groupby('fullVisitorId')['actual_revenue'].sum())"
   ]
  },
  {
   "cell_type": "code",
   "execution_count": 11,
   "metadata": {},
   "outputs": [
    {
     "data": {
      "text/plain": [
       "77113.43000000001"
      ]
     },
     "execution_count": 11,
     "metadata": {},
     "output_type": "execute_result"
    }
   ],
   "source": [
    "visitor_df.actual_revenue.max()"
   ]
  },
  {
   "cell_type": "code",
   "execution_count": 8,
   "metadata": {},
   "outputs": [
    {
     "data": {
      "text/plain": [
       "1540071.24"
      ]
     },
     "execution_count": 8,
     "metadata": {},
     "output_type": "execute_result"
    }
   ],
   "source": [
    "visitor_df.actual_revenue.sum()"
   ]
  },
  {
   "cell_type": "code",
   "execution_count": 10,
   "metadata": {},
   "outputs": [
    {
     "name": "stdout",
     "output_type": "stream",
     "text": [
      "Top 20% of customers make up 77.94502090695492% of revenue\n",
      "Bottom 80% of customers make up 22.054979093045077% of revenue\n"
     ]
    }
   ],
   "source": [
    "#get top 20% and of customers by revenue\n",
    "#(11515*.2) = 2303\n",
    "\n",
    "top_20 = visitor_df.sort_values('actual_revenue', ascending=False).head(2302)\n",
    "\n",
    "top_20_rev = top_20.actual_revenue.sum()\n",
    "\n",
    "top_20_percent_of_rev = (top_20_rev/total_rev)*100\n",
    "bottom_80_percent_of_rev = 100-((top_20_rev/total_rev)*100)\n",
    "\n",
    "print(f'Top 20% of customers make up {top_20_percent_of_rev}% of revenue')\n",
    "print(f'Bottom 80% of customers make up {bottom_80_percent_of_rev}% of revenue')"
   ]
  },
  {
   "cell_type": "code",
   "execution_count": null,
   "metadata": {},
   "outputs": [],
   "source": []
  }
 ],
 "metadata": {
  "kernelspec": {
   "display_name": "Python 3",
   "language": "python",
   "name": "python3"
  },
  "language_info": {
   "codemirror_mode": {
    "name": "ipython",
    "version": 3
   },
   "file_extension": ".py",
   "mimetype": "text/x-python",
   "name": "python",
   "nbconvert_exporter": "python",
   "pygments_lexer": "ipython3",
   "version": "3.6.5"
  }
 },
 "nbformat": 4,
 "nbformat_minor": 2
}
