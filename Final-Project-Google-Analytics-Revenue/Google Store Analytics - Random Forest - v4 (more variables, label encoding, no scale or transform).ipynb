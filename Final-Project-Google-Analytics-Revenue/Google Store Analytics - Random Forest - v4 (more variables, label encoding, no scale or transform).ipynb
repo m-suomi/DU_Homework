{
 "cells": [
  {
   "cell_type": "markdown",
   "metadata": {},
   "source": [
    "# Machine Learning of the Google Store Analytics Dataset\n",
    "\n",
    "## Random Forest Regressor Models - v4\n",
    "### Version 4: More Input Variables, Label Encoding, No Scaling/Transforming of Data\n",
    "\n",
    "This dataset is provided by the Kaggle competition.  \n",
    "https://www.kaggle.com/c/ga-customer-revenue-prediction\n",
    "\n",
    "We performed some data engineering and datetime feature engineering to get the dataset to the state we wanted.\n",
    "\n",
    "Now we will try a variety of different models and look at their accuracy.  The models we will try:\n",
    "1. Generalized Linear Regression Models\n",
    "    1. Linear Regression (Ordinary Least Squares) Model\n",
    "    2. Linear Lasso Regression Model\n",
    "    3. Linear Ridge Regression Model\n",
    "    4. Linear Elastic Net Regression Model\n",
    "2. Decision Tree Regression - a combination of decision trees and getting continuous data output http://scikit-learn.org/stable/auto_examples/tree/plot_tree_regression.html  http://scikit-learn.org/stable/modules/generated/sklearn.tree.DecisionTreeRegressor.html#sklearn.tree.DecisionTreeRegressor\n",
    "3. Random Forest Regression??\n",
    "4. Neural Networks"
   ]
  },
  {
   "cell_type": "code",
   "execution_count": 72,
   "metadata": {
    "collapsed": false
   },
   "outputs": [],
   "source": [
    "import pandas as pd\n",
    "import numpy as np\n",
    "\n",
    "import pickle\n",
    "\n",
    "from sklearn import preprocessing\n",
    "from sklearn.model_selection import train_test_split\n",
    "from sklearn.metrics import mean_squared_error, r2_score, confusion_matrix\n",
    "\n",
    "from scipy.stats.stats import pearsonr\n",
    "\n",
    "from sklearn.tree import export_graphviz\n",
    "from graphviz import Source\n",
    "from subprocess import call\n",
    "from IPython.display import Image"
   ]
  },
  {
   "cell_type": "code",
   "execution_count": null,
   "metadata": {
    "collapsed": false
   },
   "outputs": [],
   "source": []
  },
  {
   "cell_type": "markdown",
   "metadata": {},
   "source": [
    "## Importing and Pre-processing of the Training Dataset"
   ]
  },
  {
   "cell_type": "code",
   "execution_count": 2,
   "metadata": {
    "collapsed": false
   },
   "outputs": [],
   "source": [
    "# import pickle\n",
    "# with open('data/train_v1_full_data_split.pkl', 'rb') as fp:\n",
    "#     df = pickle.load(fp)"
   ]
  },
  {
   "cell_type": "code",
   "execution_count": 3,
   "metadata": {
    "collapsed": false
   },
   "outputs": [
    {
     "name": "stdout",
     "output_type": "stream",
     "text": [
      "(903652, 44)\n"
     ]
    }
   ],
   "source": [
    "#import the data engineered and feature engineered training dataset\n",
    "df = pd.read_pickle('/home/michael_suomi/Final-Project-Google-Merch-Store/data/train_v1_full_data_split.pkl')\n",
    "print(df.shape)\n",
    "# print(df.columns)"
   ]
  },
  {
   "cell_type": "code",
   "execution_count": 4,
   "metadata": {
    "collapsed": false
   },
   "outputs": [
    {
     "name": "stdout",
     "output_type": "stream",
     "text": [
      "(903652, 43)\n"
     ]
    }
   ],
   "source": [
    "### DROP COLUMNS NOT IN FINAL TEST DATA ###\n",
    "#the test dataset does not have the 'trafficSource_campaignCode' column, so drop that from our training set too\n",
    "df.drop('trafficSource_campaignCode', axis=1, inplace=True)\n",
    "print(df.shape)\n",
    "# print(df.columns)\n",
    "# df.head(3)"
   ]
  },
  {
   "cell_type": "code",
   "execution_count": 5,
   "metadata": {
    "collapsed": true
   },
   "outputs": [],
   "source": [
    "### CHANGE TRANSACTION REVENUE FROM NANs to 0 AND CHANGE to FLOAT TYPE (some are strings)###\n",
    "df.totals_transactionRevenue.fillna(0, inplace=True)\n",
    "df.totals_transactionRevenue = df.totals_transactionRevenue.astype(dtype=float)\n",
    "\n",
    "### CHANGE OTHER STRINGS TO INTS/FLOATS WHERE NEEDED ###\n",
    "#stick to floats rather than ints since a np.nan is a float object\n",
    "df.totals_bounces = df.totals_bounces.astype(dtype=float)\n",
    "df.totals_hits = df.totals_hits.astype(dtype=float)\n",
    "df.totals_newVisits = df.totals_newVisits.astype(dtype=float)\n",
    "df.totals_pageviews = df.totals_pageviews.astype(dtype=float)\n",
    "df.totals_visits = df.totals_visits.astype(dtype=float)\n",
    "\n",
    "### CONVERT NANs in bounces, newVisits to 0 values ###\n",
    "#the blank NAN values for these columns imply a 0 value meaning 0 newVisits or 0 bounces\n",
    "df.totals_bounces.fillna(0, inplace=True)\n",
    "df.totals_newVisits.fillna(0, inplace=True)\n",
    "# df.totals_visits.fillna(0, inplace=True) #there shouldn't be anyone with 0 visits (they've at least visited once or woulnd't be recorded)"
   ]
  },
  {
   "cell_type": "code",
   "execution_count": 6,
   "metadata": {
    "collapsed": true
   },
   "outputs": [],
   "source": [
    "#### REVENUE IS DOLLARS * 10^6, NOT EXPONENTIAL LIKE WE THOUGHT ####\n",
    "#### SINCE THE REVENUE IS SCALED UP BY A CONSTANT, NO NEED TO ADJUST FOR LIN REGRESS MODEL ####\n",
    "# ### CONVERT TRANSACTION REVENUE TO DOLLARS (instead of the e^dollars_revenue) ###\n",
    "# df['totals_transactionRevenue_dollars'] = df.totals_transactionRevenue.map(lambda x:\n",
    "#                                                                             np.log1p(x))"
   ]
  },
  {
   "cell_type": "code",
   "execution_count": 7,
   "metadata": {
    "collapsed": false,
    "scrolled": false
   },
   "outputs": [
    {
     "name": "stdout",
     "output_type": "stream",
     "text": [
      "(903652, 43)\n",
      "Index(['channelGrouping', 'date', 'fullVisitorId', 'sessionId',\n",
      "       'socialEngagementType', 'visitId', 'visitNumber', 'visitStartTime',\n",
      "       'device_deviceCategory', 'device_browser', 'device_isMobile',\n",
      "       'device_operatingSystem', 'geoNetwork_subContinent',\n",
      "       'geoNetwork_region', 'geoNetwork_continent', 'geoNetwork_country',\n",
      "       'geoNetwork_city', 'geoNetwork_metro', 'geoNetwork_networkDomain',\n",
      "       'totals_bounces', 'totals_hits', 'totals_newVisits', 'totals_pageviews',\n",
      "       'totals_visits', 'totals_transactionRevenue',\n",
      "       'trafficSource_isTrueDirect', 'trafficSource_keyword',\n",
      "       'trafficSource_source', 'trafficSource_adContent',\n",
      "       'trafficSource_medium', 'trafficSource_referralPath',\n",
      "       'trafficSource_campaign', 'city_country', 'lat_lng', 'timezone',\n",
      "       'datetime_iso_utc', 'datetime_iso_local', 'year_local', 'month_local',\n",
      "       'day_local', 'yearday_local', 'weekday_local', 'hour_local'],\n",
      "      dtype='object')\n"
     ]
    },
    {
     "data": {
      "text/html": [
       "<div>\n",
       "<style scoped>\n",
       "    .dataframe tbody tr th:only-of-type {\n",
       "        vertical-align: middle;\n",
       "    }\n",
       "\n",
       "    .dataframe tbody tr th {\n",
       "        vertical-align: top;\n",
       "    }\n",
       "\n",
       "    .dataframe thead th {\n",
       "        text-align: right;\n",
       "    }\n",
       "</style>\n",
       "<table border=\"1\" class=\"dataframe\">\n",
       "  <thead>\n",
       "    <tr style=\"text-align: right;\">\n",
       "      <th></th>\n",
       "      <th>channelGrouping</th>\n",
       "      <th>date</th>\n",
       "      <th>fullVisitorId</th>\n",
       "      <th>sessionId</th>\n",
       "      <th>socialEngagementType</th>\n",
       "      <th>visitId</th>\n",
       "      <th>visitNumber</th>\n",
       "      <th>visitStartTime</th>\n",
       "      <th>device_deviceCategory</th>\n",
       "      <th>device_browser</th>\n",
       "      <th>...</th>\n",
       "      <th>lat_lng</th>\n",
       "      <th>timezone</th>\n",
       "      <th>datetime_iso_utc</th>\n",
       "      <th>datetime_iso_local</th>\n",
       "      <th>year_local</th>\n",
       "      <th>month_local</th>\n",
       "      <th>day_local</th>\n",
       "      <th>yearday_local</th>\n",
       "      <th>weekday_local</th>\n",
       "      <th>hour_local</th>\n",
       "    </tr>\n",
       "  </thead>\n",
       "  <tbody>\n",
       "    <tr>\n",
       "      <th>0</th>\n",
       "      <td>Organic Search</td>\n",
       "      <td>20160902</td>\n",
       "      <td>1131660440785968503</td>\n",
       "      <td>1131660440785968503_1472830385</td>\n",
       "      <td>Not Socially Engaged</td>\n",
       "      <td>1472830385</td>\n",
       "      <td>1</td>\n",
       "      <td>1472830385</td>\n",
       "      <td>desktop</td>\n",
       "      <td>Chrome</td>\n",
       "      <td>...</td>\n",
       "      <td>(38.423734, 27.142826)</td>\n",
       "      <td>(+03, 3.0)</td>\n",
       "      <td>2016-09-02 15:33:05+00:00</td>\n",
       "      <td>2016-09-02 18:33:05+03:00</td>\n",
       "      <td>2016.0</td>\n",
       "      <td>9.0</td>\n",
       "      <td>2.0</td>\n",
       "      <td>246.0</td>\n",
       "      <td>5.0</td>\n",
       "      <td>18.0</td>\n",
       "    </tr>\n",
       "    <tr>\n",
       "      <th>1</th>\n",
       "      <td>Organic Search</td>\n",
       "      <td>20160902</td>\n",
       "      <td>377306020877927890</td>\n",
       "      <td>377306020877927890_1472880147</td>\n",
       "      <td>Not Socially Engaged</td>\n",
       "      <td>1472880147</td>\n",
       "      <td>1</td>\n",
       "      <td>1472880147</td>\n",
       "      <td>desktop</td>\n",
       "      <td>Firefox</td>\n",
       "      <td>...</td>\n",
       "      <td>(-25.274398, 133.775136)</td>\n",
       "      <td>(ACST, 9.5)</td>\n",
       "      <td>2016-09-03 05:22:27+00:00</td>\n",
       "      <td>2016-09-03 14:52:27+09:30</td>\n",
       "      <td>2016.0</td>\n",
       "      <td>9.0</td>\n",
       "      <td>3.0</td>\n",
       "      <td>247.0</td>\n",
       "      <td>6.0</td>\n",
       "      <td>14.0</td>\n",
       "    </tr>\n",
       "    <tr>\n",
       "      <th>2</th>\n",
       "      <td>Organic Search</td>\n",
       "      <td>20160902</td>\n",
       "      <td>3895546263509774583</td>\n",
       "      <td>3895546263509774583_1472865386</td>\n",
       "      <td>Not Socially Engaged</td>\n",
       "      <td>1472865386</td>\n",
       "      <td>1</td>\n",
       "      <td>1472865386</td>\n",
       "      <td>desktop</td>\n",
       "      <td>Chrome</td>\n",
       "      <td>...</td>\n",
       "      <td>(40.4167754, -3.7037902)</td>\n",
       "      <td>(CEST, 2.0)</td>\n",
       "      <td>2016-09-03 01:16:26+00:00</td>\n",
       "      <td>2016-09-03 03:16:26+02:00</td>\n",
       "      <td>2016.0</td>\n",
       "      <td>9.0</td>\n",
       "      <td>3.0</td>\n",
       "      <td>247.0</td>\n",
       "      <td>6.0</td>\n",
       "      <td>3.0</td>\n",
       "    </tr>\n",
       "  </tbody>\n",
       "</table>\n",
       "<p>3 rows × 43 columns</p>\n",
       "</div>"
      ],
      "text/plain": [
       "  channelGrouping      date        fullVisitorId  \\\n",
       "0  Organic Search  20160902  1131660440785968503   \n",
       "1  Organic Search  20160902   377306020877927890   \n",
       "2  Organic Search  20160902  3895546263509774583   \n",
       "\n",
       "                        sessionId  socialEngagementType     visitId  \\\n",
       "0  1131660440785968503_1472830385  Not Socially Engaged  1472830385   \n",
       "1   377306020877927890_1472880147  Not Socially Engaged  1472880147   \n",
       "2  3895546263509774583_1472865386  Not Socially Engaged  1472865386   \n",
       "\n",
       "   visitNumber  visitStartTime device_deviceCategory device_browser  \\\n",
       "0            1      1472830385               desktop         Chrome   \n",
       "1            1      1472880147               desktop        Firefox   \n",
       "2            1      1472865386               desktop         Chrome   \n",
       "\n",
       "      ...                       lat_lng     timezone  \\\n",
       "0     ...        (38.423734, 27.142826)   (+03, 3.0)   \n",
       "1     ...      (-25.274398, 133.775136)  (ACST, 9.5)   \n",
       "2     ...      (40.4167754, -3.7037902)  (CEST, 2.0)   \n",
       "\n",
       "            datetime_iso_utc         datetime_iso_local year_local  \\\n",
       "0  2016-09-02 15:33:05+00:00  2016-09-02 18:33:05+03:00     2016.0   \n",
       "1  2016-09-03 05:22:27+00:00  2016-09-03 14:52:27+09:30     2016.0   \n",
       "2  2016-09-03 01:16:26+00:00  2016-09-03 03:16:26+02:00     2016.0   \n",
       "\n",
       "  month_local day_local yearday_local weekday_local  hour_local  \n",
       "0         9.0       2.0         246.0           5.0        18.0  \n",
       "1         9.0       3.0         247.0           6.0        14.0  \n",
       "2         9.0       3.0         247.0           6.0         3.0  \n",
       "\n",
       "[3 rows x 43 columns]"
      ]
     },
     "execution_count": 7,
     "metadata": {},
     "output_type": "execute_result"
    }
   ],
   "source": [
    "### VIEW THE DATA BEFORE LABEL ENCODING ###\n",
    "print(df.shape)\n",
    "print(df.columns)\n",
    "df.head(3)"
   ]
  },
  {
   "cell_type": "code",
   "execution_count": 8,
   "metadata": {
    "collapsed": false
   },
   "outputs": [
    {
     "data": {
      "text/html": [
       "<div>\n",
       "<style scoped>\n",
       "    .dataframe tbody tr th:only-of-type {\n",
       "        vertical-align: middle;\n",
       "    }\n",
       "\n",
       "    .dataframe tbody tr th {\n",
       "        vertical-align: top;\n",
       "    }\n",
       "\n",
       "    .dataframe thead th {\n",
       "        text-align: right;\n",
       "    }\n",
       "</style>\n",
       "<table border=\"1\" class=\"dataframe\">\n",
       "  <thead>\n",
       "    <tr style=\"text-align: right;\">\n",
       "      <th></th>\n",
       "      <th>date</th>\n",
       "      <th>visitId</th>\n",
       "      <th>visitNumber</th>\n",
       "      <th>visitStartTime</th>\n",
       "      <th>totals_bounces</th>\n",
       "      <th>totals_hits</th>\n",
       "      <th>totals_newVisits</th>\n",
       "      <th>totals_pageviews</th>\n",
       "      <th>totals_visits</th>\n",
       "      <th>totals_transactionRevenue</th>\n",
       "      <th>year_local</th>\n",
       "      <th>month_local</th>\n",
       "      <th>day_local</th>\n",
       "      <th>yearday_local</th>\n",
       "      <th>weekday_local</th>\n",
       "      <th>hour_local</th>\n",
       "    </tr>\n",
       "  </thead>\n",
       "  <tbody>\n",
       "    <tr>\n",
       "      <th>count</th>\n",
       "      <td>9.036520e+05</td>\n",
       "      <td>9.036520e+05</td>\n",
       "      <td>903652.000000</td>\n",
       "      <td>9.036520e+05</td>\n",
       "      <td>903652.000000</td>\n",
       "      <td>903652.000000</td>\n",
       "      <td>903652.000000</td>\n",
       "      <td>903552.000000</td>\n",
       "      <td>903652.0</td>\n",
       "      <td>9.036520e+05</td>\n",
       "      <td>902175.000000</td>\n",
       "      <td>902175.000000</td>\n",
       "      <td>902175.000000</td>\n",
       "      <td>902175.000000</td>\n",
       "      <td>902175.000000</td>\n",
       "      <td>902175.000000</td>\n",
       "    </tr>\n",
       "    <tr>\n",
       "      <th>mean</th>\n",
       "      <td>2.016589e+07</td>\n",
       "      <td>1.485007e+09</td>\n",
       "      <td>2.264898</td>\n",
       "      <td>1.485007e+09</td>\n",
       "      <td>0.498675</td>\n",
       "      <td>4.596542</td>\n",
       "      <td>0.778020</td>\n",
       "      <td>3.849767</td>\n",
       "      <td>1.0</td>\n",
       "      <td>1.704275e+06</td>\n",
       "      <td>2016.517473</td>\n",
       "      <td>6.990086</td>\n",
       "      <td>15.698499</td>\n",
       "      <td>197.611083</td>\n",
       "      <td>3.739715</td>\n",
       "      <td>13.898355</td>\n",
       "    </tr>\n",
       "    <tr>\n",
       "      <th>std</th>\n",
       "      <td>4.697698e+03</td>\n",
       "      <td>9.022128e+06</td>\n",
       "      <td>9.283740</td>\n",
       "      <td>9.022128e+06</td>\n",
       "      <td>0.499999</td>\n",
       "      <td>9.641442</td>\n",
       "      <td>0.415578</td>\n",
       "      <td>7.025277</td>\n",
       "      <td>0.0</td>\n",
       "      <td>5.277869e+07</td>\n",
       "      <td>0.499695</td>\n",
       "      <td>3.486402</td>\n",
       "      <td>8.824394</td>\n",
       "      <td>106.757146</td>\n",
       "      <td>1.919636</td>\n",
       "      <td>5.806083</td>\n",
       "    </tr>\n",
       "    <tr>\n",
       "      <th>min</th>\n",
       "      <td>2.016080e+07</td>\n",
       "      <td>1.470035e+09</td>\n",
       "      <td>1.000000</td>\n",
       "      <td>1.470035e+09</td>\n",
       "      <td>0.000000</td>\n",
       "      <td>1.000000</td>\n",
       "      <td>0.000000</td>\n",
       "      <td>1.000000</td>\n",
       "      <td>1.0</td>\n",
       "      <td>0.000000e+00</td>\n",
       "      <td>2016.000000</td>\n",
       "      <td>1.000000</td>\n",
       "      <td>1.000000</td>\n",
       "      <td>1.000000</td>\n",
       "      <td>1.000000</td>\n",
       "      <td>0.000000</td>\n",
       "    </tr>\n",
       "    <tr>\n",
       "      <th>25%</th>\n",
       "      <td>2.016103e+07</td>\n",
       "      <td>1.477561e+09</td>\n",
       "      <td>1.000000</td>\n",
       "      <td>1.477561e+09</td>\n",
       "      <td>0.000000</td>\n",
       "      <td>1.000000</td>\n",
       "      <td>1.000000</td>\n",
       "      <td>1.000000</td>\n",
       "      <td>1.0</td>\n",
       "      <td>0.000000e+00</td>\n",
       "      <td>2016.000000</td>\n",
       "      <td>4.000000</td>\n",
       "      <td>8.000000</td>\n",
       "      <td>103.000000</td>\n",
       "      <td>2.000000</td>\n",
       "      <td>10.000000</td>\n",
       "    </tr>\n",
       "    <tr>\n",
       "      <th>50%</th>\n",
       "      <td>2.017011e+07</td>\n",
       "      <td>1.483949e+09</td>\n",
       "      <td>1.000000</td>\n",
       "      <td>1.483949e+09</td>\n",
       "      <td>0.000000</td>\n",
       "      <td>2.000000</td>\n",
       "      <td>1.000000</td>\n",
       "      <td>1.000000</td>\n",
       "      <td>1.0</td>\n",
       "      <td>0.000000e+00</td>\n",
       "      <td>2017.000000</td>\n",
       "      <td>7.000000</td>\n",
       "      <td>16.000000</td>\n",
       "      <td>207.000000</td>\n",
       "      <td>4.000000</td>\n",
       "      <td>14.000000</td>\n",
       "    </tr>\n",
       "    <tr>\n",
       "      <th>75%</th>\n",
       "      <td>2.017042e+07</td>\n",
       "      <td>1.492759e+09</td>\n",
       "      <td>1.000000</td>\n",
       "      <td>1.492759e+09</td>\n",
       "      <td>1.000000</td>\n",
       "      <td>4.000000</td>\n",
       "      <td>1.000000</td>\n",
       "      <td>4.000000</td>\n",
       "      <td>1.0</td>\n",
       "      <td>0.000000e+00</td>\n",
       "      <td>2017.000000</td>\n",
       "      <td>10.000000</td>\n",
       "      <td>23.000000</td>\n",
       "      <td>297.000000</td>\n",
       "      <td>5.000000</td>\n",
       "      <td>18.000000</td>\n",
       "    </tr>\n",
       "    <tr>\n",
       "      <th>max</th>\n",
       "      <td>2.017080e+07</td>\n",
       "      <td>1.501657e+09</td>\n",
       "      <td>395.000000</td>\n",
       "      <td>1.501657e+09</td>\n",
       "      <td>1.000000</td>\n",
       "      <td>500.000000</td>\n",
       "      <td>1.000000</td>\n",
       "      <td>469.000000</td>\n",
       "      <td>1.0</td>\n",
       "      <td>2.312950e+10</td>\n",
       "      <td>2017.000000</td>\n",
       "      <td>12.000000</td>\n",
       "      <td>31.000000</td>\n",
       "      <td>366.000000</td>\n",
       "      <td>7.000000</td>\n",
       "      <td>23.000000</td>\n",
       "    </tr>\n",
       "  </tbody>\n",
       "</table>\n",
       "</div>"
      ],
      "text/plain": [
       "               date       visitId    visitNumber  visitStartTime  \\\n",
       "count  9.036520e+05  9.036520e+05  903652.000000    9.036520e+05   \n",
       "mean   2.016589e+07  1.485007e+09       2.264898    1.485007e+09   \n",
       "std    4.697698e+03  9.022128e+06       9.283740    9.022128e+06   \n",
       "min    2.016080e+07  1.470035e+09       1.000000    1.470035e+09   \n",
       "25%    2.016103e+07  1.477561e+09       1.000000    1.477561e+09   \n",
       "50%    2.017011e+07  1.483949e+09       1.000000    1.483949e+09   \n",
       "75%    2.017042e+07  1.492759e+09       1.000000    1.492759e+09   \n",
       "max    2.017080e+07  1.501657e+09     395.000000    1.501657e+09   \n",
       "\n",
       "       totals_bounces    totals_hits  totals_newVisits  totals_pageviews  \\\n",
       "count   903652.000000  903652.000000     903652.000000     903552.000000   \n",
       "mean         0.498675       4.596542          0.778020          3.849767   \n",
       "std          0.499999       9.641442          0.415578          7.025277   \n",
       "min          0.000000       1.000000          0.000000          1.000000   \n",
       "25%          0.000000       1.000000          1.000000          1.000000   \n",
       "50%          0.000000       2.000000          1.000000          1.000000   \n",
       "75%          1.000000       4.000000          1.000000          4.000000   \n",
       "max          1.000000     500.000000          1.000000        469.000000   \n",
       "\n",
       "       totals_visits  totals_transactionRevenue     year_local    month_local  \\\n",
       "count       903652.0               9.036520e+05  902175.000000  902175.000000   \n",
       "mean             1.0               1.704275e+06    2016.517473       6.990086   \n",
       "std              0.0               5.277869e+07       0.499695       3.486402   \n",
       "min              1.0               0.000000e+00    2016.000000       1.000000   \n",
       "25%              1.0               0.000000e+00    2016.000000       4.000000   \n",
       "50%              1.0               0.000000e+00    2017.000000       7.000000   \n",
       "75%              1.0               0.000000e+00    2017.000000      10.000000   \n",
       "max              1.0               2.312950e+10    2017.000000      12.000000   \n",
       "\n",
       "           day_local  yearday_local  weekday_local     hour_local  \n",
       "count  902175.000000  902175.000000  902175.000000  902175.000000  \n",
       "mean       15.698499     197.611083       3.739715      13.898355  \n",
       "std         8.824394     106.757146       1.919636       5.806083  \n",
       "min         1.000000       1.000000       1.000000       0.000000  \n",
       "25%         8.000000     103.000000       2.000000      10.000000  \n",
       "50%        16.000000     207.000000       4.000000      14.000000  \n",
       "75%        23.000000     297.000000       5.000000      18.000000  \n",
       "max        31.000000     366.000000       7.000000      23.000000  "
      ]
     },
     "execution_count": 8,
     "metadata": {},
     "output_type": "execute_result"
    }
   ],
   "source": [
    "#view the numerical data columns for counts, mean, and min/max\n",
    "#if the standard deviation (std) is zero, that means every value is the same - may want to check that data\n",
    "#and see if need to edit it (since describe ignores NANs for instance, you may need to go back and convert the NANs to a \n",
    "#value that makes sense)\n",
    "df.describe()"
   ]
  },
  {
   "cell_type": "code",
   "execution_count": 9,
   "metadata": {
    "collapsed": false,
    "scrolled": true
   },
   "outputs": [
    {
     "name": "stdout",
     "output_type": "stream",
     "text": [
      "Original Dataframe Shape:  (903652, 43)\n",
      "\n",
      " Converting Column:  channelGrouping\n",
      "(903652, 43)\n",
      "\n",
      " Converting Column:  socialEngagementType\n",
      "(903652, 43)\n",
      "\n",
      " Converting Column:  device_deviceCategory\n",
      "(903652, 43)\n",
      "\n",
      " Converting Column:  device_browser\n",
      "(903652, 43)\n",
      "\n",
      " Converting Column:  device_isMobile\n",
      "(903652, 43)\n",
      "\n",
      " Converting Column:  device_operatingSystem\n",
      "(903652, 43)\n",
      "\n",
      " Converting Column:  geoNetwork_subContinent\n",
      "(903652, 43)\n",
      "\n",
      " Converting Column:  geoNetwork_region\n",
      "(903652, 43)\n",
      "\n",
      " Converting Column:  geoNetwork_continent\n",
      "(903652, 43)\n",
      "\n",
      " Converting Column:  geoNetwork_country\n",
      "(903652, 43)\n",
      "\n",
      " Converting Column:  geoNetwork_city\n",
      "(903652, 43)\n",
      "\n",
      " Converting Column:  geoNetwork_metro\n",
      "(903652, 43)\n",
      "\n",
      " Converting Column:  geoNetwork_networkDomain\n",
      "(903652, 43)\n",
      "\n",
      " Converting Column:  trafficSource_isTrueDirect\n",
      "(903652, 43)\n",
      "\n",
      " Converting Column:  trafficSource_keyword\n",
      "(903652, 43)\n",
      "\n",
      " Converting Column:  trafficSource_source\n",
      "(903652, 43)\n",
      "\n",
      " Converting Column:  trafficSource_adContent\n",
      "(903652, 43)\n",
      "\n",
      " Converting Column:  trafficSource_medium\n",
      "(903652, 43)\n",
      "\n",
      " Converting Column:  trafficSource_referralPath\n",
      "(903652, 43)\n",
      "\n",
      " Converting Column:  trafficSource_campaign\n",
      "(903652, 43)\n"
     ]
    }
   ],
   "source": [
    "### LABEL ENCODING ALL THE CATEGORICAL VARIABLES ###\n",
    "# label encode the categorical variables\n",
    "categorical_cols = ['channelGrouping', 'socialEngagementType', \n",
    "                   'device_deviceCategory', 'device_browser', 'device_isMobile',\n",
    "                   'device_operatingSystem', 'geoNetwork_subContinent',\n",
    "                   'geoNetwork_region', 'geoNetwork_continent', 'geoNetwork_country',\n",
    "                   'geoNetwork_city', 'geoNetwork_metro', 'geoNetwork_networkDomain',\n",
    "                   'trafficSource_isTrueDirect', 'trafficSource_keyword',\n",
    "                   'trafficSource_source', 'trafficSource_adContent',\n",
    "                   'trafficSource_medium', 'trafficSource_referralPath',\n",
    "                   'trafficSource_campaign']\n",
    "\n",
    "print('Original Dataframe Shape: ', df.shape)\n",
    "\n",
    "for col in categorical_cols:\n",
    "    print('\\n Converting Column: ', col)\n",
    "    lbl = preprocessing.LabelEncoder()\n",
    "    lbl.fit(list(df[col].values.astype('str')))\n",
    "    df[col] = lbl.transform(list(df[col].values.astype('str')))\n",
    "    print(df.shape)\n"
   ]
  },
  {
   "cell_type": "code",
   "execution_count": null,
   "metadata": {
    "collapsed": true
   },
   "outputs": [],
   "source": []
  },
  {
   "cell_type": "code",
   "execution_count": null,
   "metadata": {
    "collapsed": true
   },
   "outputs": [],
   "source": []
  },
  {
   "cell_type": "markdown",
   "metadata": {},
   "source": [
    "## Decide what Input Data to Use for X and Split Data via train_test_split\n",
    "For initial runs of the models, try using less input data (by using the ones we think are most predictive)."
   ]
  },
  {
   "cell_type": "code",
   "execution_count": 10,
   "metadata": {
    "collapsed": false
   },
   "outputs": [
    {
     "data": {
      "text/plain": [
       "Index(['channelGrouping', 'date', 'fullVisitorId', 'sessionId',\n",
       "       'socialEngagementType', 'visitId', 'visitNumber', 'visitStartTime',\n",
       "       'device_deviceCategory', 'device_browser', 'device_isMobile',\n",
       "       'device_operatingSystem', 'geoNetwork_subContinent',\n",
       "       'geoNetwork_region', 'geoNetwork_continent', 'geoNetwork_country',\n",
       "       'geoNetwork_city', 'geoNetwork_metro', 'geoNetwork_networkDomain',\n",
       "       'totals_bounces', 'totals_hits', 'totals_newVisits', 'totals_pageviews',\n",
       "       'totals_visits', 'totals_transactionRevenue',\n",
       "       'trafficSource_isTrueDirect', 'trafficSource_keyword',\n",
       "       'trafficSource_source', 'trafficSource_adContent',\n",
       "       'trafficSource_medium', 'trafficSource_referralPath',\n",
       "       'trafficSource_campaign', 'city_country', 'lat_lng', 'timezone',\n",
       "       'datetime_iso_utc', 'datetime_iso_local', 'year_local', 'month_local',\n",
       "       'day_local', 'yearday_local', 'weekday_local', 'hour_local'],\n",
       "      dtype='object')"
      ]
     },
     "execution_count": 10,
     "metadata": {},
     "output_type": "execute_result"
    }
   ],
   "source": [
    "df.columns"
   ]
  },
  {
   "cell_type": "code",
   "execution_count": 11,
   "metadata": {
    "collapsed": false
   },
   "outputs": [
    {
     "name": "stdout",
     "output_type": "stream",
     "text": [
      "\n",
      "Shape of all of our variables being used for the model (before dropping nans):  (903652, 26)\n",
      "\n",
      "Shape of all of our variables being used for the model (after dropping nans):  (902077, 26)\n",
      "\n",
      "Shape of X input variables is:  (902077, 25) \n",
      "Shape of y output variable is:  (902077,)\n"
     ]
    }
   ],
   "source": [
    "### ASSIGN X and y DATA for VARIALBES WE WANT TO USE###\n",
    "\n",
    "# for X data use the initial correlation values and variables that we think are most important to narrow things down\n",
    "# (remember, that the correlation values are just linear correlation values, so this doesn't capture variables\n",
    "# that do have a large influence but might be nonlinear, however, for linear regression models at the least, that\n",
    "# seems like a good metric to start with as the linear models won't be able to capture nonlinear affects well anyways)\n",
    "\n",
    "#INITIAL RUN DECISIONS: as we can see from the initial Pearson correlations, no variables even fall within the range of what\n",
    "#we would consider even low correlations traditionally, so it is doubtful that linear regression models will work well,\n",
    "#but we'll try it out - take roughly top 10 variables, use all one hot encoded columns and also include\n",
    "#weekday_local, month_local, yearday_local, and hour_local since those are features we specifically added to\n",
    "#make our features unique\n",
    "\n",
    "### NARROW DOWN THE CATEGORICAL COLUMNS WANT TO ADD AS X VARIABLE INPUTS ###\n",
    "categorical_columns_x_model = ['device_deviceCategory', 'device_browser', 'device_isMobile',\n",
    "                               'device_operatingSystem', 'geoNetwork_subContinent',\n",
    "                               'geoNetwork_region', 'geoNetwork_continent', 'geoNetwork_country',\n",
    "                               'geoNetwork_city', 'geoNetwork_metro', 'geoNetwork_networkDomain',\n",
    "                               \n",
    "                               'trafficSource_isTrueDirect', \n",
    "                               #'trafficSource_keyword', #too large of feature counts\n",
    "                               'trafficSource_source', \n",
    "                               'trafficSource_adContent',\n",
    "                               'trafficSource_medium', \n",
    "                               #'trafficSource_referralPath',\n",
    "                               'trafficSource_campaign'    \n",
    "                              ]\n",
    "\n",
    "\n",
    "### NARROW DOWN THE NUMERICAL COLUMNS WANT TO ADD TO X VARIABLE INPUTS ###\n",
    "numerical_columns_x_model = ['totals_pageviews', 'totals_hits', 'visitNumber', 'totals_newVisits', 'totals_bounces',\n",
    "                             #'totals_visits', all 1.0 ?need to label encode to capture nans?\n",
    "                             'weekday_local', 'month_local', 'yearday_local', 'hour_local']\n",
    "\n",
    "#create y outputs column name (but do in list form for easy list adding later)\n",
    "column_y_model = ['totals_transactionRevenue']\n",
    "\n",
    "#create the model dataframe that includes chosen x input variables (from numerical and categorical) and y output variable\n",
    "#do this so that can clean the dataframe by dropping all rows that have any nans\n",
    "df_model = df[numerical_columns_x_model + categorical_columns_x_model + column_y_model]\n",
    "\n",
    "print('\\nShape of all of our variables being used for the model (before dropping nans): ', df_model.shape)\n",
    "\n",
    "#for linear regression drop NANs as they can't be interpreted in the regression model - check to make\n",
    "#sure it isn't reducing size of data too much before proceeding\n",
    "df_model = df_model.dropna(axis='index', how='any')\n",
    "print('\\nShape of all of our variables being used for the model (after dropping nans): ', df_model.shape)\n",
    "\n",
    "#add a column to the df_model data of a simple classifier of \"revenue\" or \"no_revenue\" - will use this data point for:\n",
    "#     in the train_test_split model we will use the stratify command to get equal train-test percentages for both revenue\n",
    "#     and no revenue outcomes - I think this will be important since only about 1.3% of all rows actually resulted in \n",
    "#     revenue and not completely sure how randomly selecting will have equal test-train distributions without defining it\n",
    "#     (this may be unnecessary, but better safe than sorry)\n",
    "df_model['revenue_label'] = df_model.totals_transactionRevenue.map(lambda revenue_amount: \n",
    "                                                        'revenue' if revenue_amount > 0 else 'no_revenue')\n",
    "\n",
    "\n",
    "#split out the data we are using for modeling to X and y values\n",
    "columns_X_model = [col for col in list(df_model.columns) if col not in ['totals_transactionRevenue', 'revenue_label']]\n",
    "X_model = df_model[columns_X_model]\n",
    "\n",
    "#don't actually need to reshape the y_model data for decision trees apparently, but narrow it down to only y_values\n",
    "y_model = df_model['totals_transactionRevenue'] #.values.reshape(-1, 1)\n",
    "\n",
    "#put stratify criteria of revenue/no_revenue into its own array, make sure to reshape this as well\n",
    "stratify_criteria_model = df_model['revenue_label'] #.values.reshape(-1, 1)\n",
    "\n",
    "print('\\nShape of X input variables is: ', X_model.shape, '\\nShape of y output variable is: ', y_model.shape)\n"
   ]
  },
  {
   "cell_type": "code",
   "execution_count": null,
   "metadata": {
    "collapsed": true
   },
   "outputs": [],
   "source": []
  },
  {
   "cell_type": "code",
   "execution_count": 12,
   "metadata": {
    "collapsed": false
   },
   "outputs": [
    {
     "name": "stdout",
     "output_type": "stream",
     "text": [
      "Check Shapes of the train-test data splits.\n",
      "\n",
      "X_model_train:  (676557, 25)\n",
      "X_model_test:  (225520, 25)\n",
      "y_model_train:  (676557,)\n",
      "y_model_test:  (225520,)\n",
      "\n",
      "--------------------------------------------------------------------\n",
      "Check that the train-test data split worked along stratify criteria.\n",
      "\n",
      "The df_model data percentages of revenue and no_revenue are:\n",
      "no_revenue    0.987242\n",
      "revenue       0.012758\n",
      "Name: revenue_label, dtype: float64\n",
      "\n",
      "The percentage of model_train data that has revenue is:  0.01275871803853925\n",
      "\n",
      "The percentage of model_test data that has revenue is:  0.012757183398368215\n"
     ]
    }
   ],
   "source": [
    "##### TRAIN-TEST-SPLIT #####\n",
    "\n",
    "### SPLIT THE MODEL DATA ###\n",
    "#split the model data (which is all of the Kaggle Training data) into the model's train/test subsets\n",
    "#(have to do this since Kaggle competition has its own test data, but those actual values are not provided, so can't\n",
    "#actually use that to test our models, just end up comparing our predictions on that test data with their actuals)\n",
    "#use a 75-25 split to start with train-test\n",
    "#also make sure to add stratify_criteria to make sure it is doing a 75-25 split on both website visits that led to \n",
    "#actual sales/revenue and those that did not\n",
    "X_model_train, X_model_test, y_model_train, y_model_test = train_test_split(X_model, y_model,\n",
    "                                                                            test_size=0.25,\n",
    "                                                                            stratify=stratify_criteria_model)\n",
    "#print sizes of the train/test data splits\n",
    "print('Check Shapes of the train-test data splits.\\n')\n",
    "print('X_model_train: ', X_model_train.shape)\n",
    "print('X_model_test: ', X_model_test.shape)\n",
    "print('y_model_train: ', y_model_train.shape)\n",
    "print('y_model_test: ', y_model_test.shape)\n",
    "\n",
    "\n",
    "### VERIFTY THE STRATEFIY COMMAND WORKED ###\n",
    "print('\\n--------------------------------------------------------------------')\n",
    "print('Check that the train-test data split worked along stratify criteria.\\n')\n",
    "\n",
    "# FIRST PRINT OUT TOTAL DF_MODEL PERCENTAGE OF DATA THAT HAS REVENUE #\n",
    "print('The df_model data percentages of revenue and no_revenue are:')\n",
    "#since this data from the df_model is in a series, we can just use pandas value counts\n",
    "print(df_model['revenue_label'].value_counts(normalize=True))\n",
    "\n",
    "# THEN CHECK THE TRAIN DATA #\n",
    "#the train data is now an array, so can't use value_counts, have to use np commands\n",
    "#filter the data to be only y_values that had revenue (rev>0) by using the np.where command\n",
    "#it creates a mask of booleans that you can use to filter your array based on whatever criteria you give it\n",
    "#take the length of this filtered array to figure out how many y_values actually had revenue\n",
    "y_model_train_revenue_count = len(y_model_train.values.reshape(-1, 1)[np.where(y_model_train.values.reshape(-1, 1) > 0)])\n",
    "#calculate the percentage of the y_values that have revenue by taking the revenue count/total count in that dataset \n",
    "#note: this percentage should equal the overall percentage of your data that has revenue if the stratify command is working properly\n",
    "y_model_train_revenue_percent = y_model_train_revenue_count/y_model_train.shape[0]\n",
    "print('\\nThe percentage of model_train data that has revenue is: ', y_model_train_revenue_percent)\n",
    "\n",
    "# THEN CHECK THE TEST DATA #\n",
    "#the test data is now an array, so can't use value_counts, have to use np commands\n",
    "#filter the data to be only y_values that had revenue (rev>0) by using the np.where command\n",
    "#it creates a mask of booleans that you can use to filter your array based on whatever criteria you give it\n",
    "#take the length of this filtered array to figure out how many y_values actually had revenue\n",
    "y_model_test_revenue_count = len(y_model_test.values.reshape(-1, 1)[np.where(y_model_test.values.reshape(-1, 1) > 0)])\n",
    "#calculate the percentage of the y_values that have revenue by taking the revenue count/total count in that dataset \n",
    "#note: this percentage should equal the overall percentage of your data that has revenue if the stratify command is working properly\n",
    "y_model_test_revenue_percent = y_model_test_revenue_count/y_model_test.shape[0]\n",
    "print('\\nThe percentage of model_test data that has revenue is: ', y_model_test_revenue_percent)"
   ]
  },
  {
   "cell_type": "code",
   "execution_count": null,
   "metadata": {
    "collapsed": true
   },
   "outputs": [],
   "source": []
  },
  {
   "cell_type": "code",
   "execution_count": null,
   "metadata": {
    "collapsed": true
   },
   "outputs": [],
   "source": []
  },
  {
   "cell_type": "markdown",
   "metadata": {},
   "source": [
    "# Random Forest v4\n",
    "### Version 4: More Input Variables, Label Encoding, No Scaling/Transforming of Data"
   ]
  },
  {
   "cell_type": "markdown",
   "metadata": {},
   "source": [
    "##### Initial Functions Used for Evaluation of Models\n",
    "These functions are being created to evaluate whether models are even identifying transactions correctly as revenue/no revenue (or even worse if it assigned negative revenue) because beyond the final revenue amount we want predicted, we also don't want predictions of revenue (or negative revenue) for someone that didn't buy anything and had 0 revenue."
   ]
  },
  {
   "cell_type": "code",
   "execution_count": 47,
   "metadata": {
    "collapsed": true
   },
   "outputs": [],
   "source": [
    "#function to define whether the outcome is revenue (when revenue_amt is greater than 0), \n",
    "#no_revenue (when revenue_amt is 0), and neg_revenue (when revenue_amt is less than 0)\n",
    "def revenue_norevenue_negrevenue(revenue_amt):\n",
    "    if revenue_amt > 0:\n",
    "        return 'revenue'\n",
    "    elif revenue_amt == 0:\n",
    "        return 'no_revenue'\n",
    "    elif revenue_amt < 0:\n",
    "        return 'neg_revenue'"
   ]
  },
  {
   "cell_type": "code",
   "execution_count": 57,
   "metadata": {
    "collapsed": true
   },
   "outputs": [],
   "source": [
    "### CREATE A FUNCTION THAT EVALUATES THE REVENUE OR NO_REVENUE ACCURACY ###\n",
    "#an important part of this model is to make sure that only people that actually performed a final transaction are \n",
    "#getting a revenue prediction\n",
    "#so calculate the percentages of each outcome in a confusion matrix using sklearn.metrics.confusion_matrix:\n",
    "# --True Positive: Revenue_actual & Revenue_predicted\n",
    "# --True Negative: No_Revenue_actual & No_Revenue_predicted\n",
    "# --False Negative: Revenue_actual & No_Revenue_predicted\n",
    "# --False Positive: No_Revenue_actual & Revenue_predicted\n",
    "\n",
    "#inputs of y_revenue_true, y_revenue_predicted are the actual revenue amount arrays,\n",
    "#we will convert to labels\n",
    "def evaluate_revenue_confusion_matrix(y_revenue_true, y_revenue_predicted):\n",
    "    df_revenue_eval = pd.DataFrame(data={'revenue_actual': y_revenue_true, #y_revenue_true.reshape(-1),\n",
    "                       'revenue_prediction': y_revenue_predicted}) #y_revenue_predicted.reshape(-1)})\n",
    "    \n",
    "    df_revenue_eval['revenue_label_actual'] = df_revenue_eval.revenue_actual.map(revenue_norevenue_negrevenue)\n",
    "    \n",
    "    df_revenue_eval['revenue_label_prediction'] = df_revenue_eval.revenue_prediction.map(revenue_norevenue_negrevenue)\n",
    "    \n",
    "    confusion_matrix_revenue = confusion_matrix(df_revenue_eval.revenue_label_actual,\n",
    "                                                 df_revenue_eval.revenue_label_prediction,\n",
    "                                                 labels=['revenue', 'no_revenue', 'neg_revenue'])\n",
    "    \n",
    "    print('Confusion Matrix of revenue/no_revenue/neg_revenue: \\n')\n",
    "    #use scikit learns confusion matrix (the diagonal indicates true hits, outside of that is the false hits)\n",
    "    print(confusion_matrix_revenue)\n",
    "    return confusion_matrix_revenue"
   ]
  },
  {
   "cell_type": "code",
   "execution_count": 71,
   "metadata": {
    "collapsed": false
   },
   "outputs": [],
   "source": [
    "confusion_matrix?"
   ]
  },
  {
   "cell_type": "code",
   "execution_count": 49,
   "metadata": {
    "collapsed": true
   },
   "outputs": [],
   "source": [
    "#function that saves the machine learning model to a pickle, so we can extract it later\n",
    "#input of file_name_path, make sure it includes extension of .pkl\n",
    "def save_model_pickle(scikit_model, file_name_path):\n",
    "    filename = file_name_path\n",
    "    pickle.dump(scikit_model, open(filename, 'wb'))\n",
    "    print(\"Scikit Model saved to {}\".format(filename))"
   ]
  },
  {
   "cell_type": "code",
   "execution_count": null,
   "metadata": {
    "collapsed": true
   },
   "outputs": [],
   "source": []
  },
  {
   "cell_type": "markdown",
   "metadata": {},
   "source": [
    "## Random Forest Regressor: n_estimators=5"
   ]
  },
  {
   "cell_type": "code",
   "execution_count": 20,
   "metadata": {
    "collapsed": true
   },
   "outputs": [],
   "source": [
    "from sklearn.ensemble import RandomForestRegressor"
   ]
  },
  {
   "cell_type": "code",
   "execution_count": 17,
   "metadata": {
    "collapsed": false,
    "scrolled": true
   },
   "outputs": [
    {
     "name": "stdout",
     "output_type": "stream",
     "text": [
      "[  9.81992528e-02   8.46820723e-02   3.75061041e-01   1.10684684e-03\n",
      "   1.82770240e-06   4.20242271e-02   2.60649095e-02   1.51921022e-01\n",
      "   5.33903949e-02   7.41951426e-04   1.18857772e-03   2.39049887e-03\n",
      "   1.47302610e-02   1.21302179e-03   9.30028138e-03   4.32009803e-03\n",
      "   2.94581091e-03   3.89920427e-02   1.26632420e-02   4.63694253e-02\n",
      "   3.74277193e-03   1.59213106e-02   5.46020042e-04   1.15691043e-02\n",
      "   9.13987313e-04]\n"
     ]
    }
   ],
   "source": [
    "regr = RandomForestRegressor(#max_depth=10, \n",
    "                             #random_state=0,\n",
    "                              n_estimators=5)\n",
    "regr.fit(X_model_train, y_model_train)\n",
    "print(regr.feature_importances_)"
   ]
  },
  {
   "cell_type": "code",
   "execution_count": 18,
   "metadata": {
    "collapsed": false
   },
   "outputs": [
    {
     "data": {
      "text/plain": [
       "[('totals_pageviews', 0.098199252805627857),\n",
       " ('totals_hits', 0.084682072341030118),\n",
       " ('visitNumber', 0.37506104114211769),\n",
       " ('totals_newVisits', 0.0011068468353414881),\n",
       " ('totals_bounces', 1.8277024044120025e-06),\n",
       " ('weekday_local', 0.042024227118661057),\n",
       " ('month_local', 0.026064909451127403),\n",
       " ('yearday_local', 0.15192102230583568),\n",
       " ('hour_local', 0.053390394917195952),\n",
       " ('device_deviceCategory', 0.00074195142609456244),\n",
       " ('device_browser', 0.0011885777248412325),\n",
       " ('device_isMobile', 0.0023904988658957193),\n",
       " ('device_operatingSystem', 0.014730261034482378),\n",
       " ('geoNetwork_subContinent', 0.001213021794480184),\n",
       " ('geoNetwork_region', 0.009300281376086383),\n",
       " ('geoNetwork_continent', 0.0043200980300574102),\n",
       " ('geoNetwork_country', 0.0029458109125432589),\n",
       " ('geoNetwork_city', 0.038992042692795291),\n",
       " ('geoNetwork_metro', 0.012663242021704196),\n",
       " ('geoNetwork_networkDomain', 0.046369425303767989),\n",
       " ('trafficSource_isTrueDirect', 0.0037427719302544375),\n",
       " ('trafficSource_source', 0.015921310606561687),\n",
       " ('trafficSource_adContent', 0.00054602004186693335),\n",
       " ('trafficSource_medium', 0.011569104306716049),\n",
       " ('trafficSource_campaign', 0.00091398731251054381)]"
      ]
     },
     "execution_count": 18,
     "metadata": {},
     "output_type": "execute_result"
    }
   ],
   "source": [
    "#show the X columns input and their associated feature importance\n",
    "list(zip(X_model_train.columns, regr.feature_importances_))"
   ]
  },
  {
   "cell_type": "code",
   "execution_count": 19,
   "metadata": {
    "collapsed": false
   },
   "outputs": [
    {
     "name": "stdout",
     "output_type": "stream",
     "text": [
      "[ 0.  0.  0. ...,  0.  0.  0.]\n"
     ]
    }
   ],
   "source": [
    "y_model_test_predict = regr.predict(X_model_test)\n",
    "print(y_model_test_predict)"
   ]
  },
  {
   "cell_type": "code",
   "execution_count": 20,
   "metadata": {
    "collapsed": false
   },
   "outputs": [
    {
     "name": "stdout",
     "output_type": "stream",
     "text": [
      "Confusion Matrix of revenue/no_revenue/neg_revenue: \n",
      "\n",
      "[[  2273    604      0]\n",
      " [  7132 215511      0]\n",
      " [     0      0      0]]\n"
     ]
    }
   ],
   "source": [
    "evaluate_revenue_confusion_matrix(y_model_test, y_model_test_predict)"
   ]
  },
  {
   "cell_type": "code",
   "execution_count": 33,
   "metadata": {
    "collapsed": false
   },
   "outputs": [
    {
     "name": "stdout",
     "output_type": "stream",
     "text": [
      "0.9656970556935084\n"
     ]
    }
   ],
   "source": [
    "percent_accuracy = (2273 + 215511)/(2273 + 215511 + 604 + 7132)\n",
    "print(percent_accuracy)"
   ]
  },
  {
   "cell_type": "code",
   "execution_count": 22,
   "metadata": {
    "collapsed": false,
    "scrolled": true
   },
   "outputs": [
    {
     "name": "stdout",
     "output_type": "stream",
     "text": [
      "Mean Squared Error: 2539945397067719.0 \n",
      "R-squared: -0.5065226377445373 \n",
      "Correlation: nan\n"
     ]
    },
    {
     "name": "stderr",
     "output_type": "stream",
     "text": [
      "/home/michael_suomi/anaconda3/lib/python3.5/site-packages/ipykernel/__main__.py:9: RuntimeWarning: invalid value encountered in sqrt\n"
     ]
    }
   ],
   "source": [
    "### EVALUATE THE MODEL USING MSE, R2, CORREL ###\n",
    "\n",
    "#MSE function syntax: mean_squared_error(y_true, y_pred, sample_weight=None, multioutput=’uniform_average’)\n",
    "MSE = mean_squared_error(y_model_test, y_model_test_predict)\n",
    "\n",
    "#R2 function syntax: r2_score(y_true, y_pred, sample_weight=None, multioutput=’uniform_average’)\n",
    "r2 = r2_score(y_model_test, y_model_test_predict)\n",
    "\n",
    "print(\"Mean Squared Error: {} \\nR-squared: {} \\nCorrelation: {}\".format(MSE, r2, np.sqrt(r2)))"
   ]
  },
  {
   "cell_type": "code",
   "execution_count": 25,
   "metadata": {
    "collapsed": false
   },
   "outputs": [
    {
     "name": "stdout",
     "output_type": "stream",
     "text": [
      "Scikit Model saved to model_pickles/random_forest_v4_n_estimators_5.pkl\n"
     ]
    }
   ],
   "source": [
    "save_model_pickle(regr, 'model_pickles/random_forest_v4_n_estimators_5.pkl')"
   ]
  },
  {
   "cell_type": "code",
   "execution_count": null,
   "metadata": {
    "collapsed": true
   },
   "outputs": [],
   "source": []
  },
  {
   "cell_type": "code",
   "execution_count": null,
   "metadata": {
    "collapsed": true
   },
   "outputs": [],
   "source": []
  },
  {
   "cell_type": "markdown",
   "metadata": {},
   "source": [
    "## Random Forest Regressor: n_estimators=50"
   ]
  },
  {
   "cell_type": "code",
   "execution_count": 26,
   "metadata": {
    "collapsed": false
   },
   "outputs": [
    {
     "name": "stdout",
     "output_type": "stream",
     "text": [
      "[  1.16117952e-01   1.34858340e-01   2.82527793e-01   1.73286065e-03\n",
      "   5.77248012e-07   2.85022533e-02   3.64625642e-02   1.35582719e-01\n",
      "   8.76960466e-02   9.51006878e-04   2.87269979e-03   7.86133616e-04\n",
      "   2.06731379e-02   1.29495959e-03   1.32098477e-02   3.02374728e-03\n",
      "   4.81323811e-03   2.12507547e-02   1.10107876e-02   4.02959893e-02\n",
      "   9.23191279e-03   2.59194118e-02   5.98554498e-04   1.98458111e-02\n",
      "   7.40901862e-04]\n"
     ]
    }
   ],
   "source": [
    "regr = RandomForestRegressor(#max_depth=10, \n",
    "                             #random_state=0,\n",
    "                              n_estimators=50)\n",
    "regr.fit(X_model_train, y_model_train)\n",
    "print(regr.feature_importances_)"
   ]
  },
  {
   "cell_type": "code",
   "execution_count": 27,
   "metadata": {
    "collapsed": false
   },
   "outputs": [
    {
     "data": {
      "text/plain": [
       "[('totals_pageviews', 0.11611795188890861),\n",
       " ('totals_hits', 0.1348583396208797),\n",
       " ('visitNumber', 0.28252779291959107),\n",
       " ('totals_newVisits', 0.0017328606479875433),\n",
       " ('totals_bounces', 5.7724801183710757e-07),\n",
       " ('weekday_local', 0.028502253252008149),\n",
       " ('month_local', 0.036462564185786077),\n",
       " ('yearday_local', 0.13558271910396993),\n",
       " ('hour_local', 0.087696046639030023),\n",
       " ('device_deviceCategory', 0.00095100687837768223),\n",
       " ('device_browser', 0.0028726997902136157),\n",
       " ('device_isMobile', 0.00078613361565670308),\n",
       " ('device_operatingSystem', 0.020673137885513174),\n",
       " ('geoNetwork_subContinent', 0.0012949595876828224),\n",
       " ('geoNetwork_region', 0.013209847661270062),\n",
       " ('geoNetwork_continent', 0.0030237472756852813),\n",
       " ('geoNetwork_country', 0.0048132381131814591),\n",
       " ('geoNetwork_city', 0.021250754707982118),\n",
       " ('geoNetwork_metro', 0.011010787581566397),\n",
       " ('geoNetwork_networkDomain', 0.040295989301168796),\n",
       " ('trafficSource_isTrueDirect', 0.0092319127907511053),\n",
       " ('trafficSource_source', 0.02591941181801042),\n",
       " ('trafficSource_adContent', 0.00059855449778166024),\n",
       " ('trafficSource_medium', 0.019845811127408314),\n",
       " ('trafficSource_campaign', 0.00074090186157737094)]"
      ]
     },
     "execution_count": 27,
     "metadata": {},
     "output_type": "execute_result"
    }
   ],
   "source": [
    "#show the X columns input and their associated feature importance\n",
    "list(zip(X_model_train.columns, regr.feature_importances_))"
   ]
  },
  {
   "cell_type": "code",
   "execution_count": 28,
   "metadata": {
    "collapsed": false
   },
   "outputs": [
    {
     "name": "stdout",
     "output_type": "stream",
     "text": [
      "[ 0.  0.  0. ...,  0.  0.  0.]\n"
     ]
    }
   ],
   "source": [
    "y_model_test_predict = regr.predict(X_model_test)\n",
    "print(y_model_test_predict)"
   ]
  },
  {
   "cell_type": "code",
   "execution_count": 29,
   "metadata": {
    "collapsed": false
   },
   "outputs": [
    {
     "name": "stdout",
     "output_type": "stream",
     "text": [
      "Confusion Matrix of revenue/no_revenue/neg_revenue: \n",
      "\n",
      "[[  2810     67      0]\n",
      " [ 14239 208404      0]\n",
      " [     0      0      0]]\n"
     ]
    }
   ],
   "source": [
    "evaluate_revenue_confusion_matrix(y_model_test, y_model_test_predict)"
   ]
  },
  {
   "cell_type": "code",
   "execution_count": 34,
   "metadata": {
    "collapsed": false
   },
   "outputs": [
    {
     "name": "stdout",
     "output_type": "stream",
     "text": [
      "0.9365643845335225\n"
     ]
    }
   ],
   "source": [
    "percent_accuracy = (2810 + 208404)/(2810 + 208404 + 67 + 14239)\n",
    "print(percent_accuracy)"
   ]
  },
  {
   "cell_type": "code",
   "execution_count": 31,
   "metadata": {
    "collapsed": false
   },
   "outputs": [
    {
     "name": "stdout",
     "output_type": "stream",
     "text": [
      "Mean Squared Error: 1582993607768091.5 \n",
      "R-squared: 0.061075994680548806 \n",
      "Correlation: 0.24713557955209284\n"
     ]
    }
   ],
   "source": [
    "### EVALUATE THE MODEL USING MSE, R2, CORREL ###\n",
    "\n",
    "#MSE function syntax: mean_squared_error(y_true, y_pred, sample_weight=None, multioutput=’uniform_average’)\n",
    "MSE = mean_squared_error(y_model_test, y_model_test_predict)\n",
    "\n",
    "#R2 function syntax: r2_score(y_true, y_pred, sample_weight=None, multioutput=’uniform_average’)\n",
    "r2 = r2_score(y_model_test, y_model_test_predict)\n",
    "\n",
    "print(\"Mean Squared Error: {} \\nR-squared: {} \\nCorrelation: {}\".format(MSE, r2, np.sqrt(r2)))"
   ]
  },
  {
   "cell_type": "code",
   "execution_count": 32,
   "metadata": {
    "collapsed": false
   },
   "outputs": [
    {
     "name": "stdout",
     "output_type": "stream",
     "text": [
      "Scikit Model saved to model_pickles/random_forest_v4_n_estimators_50.pkl\n"
     ]
    }
   ],
   "source": [
    "save_model_pickle(regr, 'model_pickles/random_forest_v4_n_estimators_50.pkl')"
   ]
  },
  {
   "cell_type": "code",
   "execution_count": null,
   "metadata": {
    "collapsed": true
   },
   "outputs": [],
   "source": []
  },
  {
   "cell_type": "code",
   "execution_count": null,
   "metadata": {
    "collapsed": true
   },
   "outputs": [],
   "source": []
  },
  {
   "cell_type": "markdown",
   "metadata": {},
   "source": [
    "## Random Forest Regressor: n_estimators=200"
   ]
  },
  {
   "cell_type": "code",
   "execution_count": 53,
   "metadata": {
    "collapsed": false
   },
   "outputs": [
    {
     "name": "stdout",
     "output_type": "stream",
     "text": [
      "[  1.34868947e-01   1.46237574e-01   2.32262551e-01   1.76938149e-03\n",
      "   6.95492529e-06   3.65888134e-02   2.23218051e-02   1.17347258e-01\n",
      "   1.12177988e-01   2.40316398e-03   2.47972178e-03   1.02205592e-03\n",
      "   2.81124307e-02   1.07431786e-03   1.68456782e-02   3.59291112e-03\n",
      "   5.73471742e-03   2.47302135e-02   1.80483343e-02   3.88717669e-02\n",
      "   2.22396200e-02   1.71325548e-02   5.72667479e-04   1.27611183e-02\n",
      "   7.97454300e-04]\n"
     ]
    }
   ],
   "source": [
    "regr = RandomForestRegressor(#max_depth=10, \n",
    "                             #random_state=0,\n",
    "                             n_estimators=200)\n",
    "regr.fit(X_model_train, y_model_train)\n",
    "print(regr.feature_importances_)"
   ]
  },
  {
   "cell_type": "code",
   "execution_count": 54,
   "metadata": {
    "collapsed": false
   },
   "outputs": [
    {
     "data": {
      "text/plain": [
       "[('totals_pageviews', 0.13486894706792482),\n",
       " ('totals_hits', 0.14623757432406004),\n",
       " ('visitNumber', 0.23226255140983024),\n",
       " ('totals_newVisits', 0.0017693814878450666),\n",
       " ('totals_bounces', 6.9549252907876324e-06),\n",
       " ('weekday_local', 0.036588813382452325),\n",
       " ('month_local', 0.022321805097777276),\n",
       " ('yearday_local', 0.11734725810514775),\n",
       " ('hour_local', 0.11217798756765433),\n",
       " ('device_deviceCategory', 0.0024031639834465688),\n",
       " ('device_browser', 0.0024797217819181551),\n",
       " ('device_isMobile', 0.001022055917851756),\n",
       " ('device_operatingSystem', 0.028112430690201005),\n",
       " ('geoNetwork_subContinent', 0.0010743178641116778),\n",
       " ('geoNetwork_region', 0.016845678241209618),\n",
       " ('geoNetwork_continent', 0.0035929111212731988),\n",
       " ('geoNetwork_country', 0.0057347174241345463),\n",
       " ('geoNetwork_city', 0.024730213547377949),\n",
       " ('geoNetwork_metro', 0.018048334335286475),\n",
       " ('geoNetwork_networkDomain', 0.038871766874547027),\n",
       " ('trafficSource_isTrueDirect', 0.022239619989687504),\n",
       " ('trafficSource_source', 0.017132554762163566),\n",
       " ('trafficSource_adContent', 0.00057266747862715409),\n",
       " ('trafficSource_medium', 0.012761118320022665),\n",
       " ('trafficSource_campaign', 0.00079745430015832133)]"
      ]
     },
     "execution_count": 54,
     "metadata": {},
     "output_type": "execute_result"
    }
   ],
   "source": [
    "#show the X columns input and their associated feature importance\n",
    "list(zip(X_model_train.columns, regr.feature_importances_))"
   ]
  },
  {
   "cell_type": "code",
   "execution_count": 58,
   "metadata": {
    "collapsed": false
   },
   "outputs": [
    {
     "name": "stdout",
     "output_type": "stream",
     "text": [
      "[  337350.        0.        0. ...,        0.        0.  1009650.]\n"
     ]
    }
   ],
   "source": [
    "y_model_test_predict = regr.predict(X_model_test)\n",
    "print(y_model_test_predict)"
   ]
  },
  {
   "cell_type": "code",
   "execution_count": 74,
   "metadata": {
    "collapsed": false
   },
   "outputs": [
    {
     "name": "stdout",
     "output_type": "stream",
     "text": [
      "Confusion Matrix of revenue/no_revenue/neg_revenue: \n",
      "\n",
      "[[  2831     46      0]\n",
      " [ 17813 204830      0]\n",
      " [     0      0      0]]\n"
     ]
    }
   ],
   "source": [
    "confusion_matrix_model = evaluate_revenue_confusion_matrix(y_model_test, y_model_test_predict)"
   ]
  },
  {
   "cell_type": "code",
   "execution_count": 76,
   "metadata": {
    "collapsed": false
   },
   "outputs": [
    {
     "name": "stdout",
     "output_type": "stream",
     "text": [
      "0.920809684285\n"
     ]
    }
   ],
   "source": [
    "### ACCURACY OF REVENUE/NO_REVENUE CATEGORY LABELS ###\n",
    "\n",
    "#use np.sum(array) to sum all the values in the array\n",
    "percent_accuracy = (confusion_matrix_model[0][0] + confusion_matrix_model[1][1])/np.sum(confusion_matrix_model)\n",
    "print(percent_accuracy)"
   ]
  },
  {
   "cell_type": "code",
   "execution_count": 77,
   "metadata": {
    "collapsed": false
   },
   "outputs": [
    {
     "name": "stdout",
     "output_type": "stream",
     "text": [
      "Mean Squared Error: 3192820637130802.0 \n",
      "R-squared: -0.24058010421929543 \n",
      "Correlation: nan\n"
     ]
    },
    {
     "name": "stderr",
     "output_type": "stream",
     "text": [
      "/home/michael_suomi/anaconda3/lib/python3.5/site-packages/ipykernel/__main__.py:9: RuntimeWarning: invalid value encountered in sqrt\n"
     ]
    }
   ],
   "source": [
    "### EVALUATE THE MODEL USING MSE, R2, CORREL ###\n",
    "\n",
    "#MSE function syntax: mean_squared_error(y_true, y_pred, sample_weight=None, multioutput=’uniform_average’)\n",
    "MSE = mean_squared_error(y_model_test, y_model_test_predict)\n",
    "\n",
    "#R2 function syntax: r2_score(y_true, y_pred, sample_weight=None, multioutput=’uniform_average’)\n",
    "r2 = r2_score(y_model_test, y_model_test_predict)\n",
    "\n",
    "print(\"Mean Squared Error: {} \\nR-squared: {} \\nCorrelation: {}\".format(MSE, r2, np.sqrt(r2)))"
   ]
  },
  {
   "cell_type": "code",
   "execution_count": 28,
   "metadata": {
    "collapsed": false
   },
   "outputs": [
    {
     "data": {
      "text/plain": [
       "RandomForestRegressor(bootstrap=True, criterion='mse', max_depth=None,\n",
       "           max_features='auto', max_leaf_nodes=None,\n",
       "           min_impurity_decrease=0.0, min_impurity_split=None,\n",
       "           min_samples_leaf=1, min_samples_split=2,\n",
       "           min_weight_fraction_leaf=0.0, n_estimators=200, n_jobs=None,\n",
       "           oob_score=False, random_state=None, verbose=0, warm_start=False)"
      ]
     },
     "execution_count": 28,
     "metadata": {},
     "output_type": "execute_result"
    }
   ],
   "source": [
    "regr"
   ]
  },
  {
   "cell_type": "code",
   "execution_count": 27,
   "metadata": {
    "collapsed": false
   },
   "outputs": [
    {
     "name": "stdout",
     "output_type": "stream",
     "text": [
      "Scikit Model saved to model_pickles/random_forest_v4_n_estimators_200.pkl\n"
     ]
    }
   ],
   "source": [
    "save_model_pickle(regr, 'model_pickles/random_forest_v4_n_estimators_200.pkl')"
   ]
  },
  {
   "cell_type": "code",
   "execution_count": 29,
   "metadata": {
    "collapsed": false
   },
   "outputs": [
    {
     "name": "stdout",
     "output_type": "stream",
     "text": [
      "Decision Tree Depths of All of Our Random Forests: \n",
      "Min Depth:  29\n",
      "Mean Depth:  33.295\n",
      "Max Depth:  41\n",
      "\n",
      "Decision Tree Depths Distribution: \n",
      "25th/50th/75th Percentiles:  [ 32.  33.  34.]\n"
     ]
    }
   ],
   "source": [
    "### LOOK AT THE DEPTH OF ALL OF OUR DECISION TREES USED IN THE RANDOM FOREST TREES ###\n",
    "#and evaluate the average, min, max and some distributions\n",
    "decision_tree_depths= [estimator.tree_.max_depth for estimator in regr.estimators_] \n",
    "\n",
    "print('Decision Tree Depths of All of Our Random Forests: ')\n",
    "print('Min Depth: ', min(decision_tree_depths))\n",
    "print('Mean Depth: ', np.mean(decision_tree_depths))\n",
    "print('Max Depth: ', max(decision_tree_depths))\n",
    "\n",
    "print('\\nDecision Tree Depths Distribution: ')\n",
    "print('25th/50th/75th Percentiles: ', np.percentile(decision_tree_depths, q=[25, 50, 75]))\n"
   ]
  },
  {
   "cell_type": "code",
   "execution_count": 37,
   "metadata": {
    "collapsed": false
   },
   "outputs": [
    {
     "name": "stdout",
     "output_type": "stream",
     "text": [
      "The example decision tree we are looking at has a maximum depth of:  33\n"
     ]
    }
   ],
   "source": [
    "### VISUALIZE ONE OF THE DECISION TREES IN OUR RANDOM FOREST USING GRAPHVIZ - TRY TO PICK ONE WITH AVERAGE DEPTH OF OUR RF ###\n",
    "#find an individual decision tree (estimator) that has the median depth and try to visualize it to see the\n",
    "#end leaf outputs, etc. to better understand the model\n",
    "\n",
    "#make sure have already imported the following packages (and make sure to install graphivz)\n",
    "# from sklearn.tree import export_graphviz\n",
    "# from subprocess import call\n",
    "# from IPython.display import Image\n",
    "\n",
    "#manually try different estimators_ in list until verify that max_depth does match closely to the mean/median depth\n",
    "decision_tree_avg_depth_example = regr.estimators_[3]\n",
    "print('The example decision tree we are looking at has a maximum depth of: ', decision_tree_avg_depth_example.tree_.max_depth)\n",
    "\n",
    "#export our full tree as a dot file (which is the filetype that graphviz uses)\n",
    "export_graphviz(decision_tree_avg_depth_example, #the tree regressor\n",
    "                out_file='model_pickles/avg_tree_viz_random_forest_v4_n_estimators_200.dot', \n",
    "                feature_names = list(X_model_train.columns),\n",
    "#                 class_names = iris.target_names,\n",
    "                rounded = True, #rounded When set to True, draw node boxes with rounded corners and use Helvetica fonts instead of Times-Roman.\n",
    "                proportion = True, #proportion True changes 'values' and/or 'samples' to be proportions and percentages respectively instead of counts \n",
    "                precision = 2, filled = True,\n",
    "                leaves_parallel = True) #leaves_parallel when set to True, draw all leaf nodes at the bottom of the tree.\n",
    "\n",
    "#export top 5 levels of our tree as a dot file - the full tree representation is massive, so this might help the viz actually run\n",
    "export_graphviz(decision_tree_avg_depth_example, #the tree regressor\n",
    "                out_file='model_pickles/avg_tree_depth5_viz_random_forest_v4_n_estimators_200.dot',\n",
    "                max_depth=5,\n",
    "                feature_names = list(X_model_train.columns),\n",
    "#                 class_names = iris.target_names,\n",
    "                rounded = True, #rounded When set to True, draw node boxes with rounded corners and use Helvetica fonts instead of Times-Roman.\n",
    "                proportion = True, #proportion True changes 'values' and/or 'samples' to be proportions and percentages respectively instead of counts \n",
    "                precision = 2, filled = True,\n",
    "                leaves_parallel = True) #leaves_parallel when set to True, draw all leaf nodes at the bottom of the tree.\n",
    "\n",
    "# VISUALIZE AT www.webgraphviz.com: can visualize the .dot outputs, by coping the .dot file txt into http://www.webgraphviz.com/\n",
    "\n",
    "# # Convert to png using system command (requires Graphviz -unsure how to install this on cloud server)\n",
    "# # ExecutableNotFound: failed to execute ['dot', '-Tsvg'], make sure the Graphviz executables are on your systems' PATH\n",
    "# #option1- try to display top 5 levels with graphviz - \n",
    "#Source.from_file('model_pickles/avg_tree_depth5_viz_random_forest_v3_n_estimators_200.dot')\n",
    "\n",
    "# #option2- Command line syntax call is trying to replicate: !dot -Tpng tree.dot -o tree.png -Gdpi=600\n",
    "# call(['dot', '-Tpng', 'model_pickles/avg_tree_viz_random_forest_v3_n_estimators_200.dot', \n",
    "#       '-o', 'model_pickles/avg_tree_viz_random_forest_v3_n_estimators_200.png', '-Gdpi=600'])\n",
    "\n",
    "# #Display in jupyter notebook\n",
    "# Image(filename = 'model_pickles/avg_tree_viz_random_forest_v3_n_estimators_200.png')"
   ]
  },
  {
   "cell_type": "code",
   "execution_count": null,
   "metadata": {
    "collapsed": true
   },
   "outputs": [],
   "source": []
  },
  {
   "cell_type": "code",
   "execution_count": null,
   "metadata": {
    "collapsed": true
   },
   "outputs": [],
   "source": []
  },
  {
   "cell_type": "markdown",
   "metadata": {},
   "source": [
    "## Random Forest Regressor: n_estimators=200, min_samples_leaf=44\n",
    "Chose min_samples_leaf of 44, which is approximately 0.005 (a half a percent) of the count of revenue transactions in the training dataset.  (approx 900,000 rows x .75 for training set x .013 conversion rate x .005 half a percent chosen arbitrarily)"
   ]
  },
  {
   "cell_type": "code",
   "execution_count": 82,
   "metadata": {
    "collapsed": false
   },
   "outputs": [
    {
     "name": "stdout",
     "output_type": "stream",
     "text": [
      "[  3.13533089e-01   4.81370140e-02   2.66350288e-01   7.50750580e-03\n",
      "   1.52368813e-09   1.67559431e-02   2.49147684e-03   8.01818389e-02\n",
      "   3.80684798e-02   2.09651551e-03   6.46481109e-04   2.98465265e-03\n",
      "   1.75240987e-02   2.11748067e-04   1.79542188e-02   5.16490408e-03\n",
      "   2.23126474e-02   1.16106516e-02   1.37834241e-02   3.10507315e-02\n",
      "   7.19437222e-03   6.66348200e-02   3.12493795e-06   2.77935509e-02\n",
      "   8.42156800e-06]\n"
     ]
    }
   ],
   "source": [
    "regr = RandomForestRegressor(#max_depth=10, \n",
    "                             #random_state=0,\n",
    "                             min_samples_leaf=44,\n",
    "                             n_estimators=200)\n",
    "regr.fit(X_model_train, y_model_train)\n",
    "print(regr.feature_importances_)"
   ]
  },
  {
   "cell_type": "code",
   "execution_count": 83,
   "metadata": {
    "collapsed": false
   },
   "outputs": [
    {
     "data": {
      "text/plain": [
       "[('totals_pageviews', 0.31353308941044206),\n",
       " ('totals_hits', 0.048137013998194193),\n",
       " ('visitNumber', 0.26635028756244433),\n",
       " ('totals_newVisits', 0.0075075057974991581),\n",
       " ('totals_bounces', 1.5236881250606844e-09),\n",
       " ('weekday_local', 0.016755943108781979),\n",
       " ('month_local', 0.0024914768370072646),\n",
       " ('yearday_local', 0.080181838898796903),\n",
       " ('hour_local', 0.038068479781046577),\n",
       " ('device_deviceCategory', 0.0020965155090408665),\n",
       " ('device_browser', 0.00064648110929981276),\n",
       " ('device_isMobile', 0.0029846526481201903),\n",
       " ('device_operatingSystem', 0.01752409873923531),\n",
       " ('geoNetwork_subContinent', 0.00021174806714474931),\n",
       " ('geoNetwork_region', 0.017954218792685182),\n",
       " ('geoNetwork_continent', 0.0051649040843063654),\n",
       " ('geoNetwork_country', 0.022312647379450667),\n",
       " ('geoNetwork_city', 0.011610651587235463),\n",
       " ('geoNetwork_metro', 0.013783424055321547),\n",
       " ('geoNetwork_networkDomain', 0.031050731481780308),\n",
       " ('trafficSource_isTrueDirect', 0.0071943722170881887),\n",
       " ('trafficSource_source', 0.066634820045606794),\n",
       " ('trafficSource_adContent', 3.12493795139555e-06),\n",
       " ('trafficSource_medium', 0.027793550859827737),\n",
       " ('trafficSource_campaign', 8.4215680049895813e-06)]"
      ]
     },
     "execution_count": 83,
     "metadata": {},
     "output_type": "execute_result"
    }
   ],
   "source": [
    "#show the X columns input and their associated feature importance\n",
    "list(zip(X_model_train.columns, regr.feature_importances_))"
   ]
  },
  {
   "cell_type": "code",
   "execution_count": 84,
   "metadata": {
    "collapsed": false
   },
   "outputs": [
    {
     "name": "stdout",
     "output_type": "stream",
     "text": [
      "[ 1653886.86043196        0.                0.         ...,        0.\n",
      "        0.          2196853.46967448]\n"
     ]
    }
   ],
   "source": [
    "y_model_test_predict = regr.predict(X_model_test)\n",
    "print(y_model_test_predict)"
   ]
  },
  {
   "cell_type": "code",
   "execution_count": 85,
   "metadata": {
    "collapsed": false
   },
   "outputs": [
    {
     "name": "stdout",
     "output_type": "stream",
     "text": [
      "Confusion Matrix of revenue/no_revenue/neg_revenue: \n",
      "\n",
      "[[  2869      8      0]\n",
      " [ 35471 187172      0]\n",
      " [     0      0      0]]\n"
     ]
    }
   ],
   "source": [
    "confusion_matrix_model = evaluate_revenue_confusion_matrix(y_model_test, y_model_test_predict)"
   ]
  },
  {
   "cell_type": "code",
   "execution_count": 86,
   "metadata": {
    "collapsed": false
   },
   "outputs": [
    {
     "name": "stdout",
     "output_type": "stream",
     "text": [
      "0.84267914154\n"
     ]
    }
   ],
   "source": [
    "### ACCURACY OF REVENUE/NO_REVENUE CATEGORY LABELS ###\n",
    "\n",
    "#use np.sum(array) to sum all the values in the array\n",
    "percent_accuracy = (confusion_matrix_model[0][0] + confusion_matrix_model[1][1])/np.sum(confusion_matrix_model)\n",
    "print(percent_accuracy)"
   ]
  },
  {
   "cell_type": "code",
   "execution_count": 87,
   "metadata": {
    "collapsed": false
   },
   "outputs": [
    {
     "name": "stdout",
     "output_type": "stream",
     "text": [
      "Mean Squared Error: 2367230724757142.0 \n",
      "R-squared: 0.08020535037965482 \n",
      "Correlation: 0.2832054914362623\n"
     ]
    }
   ],
   "source": [
    "### EVALUATE THE MODEL USING MSE, R2, CORREL ###\n",
    "\n",
    "#MSE function syntax: mean_squared_error(y_true, y_pred, sample_weight=None, multioutput=’uniform_average’)\n",
    "MSE = mean_squared_error(y_model_test, y_model_test_predict)\n",
    "\n",
    "#R2 function syntax: r2_score(y_true, y_pred, sample_weight=None, multioutput=’uniform_average’)\n",
    "r2 = r2_score(y_model_test, y_model_test_predict)\n",
    "\n",
    "print(\"Mean Squared Error: {} \\nR-squared: {} \\nCorrelation: {}\".format(MSE, r2, np.sqrt(r2)))"
   ]
  },
  {
   "cell_type": "code",
   "execution_count": 88,
   "metadata": {
    "collapsed": false
   },
   "outputs": [
    {
     "data": {
      "text/plain": [
       "RandomForestRegressor(bootstrap=True, criterion='mse', max_depth=None,\n",
       "           max_features='auto', max_leaf_nodes=None,\n",
       "           min_impurity_decrease=0.0, min_impurity_split=None,\n",
       "           min_samples_leaf=44, min_samples_split=2,\n",
       "           min_weight_fraction_leaf=0.0, n_estimators=200, n_jobs=None,\n",
       "           oob_score=False, random_state=None, verbose=0, warm_start=False)"
      ]
     },
     "execution_count": 88,
     "metadata": {},
     "output_type": "execute_result"
    }
   ],
   "source": [
    "regr"
   ]
  },
  {
   "cell_type": "code",
   "execution_count": 89,
   "metadata": {
    "collapsed": false
   },
   "outputs": [
    {
     "name": "stdout",
     "output_type": "stream",
     "text": [
      "Scikit Model saved to model_pickles/random_forest_v4_n_estimators_200_min_leaf_44.pkl\n"
     ]
    }
   ],
   "source": [
    "save_model_pickle(regr, 'model_pickles/random_forest_v4_n_estimators_200_min_leaf_44.pkl')"
   ]
  },
  {
   "cell_type": "code",
   "execution_count": 90,
   "metadata": {
    "collapsed": false
   },
   "outputs": [
    {
     "name": "stdout",
     "output_type": "stream",
     "text": [
      "Decision Tree Depths of All of Our Random Forests: \n",
      "Min Depth:  17\n",
      "Mean Depth:  19.98\n",
      "Max Depth:  25\n",
      "\n",
      "Decision Tree Depths Distribution: \n",
      "25th/50th/75th Percentiles:  [ 19.  20.  21.]\n"
     ]
    }
   ],
   "source": [
    "### LOOK AT THE DEPTH OF ALL OF OUR DECISION TREES USED IN THE RANDOM FOREST TREES ###\n",
    "#and evaluate the average, min, max and some distributions\n",
    "decision_tree_depths= [estimator.tree_.max_depth for estimator in regr.estimators_] \n",
    "\n",
    "print('Decision Tree Depths of All of Our Random Forests: ')\n",
    "print('Min Depth: ', min(decision_tree_depths))\n",
    "print('Mean Depth: ', np.mean(decision_tree_depths))\n",
    "print('Max Depth: ', max(decision_tree_depths))\n",
    "\n",
    "print('\\nDecision Tree Depths Distribution: ')\n",
    "print('25th/50th/75th Percentiles: ', np.percentile(decision_tree_depths, q=[25, 50, 75]))\n"
   ]
  },
  {
   "cell_type": "code",
   "execution_count": 93,
   "metadata": {
    "collapsed": false
   },
   "outputs": [
    {
     "name": "stdout",
     "output_type": "stream",
     "text": [
      "The example decision tree we are looking at has a maximum depth of:  20\n"
     ]
    }
   ],
   "source": [
    "### VISUALIZE ONE OF THE DECISION TREES IN OUR RANDOM FOREST USING GRAPHVIZ - TRY TO PICK ONE WITH AVERAGE DEPTH OF OUR RF ###\n",
    "#find an individual decision tree (estimator) that has the median depth and try to visualize it to see the\n",
    "#end leaf outputs, etc. to better understand the model\n",
    "\n",
    "#make sure have already imported the following packages (and make sure to install graphivz)\n",
    "# from sklearn.tree import export_graphviz\n",
    "# from subprocess import call\n",
    "# from IPython.display import Image\n",
    "\n",
    "#manually try different estimators_ in list until verify that max_depth does match closely to the mean/median depth\n",
    "decision_tree_avg_depth_example = regr.estimators_[1]\n",
    "print('The example decision tree we are looking at has a maximum depth of: ', decision_tree_avg_depth_example.tree_.max_depth)\n",
    "\n",
    "#export our full tree as a dot file (which is the filetype that graphviz uses)\n",
    "export_graphviz(decision_tree_avg_depth_example, #the tree regressor\n",
    "                out_file='model_pickles/avg_tree_viz_random_forest_v4_n_estimators_200_min_leaf_44.dot', \n",
    "                feature_names = list(X_model_train.columns),\n",
    "#                 class_names = iris.target_names,\n",
    "                rounded = True, #rounded When set to True, draw node boxes with rounded corners and use Helvetica fonts instead of Times-Roman.\n",
    "                proportion = True, #proportion True changes 'values' and/or 'samples' to be proportions and percentages respectively instead of counts \n",
    "                precision = 2, filled = True,\n",
    "                leaves_parallel = True) #leaves_parallel when set to True, draw all leaf nodes at the bottom of the tree.\n",
    "\n",
    "#export top 5 levels of our tree as a dot file - the full tree representation is massive, so this might help the viz actually run\n",
    "export_graphviz(decision_tree_avg_depth_example, #the tree regressor\n",
    "                out_file='model_pickles/avg_tree_depth5_viz_random_forest_v4_n_estimators_200_min_leaf_44.dot',\n",
    "                max_depth=5,\n",
    "                feature_names = list(X_model_train.columns),\n",
    "#                 class_names = iris.target_names,\n",
    "                rounded = True, #rounded When set to True, draw node boxes with rounded corners and use Helvetica fonts instead of Times-Roman.\n",
    "                proportion = True, #proportion True changes 'values' and/or 'samples' to be proportions and percentages respectively instead of counts \n",
    "                precision = 2, filled = True,\n",
    "                leaves_parallel = True) #leaves_parallel when set to True, draw all leaf nodes at the bottom of the tree.\n",
    "\n",
    "# VISUALIZE AT www.webgraphviz.com: can visualize the .dot outputs, by coping the .dot file txt into http://www.webgraphviz.com/\n",
    "\n",
    "# # Convert to png using system command (requires Graphviz -unsure how to install this on cloud server)\n",
    "# # ExecutableNotFound: failed to execute ['dot', '-Tsvg'], make sure the Graphviz executables are on your systems' PATH\n",
    "# #option1- try to display top 5 levels with graphviz - \n",
    "#Source.from_file('model_pickles/avg_tree_depth5_viz_random_forest_v3_n_estimators_200.dot')\n",
    "\n",
    "# #option2- Command line syntax call is trying to replicate: !dot -Tpng tree.dot -o tree.png -Gdpi=600\n",
    "# call(['dot', '-Tpng', 'model_pickles/avg_tree_viz_random_forest_v3_n_estimators_200.dot', \n",
    "#       '-o', 'model_pickles/avg_tree_viz_random_forest_v3_n_estimators_200.png', '-Gdpi=600'])\n",
    "\n",
    "# #Display in jupyter notebook\n",
    "# Image(filename = 'model_pickles/avg_tree_viz_random_forest_v3_n_estimators_200.png')"
   ]
  },
  {
   "cell_type": "code",
   "execution_count": null,
   "metadata": {
    "collapsed": true
   },
   "outputs": [],
   "source": []
  },
  {
   "cell_type": "code",
   "execution_count": null,
   "metadata": {
    "collapsed": true
   },
   "outputs": [],
   "source": []
  },
  {
   "cell_type": "markdown",
   "metadata": {},
   "source": [
    "## Random Forest Regressor: n_estimators=200, min_samples_leaf=8\n",
    "Chose min_samples_leaf of 8, which is approximately 0.001 (a tenth of a percent) of the count of revenue transactions in the training dataset.  (approx 900,000 rows x .75 for training set x .013 conversion rate x .001 one tenth a percent chosen arbitrarily)"
   ]
  },
  {
   "cell_type": "code",
   "execution_count": 94,
   "metadata": {
    "collapsed": false
   },
   "outputs": [
    {
     "name": "stdout",
     "output_type": "stream",
     "text": [
      "[  2.05440430e-01   1.03539409e-01   3.05195721e-01   4.27328960e-03\n",
      "   1.29392469e-08   2.53491831e-02   1.03327882e-02   1.18827981e-01\n",
      "   5.87351552e-02   1.18271011e-03   8.71776273e-04   1.39760742e-03\n",
      "   1.91387861e-02   1.24958351e-03   1.66940728e-02   2.85968575e-03\n",
      "   1.03086889e-02   2.05936096e-02   1.52711328e-02   2.85956875e-02\n",
      "   6.10813262e-03   2.47282261e-02   2.58337367e-04   1.86370203e-02\n",
      "   4.10973067e-04]\n"
     ]
    }
   ],
   "source": [
    "regr = RandomForestRegressor(#max_depth=10, \n",
    "                             #random_state=0,\n",
    "                             min_samples_leaf=8,\n",
    "                             n_estimators=200)\n",
    "regr.fit(X_model_train, y_model_train)\n",
    "print(regr.feature_importances_)"
   ]
  },
  {
   "cell_type": "code",
   "execution_count": 95,
   "metadata": {
    "collapsed": false
   },
   "outputs": [
    {
     "data": {
      "text/plain": [
       "[('totals_pageviews', 0.2054404295753593),\n",
       " ('totals_hits', 0.10353940882359319),\n",
       " ('visitNumber', 0.30519572099617792),\n",
       " ('totals_newVisits', 0.004273289603871102),\n",
       " ('totals_bounces', 1.2939246927955069e-08),\n",
       " ('weekday_local', 0.025349183050909087),\n",
       " ('month_local', 0.010332788181458868),\n",
       " ('yearday_local', 0.11882798136308331),\n",
       " ('hour_local', 0.058735155166533784),\n",
       " ('device_deviceCategory', 0.0011827101077456562),\n",
       " ('device_browser', 0.00087177627308422309),\n",
       " ('device_isMobile', 0.0013976074181166578),\n",
       " ('device_operatingSystem', 0.019138786091507837),\n",
       " ('geoNetwork_subContinent', 0.0012495835109251304),\n",
       " ('geoNetwork_region', 0.016694072818117862),\n",
       " ('geoNetwork_continent', 0.0028596857539773747),\n",
       " ('geoNetwork_country', 0.010308688884460942),\n",
       " ('geoNetwork_city', 0.020593609626563689),\n",
       " ('geoNetwork_metro', 0.015271132811773412),\n",
       " ('geoNetwork_networkDomain', 0.02859568750991319),\n",
       " ('trafficSource_isTrueDirect', 0.0061081326220094323),\n",
       " ('trafficSource_source', 0.024728226141271837),\n",
       " ('trafficSource_adContent', 0.00025833736717059642),\n",
       " ('trafficSource_medium', 0.018637020295768986),\n",
       " ('trafficSource_campaign', 0.00041097306735959796)]"
      ]
     },
     "execution_count": 95,
     "metadata": {},
     "output_type": "execute_result"
    }
   ],
   "source": [
    "#show the X columns input and their associated feature importance\n",
    "list(zip(X_model_train.columns, regr.feature_importances_))"
   ]
  },
  {
   "cell_type": "code",
   "execution_count": 96,
   "metadata": {
    "collapsed": false
   },
   "outputs": [
    {
     "name": "stdout",
     "output_type": "stream",
     "text": [
      "[  463090.37896155        0.                0.         ...,        0.\n",
      "        0.          2572856.02830904]\n"
     ]
    }
   ],
   "source": [
    "y_model_test_predict = regr.predict(X_model_test)\n",
    "print(y_model_test_predict)"
   ]
  },
  {
   "cell_type": "code",
   "execution_count": 97,
   "metadata": {
    "collapsed": false
   },
   "outputs": [
    {
     "name": "stdout",
     "output_type": "stream",
     "text": [
      "Confusion Matrix of revenue/no_revenue/neg_revenue: \n",
      "\n",
      "[[  2860     17      0]\n",
      " [ 24945 197698      0]\n",
      " [     0      0      0]]\n"
     ]
    }
   ],
   "source": [
    "confusion_matrix_model = evaluate_revenue_confusion_matrix(y_model_test, y_model_test_predict)"
   ]
  },
  {
   "cell_type": "code",
   "execution_count": 98,
   "metadata": {
    "collapsed": false
   },
   "outputs": [
    {
     "name": "stdout",
     "output_type": "stream",
     "text": [
      "0.889313586378\n"
     ]
    }
   ],
   "source": [
    "### ACCURACY OF REVENUE/NO_REVENUE CATEGORY LABELS ###\n",
    "\n",
    "#use np.sum(array) to sum all the values in the array\n",
    "percent_accuracy = (confusion_matrix_model[0][0] + confusion_matrix_model[1][1])/np.sum(confusion_matrix_model)\n",
    "print(percent_accuracy)"
   ]
  },
  {
   "cell_type": "code",
   "execution_count": 99,
   "metadata": {
    "collapsed": false
   },
   "outputs": [
    {
     "name": "stdout",
     "output_type": "stream",
     "text": [
      "Mean Squared Error: 2579128676776270.5 \n",
      "R-squared: -0.0021282390311103683 \n",
      "Correlation: nan\n"
     ]
    },
    {
     "name": "stderr",
     "output_type": "stream",
     "text": [
      "/home/michael_suomi/anaconda3/lib/python3.5/site-packages/ipykernel/__main__.py:9: RuntimeWarning: invalid value encountered in sqrt\n"
     ]
    }
   ],
   "source": [
    "### EVALUATE THE MODEL USING MSE, R2, CORREL ###\n",
    "\n",
    "#MSE function syntax: mean_squared_error(y_true, y_pred, sample_weight=None, multioutput=’uniform_average’)\n",
    "MSE = mean_squared_error(y_model_test, y_model_test_predict)\n",
    "\n",
    "#R2 function syntax: r2_score(y_true, y_pred, sample_weight=None, multioutput=’uniform_average’)\n",
    "r2 = r2_score(y_model_test, y_model_test_predict)\n",
    "\n",
    "print(\"Mean Squared Error: {} \\nR-squared: {} \\nCorrelation: {}\".format(MSE, r2, np.sqrt(r2)))"
   ]
  },
  {
   "cell_type": "code",
   "execution_count": 100,
   "metadata": {
    "collapsed": false
   },
   "outputs": [
    {
     "data": {
      "text/plain": [
       "RandomForestRegressor(bootstrap=True, criterion='mse', max_depth=None,\n",
       "           max_features='auto', max_leaf_nodes=None,\n",
       "           min_impurity_decrease=0.0, min_impurity_split=None,\n",
       "           min_samples_leaf=8, min_samples_split=2,\n",
       "           min_weight_fraction_leaf=0.0, n_estimators=200, n_jobs=None,\n",
       "           oob_score=False, random_state=None, verbose=0, warm_start=False)"
      ]
     },
     "execution_count": 100,
     "metadata": {},
     "output_type": "execute_result"
    }
   ],
   "source": [
    "regr"
   ]
  },
  {
   "cell_type": "code",
   "execution_count": 101,
   "metadata": {
    "collapsed": false
   },
   "outputs": [
    {
     "name": "stdout",
     "output_type": "stream",
     "text": [
      "Scikit Model saved to model_pickles/random_forest_v4_n_estimators_200_min_leaf_8.pkl\n"
     ]
    }
   ],
   "source": [
    "save_model_pickle(regr, 'model_pickles/random_forest_v4_n_estimators_200_min_leaf_8.pkl')"
   ]
  },
  {
   "cell_type": "code",
   "execution_count": 102,
   "metadata": {
    "collapsed": false
   },
   "outputs": [
    {
     "name": "stdout",
     "output_type": "stream",
     "text": [
      "Decision Tree Depths of All of Our Random Forests: \n",
      "Min Depth:  23\n",
      "Mean Depth:  25.515\n",
      "Max Depth:  33\n",
      "\n",
      "Decision Tree Depths Distribution: \n",
      "25th/50th/75th Percentiles:  [ 25.  25.  26.]\n"
     ]
    }
   ],
   "source": [
    "### LOOK AT THE DEPTH OF ALL OF OUR DECISION TREES USED IN THE RANDOM FOREST TREES ###\n",
    "#and evaluate the average, min, max and some distributions\n",
    "decision_tree_depths= [estimator.tree_.max_depth for estimator in regr.estimators_] \n",
    "\n",
    "print('Decision Tree Depths of All of Our Random Forests: ')\n",
    "print('Min Depth: ', min(decision_tree_depths))\n",
    "print('Mean Depth: ', np.mean(decision_tree_depths))\n",
    "print('Max Depth: ', max(decision_tree_depths))\n",
    "\n",
    "print('\\nDecision Tree Depths Distribution: ')\n",
    "print('25th/50th/75th Percentiles: ', np.percentile(decision_tree_depths, q=[25, 50, 75]))\n"
   ]
  },
  {
   "cell_type": "code",
   "execution_count": 105,
   "metadata": {
    "collapsed": false
   },
   "outputs": [
    {
     "name": "stdout",
     "output_type": "stream",
     "text": [
      "The example decision tree we are looking at has a maximum depth of:  25\n"
     ]
    }
   ],
   "source": [
    "### VISUALIZE ONE OF THE DECISION TREES IN OUR RANDOM FOREST USING GRAPHVIZ - TRY TO PICK ONE WITH AVERAGE DEPTH OF OUR RF ###\n",
    "#find an individual decision tree (estimator) that has the median depth and try to visualize it to see the\n",
    "#end leaf outputs, etc. to better understand the model\n",
    "\n",
    "#make sure have already imported the following packages (and make sure to install graphivz)\n",
    "# from sklearn.tree import export_graphviz\n",
    "# from subprocess import call\n",
    "# from IPython.display import Image\n",
    "\n",
    "#manually try different estimators_ in list until verify that max_depth does match closely to the mean/median depth\n",
    "decision_tree_avg_depth_example = regr.estimators_[2]\n",
    "print('The example decision tree we are looking at has a maximum depth of: ', decision_tree_avg_depth_example.tree_.max_depth)\n",
    "\n",
    "#export our full tree as a dot file (which is the filetype that graphviz uses)\n",
    "export_graphviz(decision_tree_avg_depth_example, #the tree regressor\n",
    "                out_file='model_pickles/avg_tree_viz_random_forest_v4_n_estimators_200_min_leaf_8.dot', \n",
    "                feature_names = list(X_model_train.columns),\n",
    "#                 class_names = iris.target_names,\n",
    "                rounded = True, #rounded When set to True, draw node boxes with rounded corners and use Helvetica fonts instead of Times-Roman.\n",
    "                proportion = True, #proportion True changes 'values' and/or 'samples' to be proportions and percentages respectively instead of counts \n",
    "                precision = 2, filled = True,\n",
    "                leaves_parallel = True) #leaves_parallel when set to True, draw all leaf nodes at the bottom of the tree.\n",
    "\n",
    "#export top 5 levels of our tree as a dot file - the full tree representation is massive, so this might help the viz actually run\n",
    "export_graphviz(decision_tree_avg_depth_example, #the tree regressor\n",
    "                out_file='model_pickles/avg_tree_depth5_viz_random_forest_v4_n_estimators_200_min_leaf_8.dot',\n",
    "                max_depth=5,\n",
    "                feature_names = list(X_model_train.columns),\n",
    "#                 class_names = iris.target_names,\n",
    "                rounded = True, #rounded When set to True, draw node boxes with rounded corners and use Helvetica fonts instead of Times-Roman.\n",
    "                proportion = True, #proportion True changes 'values' and/or 'samples' to be proportions and percentages respectively instead of counts \n",
    "                precision = 2, filled = True,\n",
    "                leaves_parallel = True) #leaves_parallel when set to True, draw all leaf nodes at the bottom of the tree.\n",
    "\n",
    "# VISUALIZE AT www.webgraphviz.com: can visualize the .dot outputs, by coping the .dot file txt into http://www.webgraphviz.com/\n",
    "\n",
    "# # Convert to png using system command (requires Graphviz -unsure how to install this on cloud server)\n",
    "# # ExecutableNotFound: failed to execute ['dot', '-Tsvg'], make sure the Graphviz executables are on your systems' PATH\n",
    "# #option1- try to display top 5 levels with graphviz - \n",
    "#Source.from_file('model_pickles/avg_tree_depth5_viz_random_forest_v3_n_estimators_200.dot')\n",
    "\n",
    "# #option2- Command line syntax call is trying to replicate: !dot -Tpng tree.dot -o tree.png -Gdpi=600\n",
    "# call(['dot', '-Tpng', 'model_pickles/avg_tree_viz_random_forest_v3_n_estimators_200.dot', \n",
    "#       '-o', 'model_pickles/avg_tree_viz_random_forest_v3_n_estimators_200.png', '-Gdpi=600'])\n",
    "\n",
    "# #Display in jupyter notebook\n",
    "# Image(filename = 'model_pickles/avg_tree_viz_random_forest_v3_n_estimators_200.png')"
   ]
  },
  {
   "cell_type": "code",
   "execution_count": null,
   "metadata": {
    "collapsed": true
   },
   "outputs": [],
   "source": []
  }
 ],
 "metadata": {
  "kernelspec": {
   "display_name": "Python 3",
   "language": "python",
   "name": "python3"
  },
  "language_info": {
   "codemirror_mode": {
    "name": "ipython",
    "version": 3
   },
   "file_extension": ".py",
   "mimetype": "text/x-python",
   "name": "python",
   "nbconvert_exporter": "python",
   "pygments_lexer": "ipython3",
   "version": "3.5.4"
  }
 },
 "nbformat": 4,
 "nbformat_minor": 2
}
