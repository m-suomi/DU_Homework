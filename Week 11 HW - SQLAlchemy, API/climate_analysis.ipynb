{
 "cells": [
  {
   "cell_type": "markdown",
   "metadata": {},
   "source": [
    "## Step 3 - Climate Analysis and Exploration\n",
    "\n",
    "You are now ready to use Python and SQLAlchemy to do basic climate analysis and data exploration on your new weather station tables. All of the following analysis should be completed using SQLAlchemy ORM queries, Pandas, and Matplotlib.\n",
    "\n",
    "* Create a Jupyter Notebook file called `climate_analysis.ipynb` and use it to complete your climate analysis and data exploration.\n",
    "\n",
    "* Choose a start date and end date for your trip. Make sure that your vacation range is approximately 3-15 days total.\n",
    "\n",
    "* Use SQLAlchemy `create_engine` to connect to your sqlite database.\n",
    "\n",
    "* Use SQLAlchemy `automap_base()` to reflect your tables into classes and save a reference to those classes called `Station` and `Measurement`.\n"
   ]
  },
  {
   "cell_type": "code",
   "execution_count": 1,
   "metadata": {},
   "outputs": [],
   "source": [
    "import pandas as pd\n",
    "import numpy as np\n",
    "from sqlalchemy.orm import Session\n",
    "from sqlalchemy import create_engine, inspect, func\n",
    "from sqlalchemy.ext.automap import automap_base\n",
    "from datetime import datetime, timedelta\n",
    "from matplotlib import style\n",
    "style.use('fivethirtyeight')\n",
    "import matplotlib.pyplot as plt"
   ]
  },
  {
   "cell_type": "code",
   "execution_count": 2,
   "metadata": {},
   "outputs": [],
   "source": [
    "engine = create_engine('sqlite:///raw_data/hawaii.sqlite')\n",
    "Base = automap_base()\n",
    "Base.prepare(engine, reflect=True)\n",
    "session = Session(bind=engine)\n",
    "inspector = inspect(engine)"
   ]
  },
  {
   "cell_type": "code",
   "execution_count": 3,
   "metadata": {},
   "outputs": [
    {
     "name": "stdout",
     "output_type": "stream",
     "text": [
      "hawaii_measurements obs_id INTEGER\n",
      "hawaii_measurements station VARCHAR\n",
      "hawaii_measurements datetime DATE\n",
      "hawaii_measurements date VARCHAR\n",
      "hawaii_measurements prcp FLOAT\n",
      "hawaii_measurements tobs FLOAT\n",
      "\n",
      "hawaii_stations station_id VARCHAR\n",
      "hawaii_stations name VARCHAR\n",
      "hawaii_stations latitude FLOAT\n",
      "hawaii_stations longitude FLOAT\n",
      "hawaii_stations elevation FLOAT\n",
      "\n"
     ]
    }
   ],
   "source": [
    "# Visual Schema - verify the database has the info we are expecting\n",
    "for table_name in inspector.get_table_names():\n",
    "    for column in inspector.get_columns(table_name):\n",
    "        print(table_name, column.get('name'), column.get('type'))\n",
    "    print()"
   ]
  },
  {
   "cell_type": "code",
   "execution_count": 4,
   "metadata": {},
   "outputs": [],
   "source": [
    "Measurement = Base.classes.hawaii_measurements"
   ]
  },
  {
   "cell_type": "code",
   "execution_count": 5,
   "metadata": {},
   "outputs": [],
   "source": [
    "Station = Base.classes.hawaii_stations"
   ]
  },
  {
   "cell_type": "markdown",
   "metadata": {},
   "source": [
    "### Precipitation Analysis Directions\n",
    "\n",
    "* Design a query to retrieve the last 12 months of precipitation data.\n",
    "\n",
    "* Select only the `date` and `prcp` values.\n",
    "\n",
    "* Load the query results into a Pandas DataFrame and set the index to the date column.\n",
    "\n",
    "* Plot the results using the DataFrame `plot` method.\n",
    "\n",
    "<center><img src='Instructions/Images/precip.png' width=\"400px\"/></center>\n",
    "\n",
    "* Use Pandas to print the summary statistics for the precipitation data.\n",
    "\n"
   ]
  },
  {
   "cell_type": "code",
   "execution_count": 6,
   "metadata": {},
   "outputs": [
    {
     "name": "stdout",
     "output_type": "stream",
     "text": [
      "2017-08-23\n",
      "<class 'datetime.date'>\n",
      "2016-08-23\n",
      "<class 'datetime.date'>\n"
     ]
    }
   ],
   "source": [
    "#find the date 12 months ago to be able to filter query\n",
    "last_precip_date = max(session.query(Measurement.datetime))[0]\n",
    "print(last_precip_date)\n",
    "print(type(last_precip_date))\n",
    "year_ago_precip_date = last_precip_date - timedelta(days=365)\n",
    "print(year_ago_precip_date)\n",
    "print(type(year_ago_precip_date))"
   ]
  },
  {
   "cell_type": "code",
   "execution_count": 7,
   "metadata": {},
   "outputs": [
    {
     "name": "stdout",
     "output_type": "stream",
     "text": [
      "(2015, 1)\n"
     ]
    },
    {
     "data": {
      "text/html": [
       "<div>\n",
       "<style scoped>\n",
       "    .dataframe tbody tr th:only-of-type {\n",
       "        vertical-align: middle;\n",
       "    }\n",
       "\n",
       "    .dataframe tbody tr th {\n",
       "        vertical-align: top;\n",
       "    }\n",
       "\n",
       "    .dataframe thead th {\n",
       "        text-align: right;\n",
       "    }\n",
       "</style>\n",
       "<table border=\"1\" class=\"dataframe\">\n",
       "  <thead>\n",
       "    <tr style=\"text-align: right;\">\n",
       "      <th></th>\n",
       "      <th>precipitation</th>\n",
       "    </tr>\n",
       "    <tr>\n",
       "      <th>datetime</th>\n",
       "      <th></th>\n",
       "    </tr>\n",
       "  </thead>\n",
       "  <tbody>\n",
       "    <tr>\n",
       "      <th>2016-08-24</th>\n",
       "      <td>0.08</td>\n",
       "    </tr>\n",
       "    <tr>\n",
       "      <th>2016-08-24</th>\n",
       "      <td>1.22</td>\n",
       "    </tr>\n",
       "    <tr>\n",
       "      <th>2016-08-24</th>\n",
       "      <td>2.28</td>\n",
       "    </tr>\n",
       "    <tr>\n",
       "      <th>2016-08-24</th>\n",
       "      <td>1.45</td>\n",
       "    </tr>\n",
       "    <tr>\n",
       "      <th>2016-08-24</th>\n",
       "      <td>2.15</td>\n",
       "    </tr>\n",
       "  </tbody>\n",
       "</table>\n",
       "</div>"
      ],
      "text/plain": [
       "            precipitation\n",
       "datetime                 \n",
       "2016-08-24           0.08\n",
       "2016-08-24           1.22\n",
       "2016-08-24           2.28\n",
       "2016-08-24           1.45\n",
       "2016-08-24           2.15"
      ]
     },
     "execution_count": 7,
     "metadata": {},
     "output_type": "execute_result"
    }
   ],
   "source": [
    "#retrieve the last 12 months of data\n",
    "last_12_months_precip = session.query(Measurement.datetime, Measurement.prcp.label('precipitation'))\\\n",
    "                        .filter(Measurement.datetime > year_ago_precip_date)\n",
    "#put data into a dataframe\n",
    "df_precip_last_12_months = pd.read_sql(last_12_months_precip.statement, session.bind, index_col='datetime')\n",
    "#sort data by date\n",
    "df_precip_last_12_months.sort_index(inplace=True)\n",
    "\n",
    "print(df_precip_last_12_months.shape)\n",
    "df_precip_last_12_months.head()"
   ]
  },
  {
   "cell_type": "code",
   "execution_count": 9,
   "metadata": {},
   "outputs": [
    {
     "data": {
      "image/png": "[encoded data removed]",
      "text/plain": [
       "<matplotlib.figure.Figure at 0x194945c0860>"
      ]
     },
     "metadata": {},
     "output_type": "display_data"
    }
   ],
   "source": [
    "df_precip_last_12_months.plot.area();"
   ]
  },
  {
   "cell_type": "code",
   "execution_count": 10,
   "metadata": {},
   "outputs": [
    {
     "data": {
      "text/html": [
       "<div>\n",
       "<style scoped>\n",
       "    .dataframe tbody tr th:only-of-type {\n",
       "        vertical-align: middle;\n",
       "    }\n",
       "\n",
       "    .dataframe tbody tr th {\n",
       "        vertical-align: top;\n",
       "    }\n",
       "\n",
       "    .dataframe thead th {\n",
       "        text-align: right;\n",
       "    }\n",
       "</style>\n",
       "<table border=\"1\" class=\"dataframe\">\n",
       "  <thead>\n",
       "    <tr style=\"text-align: right;\">\n",
       "      <th></th>\n",
       "      <th>precipitation</th>\n",
       "    </tr>\n",
       "  </thead>\n",
       "  <tbody>\n",
       "    <tr>\n",
       "      <th>count</th>\n",
       "      <td>2015.000000</td>\n",
       "    </tr>\n",
       "    <tr>\n",
       "      <th>mean</th>\n",
       "      <td>0.176462</td>\n",
       "    </tr>\n",
       "    <tr>\n",
       "      <th>std</th>\n",
       "      <td>0.460288</td>\n",
       "    </tr>\n",
       "    <tr>\n",
       "      <th>min</th>\n",
       "      <td>0.000000</td>\n",
       "    </tr>\n",
       "    <tr>\n",
       "      <th>25%</th>\n",
       "      <td>0.000000</td>\n",
       "    </tr>\n",
       "    <tr>\n",
       "      <th>50%</th>\n",
       "      <td>0.020000</td>\n",
       "    </tr>\n",
       "    <tr>\n",
       "      <th>75%</th>\n",
       "      <td>0.130000</td>\n",
       "    </tr>\n",
       "    <tr>\n",
       "      <th>max</th>\n",
       "      <td>6.700000</td>\n",
       "    </tr>\n",
       "  </tbody>\n",
       "</table>\n",
       "</div>"
      ],
      "text/plain": [
       "       precipitation\n",
       "count    2015.000000\n",
       "mean        0.176462\n",
       "std         0.460288\n",
       "min         0.000000\n",
       "25%         0.000000\n",
       "50%         0.020000\n",
       "75%         0.130000\n",
       "max         6.700000"
      ]
     },
     "execution_count": 10,
     "metadata": {},
     "output_type": "execute_result"
    }
   ],
   "source": [
    "df_precip_last_12_months.describe()"
   ]
  },
  {
   "cell_type": "code",
   "execution_count": null,
   "metadata": {},
   "outputs": [],
   "source": []
  },
  {
   "cell_type": "markdown",
   "metadata": {},
   "source": [
    "### Station Analysis Directions\n",
    "\n",
    "* Design a query to calculate the total number of stations.\n",
    "\n",
    "* Design a query to find the most active stations.\n",
    "\n",
    "  * List the stations and observation counts in descending order\n",
    "\n",
    "  * Which station has the highest number of observations?\n",
    "\n",
    "* Design a query to retrieve the last 12 months of temperature observation data (tobs).\n",
    "\n",
    "  * Filter by the station with the highest number of observations.\n",
    "\n",
    "  * Plot the results as a histogram with `bins=12`.\n",
    "\n",
    "  <center><img src='Instructions/Images/temp_hist.png' width=\"400px\" /></center>\n",
    "\n"
   ]
  },
  {
   "cell_type": "code",
   "execution_count": 11,
   "metadata": {},
   "outputs": [
    {
     "name": "stdout",
     "output_type": "stream",
     "text": [
      "Total # of Stations in Measurement Data = 9\n"
     ]
    }
   ],
   "source": [
    "total_stations = session.query(Measurement.station)\\\n",
    "                        .distinct(Measurement.station).count()\n",
    "print(f\"Total # of Stations in Measurement Data = {total_stations}\")"
   ]
  },
  {
   "cell_type": "code",
   "execution_count": 12,
   "metadata": {},
   "outputs": [
    {
     "name": "stdout",
     "output_type": "stream",
     "text": [
      "Station USC00519281 had the highest number of observations.\n",
      "\n",
      "(Station, # Observations)\n",
      "---------------------\n"
     ]
    },
    {
     "data": {
      "text/plain": [
       "[('USC00519281', 2772),\n",
       " ('USC00513117', 2696),\n",
       " ('USC00519397', 2685),\n",
       " ('USC00519523', 2572),\n",
       " ('USC00516128', 2484),\n",
       " ('USC00514830', 1937),\n",
       " ('USC00511918', 1932),\n",
       " ('USC00517948', 683),\n",
       " ('USC00518838', 342)]"
      ]
     },
     "execution_count": 12,
     "metadata": {},
     "output_type": "execute_result"
    }
   ],
   "source": [
    "#determine the number of observations each station recorded to see which \n",
    "#station is the most active\n",
    "station_recorded_observations = session.query(Measurement.station,\n",
    "                                              func.count(Measurement.station))\\\n",
    "                                .group_by(Measurement.station)\\\n",
    "                                .order_by(func.count(Measurement.station).desc())\\\n",
    "                                .all()\n",
    "station_most_observations = station_recorded_observations[0][0]\n",
    "print(f\"Station {station_most_observations} had the highest number of observations.\")\n",
    "print(\"\")\n",
    "print(\"(Station, # Observations)\")\n",
    "print(\"---------------------\")\n",
    "station_recorded_observations"
   ]
  },
  {
   "cell_type": "code",
   "execution_count": 16,
   "metadata": {},
   "outputs": [],
   "source": [
    "#last 12 months of temperature data for stations with most observations\n",
    "tobs_last_12_station_most_obs = session.query(Measurement.tobs)\\\n",
    "                                .filter(Measurement.datetime > year_ago_precip_date)\\\n",
    "                                .filter(Measurement.station == station_most_observations)\\\n",
    "                                .all()\n",
    "#query returns as list of tuples, so unpack to pure list\n",
    "tobs_plot=[tuple[0] for tuple in tobs_last_12_station_most_obs]"
   ]
  },
  {
   "cell_type": "code",
   "execution_count": 49,
   "metadata": {},
   "outputs": [
    {
     "data": {
      "image/png": "[encoded data removed]",
      "text/plain": [
       "<matplotlib.figure.Figure at 0x19495dee978>"
      ]
     },
     "metadata": {},
     "output_type": "display_data"
    }
   ],
   "source": [
    "plt.title(f'Temperature Observations for Station: {station_most_observations}')\n",
    "plt.ylabel('Frequency')\n",
    "plt.xlabel('Temperature Observations (F)')\n",
    "plt.hist(tobs_plot, bins=12, label='tobs');"
   ]
  },
  {
   "cell_type": "markdown",
   "metadata": {},
   "source": [
    "### Temperature Analysis Directions\n",
    "\n",
    "* Write a function called `calc_temps` that will accept a start date and end date in the format `%Y-%m-%d` and return the minimum, average, and maximum temperatures for that range of dates.\n",
    "\n",
    "\n",
    "* Use the `calc_temps` function to calculate the min, avg, and max temperatures for your trip using the matching dates from the previous year (i.e. use \"2017-01-01\" if your trip start date was \"2018-01-01\")\n",
    "\n",
    "* Plot the min, avg, and max temperature from your previous query as a bar chart.\n",
    "\n",
    "  * Use the average temperature as the bar height.\n",
    "\n",
    "  * Use the peak-to-peak (tmax-tmin) value as the y error bar (yerr).\n",
    "\n",
    "<center><img src='Instructions/Images/temp_avg.png' width=\"200px\"/></center>\n",
    "\n"
   ]
  },
  {
   "cell_type": "code",
   "execution_count": 18,
   "metadata": {},
   "outputs": [],
   "source": [
    "#will calculate the min, max, and average temperature over the previous year's timeframe\n",
    "#function accepts dates in form of %Y-%m-%d\n",
    "def calc_temps(start_date, end_date):\n",
    "    #convert times to 2016 year and datetime objects\n",
    "    #use 2016 data because 2017 data is incomplete - only goes through 8/23\n",
    "    #and temp data isn't updating so won't be able to have relative previous\n",
    "    #year data for vacation dates in future\n",
    "    start_date_2016 = '2016' + start_date[4:]\n",
    "    end_date_2016 = '2016' + end_date[4:]\n",
    "    start_date_2016_dt = datetime.strptime(start_date_2016, '%Y-%m-%d')\n",
    "    end_date_2016_dt = datetime.strptime(end_date_2016, '%Y-%m-%d')\n",
    "                   \n",
    "    temp_data_2016_min_max_avg = session.query(func.min(Measurement.tobs),\n",
    "                                         func.max(Measurement.tobs),\n",
    "                                         func.avg(Measurement.tobs))\\\n",
    "                                .filter(Measurement.datetime >= start_date_2016_dt)\\\n",
    "                                .filter(Measurement.datetime <= end_date_2016_dt)\\\n",
    "                                .all()\n",
    "    temp_min = temp_data_2016_min_max_avg[0][0] \n",
    "    temp_max = temp_data_2016_min_max_avg[0][1]\n",
    "    temp_avg = temp_data_2016_min_max_avg[0][2]\n",
    "    print(f\"Temperature Summary from 2016 date range: \\nMin={temp_min}, Max={temp_max}, Avg={temp_avg}\")\n",
    "    return temp_min, temp_max, temp_avg"
   ]
  },
  {
   "cell_type": "code",
   "execution_count": 50,
   "metadata": {},
   "outputs": [
    {
     "name": "stdout",
     "output_type": "stream",
     "text": [
      "Temperature Summary from 2016 date range: \n",
      "Min=56.0, Max=79.0, Avg=69.78205128205128\n"
     ]
    }
   ],
   "source": [
    "#calculate temp min, max, avg for given date range\n",
    "temp_min, temp_max, temp_avg = calc_temps(\"2019-02-05\",\"2019-02-19\")"
   ]
  },
  {
   "cell_type": "code",
   "execution_count": 52,
   "metadata": {},
   "outputs": [
    {
     "data": {
      "image/png": "[encoded data removed]",
      "text/plain": [
       "<matplotlib.figure.Figure at 0x19495f65160>"
      ]
     },
     "metadata": {},
     "output_type": "display_data"
    }
   ],
   "source": [
    "# #bar plot with error marks\n",
    "plt.figure(figsize=(2,6))\n",
    "# Create orange bars\n",
    "plt.bar(x=0.5, height=temp_avg, width=0.25, align='center', \n",
    "        color = 'sandybrown', edgecolor = 'black',\n",
    "        alpha = 0.5,\n",
    "        yerr=[[temp_avg-temp_min], [temp_max-temp_avg]], #[(temp_avg-temp_min), (temp_max-temp_avg)], #(temp_avg-temp_min),(temp_max-temp_avg)]  (temp_max-temp_min)/2\n",
    "        capsize=7)\n",
    "\n",
    "plt.xticks([])\n",
    "plt.ylabel('Temp (F)')\n",
    "plt.title('Predicted Trip Average Temp')\n",
    "  \n",
    "# Show graphic\n",
    "plt.show()\n"
   ]
  },
  {
   "cell_type": "markdown",
   "metadata": {},
   "source": [
    "### Optional Recommended Analysis Directions\n",
    "\n",
    "* The following are optional challenge queries. These are highly recommended to attempt, but not required for the homework.\n",
    "\n",
    "  * Calculate the rainfall per weather station using the previous year's matching dates.\n",
    "\n",
    "* Calculate the daily normals. Normals are the averages for min, avg, and max temperatures.\n",
    "\n",
    "  * Create a function called `daily_normals` that will calculate the daily normals for a specific date. This date string will be in the format `%m-%d`. Be sure to use all historic tobs that match that date string.\n",
    "\n",
    "  * Create a list of dates for your trip in the format `%m-%d`. Use the `daily_normals` function to calculate the normals for each date string and append the results to a list.\n",
    "\n",
    "  * Load the list of daily normals into a Pandas DataFrame and set the index equal to the date.\n",
    "\n",
    "  * Use Pandas to plot an area plot (`stacked=False`) for the daily normals.\n",
    "\n",
    "  <center><img src=\"Instructions/Images/daily_normals.png\" width=\"400px\"/></center>"
   ]
  },
  {
   "cell_type": "code",
   "execution_count": 21,
   "metadata": {},
   "outputs": [],
   "source": [
    "#rainfall per weather station using previous years dates for your vacation dates\n",
    "#function accepts dates in form of %Y-%m-%d\n",
    "def rainfall_per_station(start_date, end_date):\n",
    "    #convert times to 2016 year and datetime objects\n",
    "    #use 2016 data because 2017 data is incomplete - only goes through 8/23\n",
    "    #and temp data isn't updating so won't be able to have relative previous\n",
    "    #year data for vacation dates in future\n",
    "    start_date_2016 = '2016' + start_date[4:]\n",
    "    end_date_2016 = '2016' + end_date[4:]\n",
    "    start_date_2016_dt = datetime.strptime(start_date_2016, '%Y-%m-%d')\n",
    "    end_date_2016_dt = datetime.strptime(end_date_2016, '%Y-%m-%d')\n",
    "                   \n",
    "    rainfall_data_2016_per_station = session.query(Measurement.station, func.sum(Measurement.prcp).label('sum_precip'))\\\n",
    "                                .filter(Measurement.datetime >= start_date_2016_dt)\\\n",
    "                                .filter(Measurement.datetime <= end_date_2016_dt)\\\n",
    "                                .group_by(Measurement.station)\\\n",
    "                                .order_by(func.sum(Measurement.prcp).desc())\n",
    "    \n",
    "    df_rainfall = pd.read_sql(rainfall_data_2016_per_station.statement, session.bind, index_col='station')\n",
    "    return df_rainfall"
   ]
  },
  {
   "cell_type": "code",
   "execution_count": 22,
   "metadata": {},
   "outputs": [
    {
     "data": {
      "text/html": [
       "<div>\n",
       "<style scoped>\n",
       "    .dataframe tbody tr th:only-of-type {\n",
       "        vertical-align: middle;\n",
       "    }\n",
       "\n",
       "    .dataframe tbody tr th {\n",
       "        vertical-align: top;\n",
       "    }\n",
       "\n",
       "    .dataframe thead th {\n",
       "        text-align: right;\n",
       "    }\n",
       "</style>\n",
       "<table border=\"1\" class=\"dataframe\">\n",
       "  <thead>\n",
       "    <tr style=\"text-align: right;\">\n",
       "      <th></th>\n",
       "      <th>sum_precip</th>\n",
       "    </tr>\n",
       "    <tr>\n",
       "      <th>station</th>\n",
       "      <th></th>\n",
       "    </tr>\n",
       "  </thead>\n",
       "  <tbody>\n",
       "    <tr>\n",
       "      <th>USC00516128</th>\n",
       "      <td>1.27</td>\n",
       "    </tr>\n",
       "    <tr>\n",
       "      <th>USC00514830</th>\n",
       "      <td>1.04</td>\n",
       "    </tr>\n",
       "    <tr>\n",
       "      <th>USC00513117</th>\n",
       "      <td>0.53</td>\n",
       "    </tr>\n",
       "    <tr>\n",
       "      <th>USC00519523</th>\n",
       "      <td>0.46</td>\n",
       "    </tr>\n",
       "    <tr>\n",
       "      <th>USC00519281</th>\n",
       "      <td>0.44</td>\n",
       "    </tr>\n",
       "    <tr>\n",
       "      <th>USC00519397</th>\n",
       "      <td>0.33</td>\n",
       "    </tr>\n",
       "    <tr>\n",
       "      <th>USC00517948</th>\n",
       "      <td>0.00</td>\n",
       "    </tr>\n",
       "  </tbody>\n",
       "</table>\n",
       "</div>"
      ],
      "text/plain": [
       "             sum_precip\n",
       "station                \n",
       "USC00516128        1.27\n",
       "USC00514830        1.04\n",
       "USC00513117        0.53\n",
       "USC00519523        0.46\n",
       "USC00519281        0.44\n",
       "USC00519397        0.33\n",
       "USC00517948        0.00"
      ]
     },
     "execution_count": 22,
     "metadata": {},
     "output_type": "execute_result"
    }
   ],
   "source": [
    "rainfall_per_station(\"2019-02-05\",\"2019-02-19\")"
   ]
  },
  {
   "cell_type": "code",
   "execution_count": 33,
   "metadata": {},
   "outputs": [],
   "source": [
    "#Create a function called daily_normals that will calculate the daily normals for a specific date. This date string will be\n",
    "#in the format %m-%d. Be sure to use all historic tobs that match that date string.\n",
    "def daily_normals(month_day_str):\n",
    "    min_max_avg_all_years = session.query(func.min(Measurement.tobs),\n",
    "                                         func.max(Measurement.tobs),\n",
    "                                         func.avg(Measurement.tobs))\\\n",
    "                                .filter(Measurement.datetime.like(f\"%{month_day_str}%\"))\\\n",
    "                                .all()\n",
    "    temp_min = min_max_avg_all_years[0][0] \n",
    "    temp_max = min_max_avg_all_years[0][1]\n",
    "    temp_avg = min_max_avg_all_years[0][2]\n",
    "    #print(f\"Historical Temperature Summary on Month-Day: {month_day_str} \\nMin={temp_min}, Max={temp_max}, Avg={temp_avg}\")\n",
    "    return temp_min, temp_max, temp_avg"
   ]
  },
  {
   "cell_type": "code",
   "execution_count": 61,
   "metadata": {
    "scrolled": true
   },
   "outputs": [
    {
     "name": "stdout",
     "output_type": "stream",
     "text": [
      "(15, 3)\n"
     ]
    },
    {
     "data": {
      "text/html": [
       "<div>\n",
       "<style scoped>\n",
       "    .dataframe tbody tr th:only-of-type {\n",
       "        vertical-align: middle;\n",
       "    }\n",
       "\n",
       "    .dataframe tbody tr th {\n",
       "        vertical-align: top;\n",
       "    }\n",
       "\n",
       "    .dataframe thead th {\n",
       "        text-align: right;\n",
       "    }\n",
       "</style>\n",
       "<table border=\"1\" class=\"dataframe\">\n",
       "  <thead>\n",
       "    <tr style=\"text-align: right;\">\n",
       "      <th></th>\n",
       "      <th>temp_min</th>\n",
       "      <th>temp_max</th>\n",
       "      <th>temp_avg</th>\n",
       "    </tr>\n",
       "  </thead>\n",
       "  <tbody>\n",
       "    <tr>\n",
       "      <th>02-05</th>\n",
       "      <td>59.0</td>\n",
       "      <td>77.0</td>\n",
       "      <td>69.294118</td>\n",
       "    </tr>\n",
       "    <tr>\n",
       "      <th>02-06</th>\n",
       "      <td>58.0</td>\n",
       "      <td>77.0</td>\n",
       "      <td>70.288462</td>\n",
       "    </tr>\n",
       "    <tr>\n",
       "      <th>02-07</th>\n",
       "      <td>60.0</td>\n",
       "      <td>77.0</td>\n",
       "      <td>68.849057</td>\n",
       "    </tr>\n",
       "    <tr>\n",
       "      <th>02-08</th>\n",
       "      <td>56.0</td>\n",
       "      <td>74.0</td>\n",
       "      <td>66.727273</td>\n",
       "    </tr>\n",
       "    <tr>\n",
       "      <th>02-09</th>\n",
       "      <td>57.0</td>\n",
       "      <td>75.0</td>\n",
       "      <td>67.442308</td>\n",
       "    </tr>\n",
       "  </tbody>\n",
       "</table>\n",
       "</div>"
      ],
      "text/plain": [
       "       temp_min  temp_max   temp_avg\n",
       "02-05      59.0      77.0  69.294118\n",
       "02-06      58.0      77.0  70.288462\n",
       "02-07      60.0      77.0  68.849057\n",
       "02-08      56.0      74.0  66.727273\n",
       "02-09      57.0      75.0  67.442308"
      ]
     },
     "execution_count": 61,
     "metadata": {},
     "output_type": "execute_result"
    }
   ],
   "source": [
    "# Create a list of dates for your trip in the format %m-%d. Use the daily_normals function to calculate \n",
    "#the normals for each date string and append the results to a list.\n",
    "vacation_m_d = [\"02-05\", \"02-06\", \"02-07\", \"02-08\", \"02-09\", \"02-10\", \"02-11\", \"02-12\", \"02-13\", \"02-14\", \"02-15\", \"02-16\", \"02-17\", \"02-18\", \"02-19\"]\n",
    "\n",
    "normals=[]\n",
    "for day in vacation_m_d:\n",
    "    normals.append(daily_normals(day))\n",
    "\n",
    "# Load the list of daily normals into a Pandas DataFrame and set the index equal to the date.\n",
    "normals_df = pd.DataFrame(data=normals, columns=['temp_min', 'temp_max', 'temp_avg'], index=vacation_m_d)\n",
    "print(normals_df.shape)\n",
    "normals_df.head()"
   ]
  },
  {
   "cell_type": "code",
   "execution_count": 64,
   "metadata": {},
   "outputs": [
    {
     "data": {
      "image/png": "[encoded data removed]",
      "text/plain": [
       "<matplotlib.figure.Figure at 0x194965e4470>"
      ]
     },
     "metadata": {},
     "output_type": "display_data"
    }
   ],
   "source": [
    "normals_df.plot.area(stacked=False);"
   ]
  },
  {
   "cell_type": "code",
   "execution_count": 65,
   "metadata": {},
   "outputs": [],
   "source": [
    "#at very end close the session\n",
    "session.close_all()"
   ]
  },
  {
   "cell_type": "code",
   "execution_count": null,
   "metadata": {},
   "outputs": [],
   "source": []
  }
 ],
 "metadata": {
  "kernelspec": {
   "display_name": "Python 3",
   "language": "python",
   "name": "python3"
  },
  "language_info": {
   "codemirror_mode": {
    "name": "ipython",
    "version": 3
   },
   "file_extension": ".py",
   "mimetype": "text/x-python",
   "name": "python",
   "nbconvert_exporter": "python",
   "pygments_lexer": "ipython3",
   "version": "3.6.4"
  }
 },
 "nbformat": 4,
 "nbformat_minor": 2
}
