{
 "cells": [
  {
   "cell_type": "markdown",
   "metadata": {},
   "source": [
    "After having scraped data from four different fantasy projection sites (ESPN, CBS, NFL, FFToday), use the data to calculate points based on your league criteria/manipulate how the data is being used/weighted."
   ]
  },
  {
   "cell_type": "code",
   "execution_count": 1,
   "metadata": {},
   "outputs": [],
   "source": [
    "import pandas as pd\n",
    "import numpy as np"
   ]
  },
  {
   "cell_type": "code",
   "execution_count": 32,
   "metadata": {},
   "outputs": [],
   "source": [
    "#import the pickled data sets that have scraped\n",
    "df_espn_projections = pd.read_pickle('pickle_archive/df_espn_projections_2018-9-3-7-43.pkl')\n",
    "df_cbs_projections = pd.read_pickle('pickle_archive/df_cbs_projections_2018-9-3-7-43.pkl')\n",
    "df_nfl_projections = pd.read_pickle('pickle_archive/df_nfl_projections_2018-9-3-7-43.pkl')\n",
    "df_fft_projections = pd.read_pickle('pickle_archive/df_fft_projections_2018-9-3-7-43.pkl')"
   ]
  },
  {
   "cell_type": "code",
   "execution_count": 3,
   "metadata": {},
   "outputs": [
    {
     "name": "stdout",
     "output_type": "stream",
     "text": [
      "Index(['RNK', 'PTS', 'PLAYER', 'TEAM', 'POS', 'PASS_YD', 'PASS_TD', 'PASS_INT',\n",
      "       'PASS_COMP', 'PASS_ATT', 'PASS_COMP_PCT', 'RUSH_ATT', 'RUSH_YD',\n",
      "       'RUSH_TD', 'RECV_RECPT', 'RECV_YD', 'RECV_TD', 'KICK_FG_1-39',\n",
      "       'KICK_FG_40-49', 'KICK_FG_50+', 'KICK_FG', 'KICK_FGAtt', 'KICK_FG%',\n",
      "       'KICK_XP', 'KICK_XPAtt', 'D/ST_Sack', 'D/ST_FF', 'D/ST_FR', 'D/ST_INT',\n",
      "       'D/ST_TD'],\n",
      "      dtype='object')\n",
      "Index(['PTS', 'PLAYER', 'POS', 'TEAM', 'PASS_ATT', 'PASS_COMP',\n",
      "       'PASS_COMP_PCT', 'PASS_YD', 'PASS_TD', 'PASS_INT', 'PASS_RATE',\n",
      "       'RUSH_ATT', 'RUSH_YD', 'RUSH_AVG', 'RUSH_TD', 'RECV_TARGT',\n",
      "       'RECV_RECPT', 'RECV_YD', 'RECV_AVG', 'RECV_TD', 'KICK_FG', 'KICK_FGAtt',\n",
      "       'KICK_XP', 'KICK_XPAtt', 'D/ST_INT', 'D/ST_Sty', 'D/ST_Sack', 'D/ST_TK',\n",
      "       'D/ST_FR', 'D/ST_FF', 'D/ST_TD', 'D/ST_PtsAll', 'D/ST_PaYdA',\n",
      "       'D/ST_RuYdA', 'D/ST_ToYdA', 'D/ST_PaYd/G', 'D/ST_RuYd/G',\n",
      "       'D/ST_ToYd/G'],\n",
      "      dtype='object')\n",
      "Index(['Points', 'PLAYER', 'POS', 'TEAM', 'PASS_YD', 'PASS_TD', 'PASS_INT',\n",
      "       'RUSH_YD', 'RUSH_TD', 'RECV_YD', 'RECV_TD', 'KICK_XP', 'KICK_FG',\n",
      "       'KICK_FG_0-19', 'KICK_FG_20-29', 'KICK_FG_30-39', 'KICK_FG_40-49',\n",
      "       'KICK_FG_50+', 'D/ST_Sack', 'D/ST_INT', 'D/ST_FR', 'D/ST_Sty',\n",
      "       'D/ST_TD', 'D/ST_RET_TD', 'D/ST_PtsAll'],\n",
      "      dtype='object')\n",
      "Index(['FPts', 'PLAYER', 'POS', 'TEAM', 'PASS_YD', 'PASS_TD', 'PASS_INT',\n",
      "       'PASS_COMP', 'PASS_ATT', 'PASS_COMP_PCT', 'RUSH_ATT', 'RUSH_YD',\n",
      "       'RUSH_TD', 'RECV_RECPT', 'RECV_YD', 'RECV_TD', 'KICK_XP', 'KICK_XPAtt',\n",
      "       'KICK_FG', 'KICK_FGAtt', 'KICK_FG%', 'D/ST_Sack', 'D/ST_FR', 'D/ST_INT',\n",
      "       'D/ST_Sty', 'D/ST_TD', 'D/ST_RET_TD', 'D/ST_PtsAll', 'D/ST_PaYd/G',\n",
      "       'D/ST_RuYd/G', 'D/ST_ToYd/G', 'D/ST_PaYdA', 'D/ST_RuYdA', 'D/ST_ToYdA'],\n",
      "      dtype='object')\n"
     ]
    }
   ],
   "source": [
    "#check all column namings\n",
    "print(df_espn_projections.columns)\n",
    "print(df_cbs_projections.columns)\n",
    "print(df_nfl_projections.columns)\n",
    "print(df_fft_projections.columns)"
   ]
  },
  {
   "cell_type": "code",
   "execution_count": 148,
   "metadata": {},
   "outputs": [
    {
     "name": "stdout",
     "output_type": "stream",
     "text": [
      "RNK                int64\n",
      "PTS               object\n",
      "PLAYER            object\n",
      "TEAM              object\n",
      "POS               object\n",
      "PASS_YD           object\n",
      "PASS_TD           object\n",
      "PASS_INT          object\n",
      "PASS_COMP        float64\n",
      "PASS_ATT         float64\n",
      "PASS_COMP_PCT    float64\n",
      "RUSH_ATT          object\n",
      "RUSH_YD           object\n",
      "RUSH_TD           object\n",
      "RECV_RECPT        object\n",
      "RECV_YD           object\n",
      "RECV_TD           object\n",
      "KICK_FG_1-39     float64\n",
      "KICK_FG_40-49    float64\n",
      "KICK_FG_50+      float64\n",
      "KICK_FG          float64\n",
      "KICK_FGAtt       float64\n",
      "KICK_FG%         float64\n",
      "KICK_XP          float64\n",
      "KICK_XPAtt       float64\n",
      "D/ST_Sack        float64\n",
      "D/ST_FF          float64\n",
      "D/ST_FR          float64\n",
      "D/ST_INT         float64\n",
      "D/ST_TD          float64\n",
      "dtype: object\n",
      "PTS              float64\n",
      "PLAYER            object\n",
      "POS               object\n",
      "TEAM              object\n",
      "PASS_ATT         float64\n",
      "PASS_COMP        float64\n",
      "PASS_COMP_PCT    float64\n",
      "PASS_YD          float64\n",
      "PASS_TD          float64\n",
      "PASS_INT         float64\n",
      "PASS_RATE        float64\n",
      "RUSH_ATT         float64\n",
      "RUSH_YD          float64\n",
      "RUSH_AVG         float64\n",
      "RUSH_TD          float64\n",
      "RECV_TARGT       float64\n",
      "RECV_RECPT       float64\n",
      "RECV_YD          float64\n",
      "RECV_AVG         float64\n",
      "RECV_TD          float64\n",
      "KICK_FG          float64\n",
      "KICK_FGAtt       float64\n",
      "KICK_XP          float64\n",
      "KICK_XPAtt       float64\n",
      "D/ST_INT         float64\n",
      "D/ST_Sty         float64\n",
      "D/ST_Sack        float64\n",
      "D/ST_TK          float64\n",
      "D/ST_FR          float64\n",
      "D/ST_FF          float64\n",
      "D/ST_TD          float64\n",
      "D/ST_PtsAll      float64\n",
      "D/ST_PaYdA       float64\n",
      "D/ST_RuYdA       float64\n",
      "D/ST_ToYdA       float64\n",
      "D/ST_PaYd/G      float64\n",
      "D/ST_RuYd/G      float64\n",
      "D/ST_ToYd/G      float64\n",
      "dtype: object\n",
      "Points           float64\n",
      "PLAYER            object\n",
      "POS               object\n",
      "TEAM              object\n",
      "PASS_YD           object\n",
      "PASS_TD           object\n",
      "PASS_INT          object\n",
      "RUSH_YD           object\n",
      "RUSH_TD           object\n",
      "RECV_YD           object\n",
      "RECV_TD           object\n",
      "KICK_XP          float64\n",
      "KICK_FG          float64\n",
      "KICK_FG_0-19     float64\n",
      "KICK_FG_20-29    float64\n",
      "KICK_FG_30-39    float64\n",
      "KICK_FG_40-49    float64\n",
      "KICK_FG_50+       object\n",
      "D/ST_Sack        float64\n",
      "D/ST_INT         float64\n",
      "D/ST_FR          float64\n",
      "D/ST_Sty         float64\n",
      "D/ST_TD          float64\n",
      "D/ST_RET_TD      float64\n",
      "D/ST_PtsAll      float64\n",
      "dtype: object\n",
      "FPts             float64\n",
      "PLAYER            object\n",
      "POS               object\n",
      "TEAM              object\n",
      "PASS_YD          float64\n",
      "PASS_TD          float64\n",
      "PASS_INT         float64\n",
      "PASS_COMP        float64\n",
      "PASS_ATT         float64\n",
      "PASS_COMP_PCT    float64\n",
      "RUSH_ATT         float64\n",
      "RUSH_YD          float64\n",
      "RUSH_TD          float64\n",
      "RECV_RECPT       float64\n",
      "RECV_YD          float64\n",
      "RECV_TD          float64\n",
      "KICK_XP          float64\n",
      "KICK_XPAtt       float64\n",
      "KICK_FG          float64\n",
      "KICK_FGAtt       float64\n",
      "KICK_FG%          object\n",
      "D/ST_Sack        float64\n",
      "D/ST_FR          float64\n",
      "D/ST_INT         float64\n",
      "D/ST_Sty         float64\n",
      "D/ST_TD          float64\n",
      "D/ST_RET_TD      float64\n",
      "D/ST_PtsAll      float64\n",
      "D/ST_PaYd/G      float64\n",
      "D/ST_RuYd/G      float64\n",
      "D/ST_ToYd/G      float64\n",
      "D/ST_PaYdA       float64\n",
      "D/ST_RuYdA       float64\n",
      "D/ST_ToYdA       float64\n",
      "dtype: object\n"
     ]
    }
   ],
   "source": [
    "#check all column types (will need data to be floats for later)\n",
    "print(df_espn_projections.dtypes)\n",
    "print(df_cbs_projections.dtypes)\n",
    "print(df_nfl_projections.dtypes)\n",
    "print(df_fft_projections.dtypes)"
   ]
  },
  {
   "cell_type": "markdown",
   "metadata": {},
   "source": [
    "#### Define Your League Scoring System\n",
    "Starting with ESPN standard scoring inputs."
   ]
  },
  {
   "cell_type": "code",
   "execution_count": 91,
   "metadata": {},
   "outputs": [
    {
     "name": "stdout",
     "output_type": "stream",
     "text": [
      "What are the points for every TD pass? 4\n",
      "What is the interval of passing yards that gets assigned points? (if have fractional league - make sure this is 1 and adjust points per interval accordingly) 25\n",
      "What are the points for every 25 passing yards? 1\n",
      "What are the points for every Two-Point Conversion pass? 2\n",
      "What are the loss of points for every Interception thrown? (put in negative number) -2\n"
     ]
    }
   ],
   "source": [
    "#passing scoring\n",
    "Pass_TD_pts = eval(input('What are the points for every TD pass? '))\n",
    "Pass_YD_interval = eval(input('What is the interval of passing yards that gets assigned points? (if have fractional league - make sure this is 1 and adjust points per interval accordingly) '))\n",
    "Pass_YD_interval_pts = eval(input(f'What are the points for every {Pass_YD_interval} passing yards? '))\n",
    "Pass_TwoPtConv_pts = eval(input('What are the points for every Two-Point Conversion pass? '))\n",
    "Pass_Int_Thrown_pts = eval(input('What are the loss of points for every Interception thrown? (put in negative number) '))\n",
    "\n",
    "# #other pass scoring custom options\n",
    "# Every <1, 5, 10> completions\n",
    "# Every <1, 5, 10> incomplete passes\n",
    "# 40+ yard TD pass bonus\n",
    "# 50+ yard TD pass bonus\n",
    "# 300-399 yard passing game\n",
    "# 400+ yard passing game\n",
    "# Each Pass Attempted\n",
    "# Every Time Sacked"
   ]
  },
  {
   "cell_type": "code",
   "execution_count": 92,
   "metadata": {},
   "outputs": [
    {
     "name": "stdout",
     "output_type": "stream",
     "text": [
      "What are the points for every TD rush? 4\n",
      "What is the interval of rushing yards that gets assigned points? (if have fractional league - make sure this is 1 and adjust points per interval accordingly) 10\n",
      "What are the points for every 10 rushing yards? 1\n",
      "What are the points for every Two-Point Conversion rush? 2\n"
     ]
    }
   ],
   "source": [
    "#rushing scoring\n",
    "Rush_TD_pts = eval(input('What are the points for every TD rush? '))\n",
    "Rush_YD_interval = eval(input('What is the interval of rushing yards that gets assigned points? (if have fractional league - make sure this is 1 and adjust points per interval accordingly) '))\n",
    "Rush_YD_interval_pts = eval(input(f'What are the points for every {Rush_YD_interval} rushing yards? '))\n",
    "Rush_TwoPtConv_pts = eval(input('What are the points for every Two-Point Conversion rush? '))\n",
    "\n",
    "# #other rush scoring custom options\n",
    "# Every <1, 5, 10> rushing attempts\n",
    "# 40+ yard TD rush bonus\n",
    "# 50+ yard TD rush bonus\n",
    "# 100-199 yard rushing game\n",
    "# 200+ yard rushing game"
   ]
  },
  {
   "cell_type": "code",
   "execution_count": 93,
   "metadata": {},
   "outputs": [
    {
     "name": "stdout",
     "output_type": "stream",
     "text": [
      "What are the points for every TD reception? 6\n",
      "What is the interval of receiving yards that gets assigned points? (if have fractional league - make sure this is 1 and adjust points per interval accordingly) 10\n",
      "What are the points for every 10 receiving yards? 1\n",
      "What are the points for every Two-Point Conversion receiving? 2\n",
      "PPR: What is the interval of number of receptions that gets assigned points? (if every reception earns points, this would be 1; if not a PPR league put 0) 0\n",
      "PPR: What are the points for every 0 receptions? (if not a PPR league put 0) 0\n"
     ]
    }
   ],
   "source": [
    "#receiving scoring\n",
    "Recv_TD_pts = eval(input('What are the points for every TD reception? '))\n",
    "Recv_YD_interval = eval(input('What is the interval of receiving yards that gets assigned points? (if have fractional league - make sure this is 1 and adjust points per interval accordingly) '))\n",
    "Recv_YD_interval_pts = eval(input(f'What are the points for every {Recv_YD_interval} receiving yards? '))\n",
    "Recv_TwoPtConv_pts = eval(input('What are the points for every Two-Point Conversion receiving? '))\n",
    "Recv_PPR_interval = eval(input('PPR: What is the interval of number of receptions that gets assigned points? (if every reception earns points, this would be 1; if not a PPR league put 0) '))\n",
    "Recv_PPR_interval_pts = eval(input(f'PPR: What are the points for every {Recv_PPR_interval} receptions? (if not a PPR league put 0) '))\n",
    "\n",
    "# #other receiving scoring custom options\n",
    "# 40+ yard TD rec bonus\n",
    "# 50+ yard TD rec bonus\n",
    "# 100-199 yard receiving game\n",
    "# 200+ yard receiving game\n",
    "# Receiving Target"
   ]
  },
  {
   "cell_type": "code",
   "execution_count": 94,
   "metadata": {},
   "outputs": [
    {
     "name": "stdout",
     "output_type": "stream",
     "text": [
      "What are the points for every Kick Return TD for offensive players? 6\n",
      "What are the points for every Punt Return TD for offensive players? 6\n",
      "What are the points for every Fumble Recovered for TD? 6\n",
      "What are the loss of points for every fumble lost? (put in negative number) -2\n"
     ]
    }
   ],
   "source": [
    "#miscellaneous offense - but the season projections don't really project this data\n",
    "Off_KickRet_TD_pts = eval(input('What are the points for every Kick Return TD for offensive players? '))\n",
    "Off_PuntRet_TD_pts = eval(input('What are the points for every Punt Return TD for offensive players? '))\n",
    "Off_FumbleRecov_TD_pts = eval(input('What are the points for every Fumble Recovered for TD? '))\n",
    "Off_FumbleLost_pts = eval(input('What are the loss of points for every fumble lost? (put in negative number) '))\n",
    "\n",
    "# #other misc offense scoring custom options\n",
    "# Every <1, 10, 25> kickoff return yds \n",
    "# Every <1, 10, 25> punt return yards\n",
    "# Each Fumble"
   ]
  },
  {
   "cell_type": "code",
   "execution_count": 95,
   "metadata": {},
   "outputs": [
    {
     "name": "stdout",
     "output_type": "stream",
     "text": [
      "What are the points for every Field Goal Made of length 50+ yards? 5\n",
      "What are the points for every Field Goal Made of length 40 - 49 yards? 4\n",
      "What are the points for every Field Goal Made of length 0 - 39 yards? 3\n",
      "What are the points for each extra point made? 1\n",
      "What are the loss of points for every Field Goal missed (any distance)? (put in negative number) -1\n"
     ]
    }
   ],
   "source": [
    "#kicking scoring\n",
    "Kick_FGM_50_plus_pts = eval(input('What are the points for every Field Goal Made of length 50+ yards? '))\n",
    "Kick_FGM_40_49_pts = eval(input('What are the points for every Field Goal Made of length 40 - 49 yards? '))\n",
    "Kick_FGM_0_39_pts = eval(input('What are the points for every Field Goal Made of length 0 - 39 yards? '))\n",
    "Kick_XPM_pts = eval(input('What are the points for each extra point made? '))\n",
    "Kick_FG_miss_pts = eval(input('What are the loss of points for every Field Goal missed (any distance)? (put in negative number) '))\n",
    "\n",
    "# #other kicking scoring custom options\n",
    "# Each PAT Attempted\n",
    "# Each PAT Missed\n",
    "# Total FG Attempted\n",
    "# FG Attempted (0-39 yards)\n",
    "# FG Attempted (40-49 yards)\n",
    "# FG Attempted (50+ yards)\n",
    "# FG Missed (0-39 yards)\n",
    "# FG Missed (40-49 yards)\n",
    "# FG Missed (50+ yards)"
   ]
  },
  {
   "cell_type": "code",
   "execution_count": 96,
   "metadata": {},
   "outputs": [
    {
     "name": "stdout",
     "output_type": "stream",
     "text": [
      "What are the points for every Kick Return TD by D/ST special teams? 6\n",
      "What are the points for every Punt Return TD by D/ST special teams? 6\n",
      "What are the points for every Interception Returned for TD by D/ST defense? 6\n",
      "What are the points for every Fumble Returned for TD by D/ST? 6\n",
      "What are the points for every Blocked Punt or Field Goal returned for TD by D/ST? 6\n",
      "What are the points for each Interception by D/ST defense? 2\n",
      "What are the points for each Fumble Recovered by D/ST? 2\n",
      "What are the points for every Blocked Punt, PAT or Field Goal by D/ST? 2\n",
      "What are the points for every Safety by D/ST defense? 2\n",
      "What are the points for every Sack by D/ST defense? 1\n",
      "What are the points for 0 points allowed by defense/special teams? 5\n",
      "What are the points for 1-6 points allowed by defense/special teams? 4\n",
      "What are the points for 7-13 points allowed by defense/special teams? 3\n",
      "What are the points for 14-17 points allowed by defense/special teams? 1\n",
      "What are the points for 18-27 points allowed by defense/special teams? 0\n",
      "What are the points for 28-34 points allowed by defense/special teams? -1\n",
      "What are the points for 35-45 points allowed by defense/special teams? -3\n",
      "What are the points for 46+ points allowed by defense/special teams? -5\n"
     ]
    }
   ],
   "source": [
    "#team defense/special teams scoring\n",
    "DST_KickRet_TD_pts = eval(input('What are the points for every Kick Return TD by D/ST special teams? '))\n",
    "DST_PuntRet_TD_pts = eval(input('What are the points for every Punt Return TD by D/ST special teams? '))\n",
    "DST_IntRet_TD_pts = eval(input('What are the points for every Interception Returned for TD by D/ST defense? '))\n",
    "DST_FumbleRecov_TD_pts = eval(input('What are the points for every Fumble Returned for TD by D/ST? '))\n",
    "DST_BlkPK_TD_pts = eval(input('What are the points for every Blocked Punt or Field Goal returned for TD by D/ST? '))\n",
    "DST_Int_pts = eval(input('What are the points for each Interception by D/ST defense? '))\n",
    "DST_FumbleRecov_pts = eval(input('What are the points for each Fumble Recovered by D/ST? '))\n",
    "DST_BlkPK_pts = eval(input('What are the points for every Blocked Punt, PAT or Field Goal by D/ST? '))\n",
    "DST_Sty_pts = eval(input('What are the points for every Safety by D/ST defense? '))\n",
    "DST_Sack_pts = eval(input('What are the points for every Sack by D/ST defense? '))\n",
    "DST_PtAll_0_pts = eval(input('What are the points for 0 points allowed by defense/special teams? '))\n",
    "DST_PtAll_1_6_pts = eval(input('What are the points for 1-6 points allowed by defense/special teams? '))\n",
    "DST_PtAll_7_13_pts = eval(input('What are the points for 7-13 points allowed by defense/special teams? '))\n",
    "DST_PtAll_14_17_pts = eval(input('What are the points for 14-17 points allowed by defense/special teams? '))\n",
    "DST_PtAll_18_27_pts = eval(input('What are the points for 18-27 points allowed by defense/special teams? '))\n",
    "DST_PtAll_28_34_pts = eval(input('What are the points for 28-34 points allowed by defense/special teams? '))\n",
    "DST_PtAll_35_45_pts = eval(input('What are the points for 35-45 points allowed by defense/special teams? '))\n",
    "DST_PtAll_46_plus_pts = eval(input('What are the points for 46+ points allowed by defense/special teams? '))\n",
    "\n",
    "\n",
    "# # other custom defense/special teams scoring options:\n",
    "# Every kickoff return yds\n",
    "# Every punt return yards\n",
    "# Every total tackles\n",
    "# Each Fumble Forced\n",
    "# Each Tackle for Loss\n",
    "# Passes Defensed\n",
    "# Every Point Allowed\n",
    "# Every Yard Allowed\n",
    "# Less than 100 total yards allowed\n",
    "# 100-199 total yards allowed\n",
    "# 200-299 total yards allowed\n",
    "# 300-349 total yards allowed\n",
    "# 350-399 total yards allowed\n",
    "# 400-449 total yards allowed\n",
    "# 450-499 total yards allowed\n",
    "# 500-549 total yards allowed\n",
    "# 550+ total yards allowed"
   ]
  },
  {
   "cell_type": "code",
   "execution_count": 14,
   "metadata": {},
   "outputs": [],
   "source": [
    "# #punting scoring custom options (punters not used in standard game)\n",
    "# Every Punt\n",
    "# Every 1 punting yards\n",
    "# Punts Inside the 10\n",
    "# Punts Inside the 20\n",
    "# Blocked Punts\n",
    "# Punts Returned\n",
    "# Every Return Yard Allowed\n",
    "# Touchbacks\n",
    "# Fair Catches\n",
    "# Punt Average 44.0+\n",
    "# Punt Average 42.0-43.9\n",
    "# Punt Average 40.0-41.9\n",
    "# Punt Average 38.0-39.9\n",
    "# Punt Average 36.0-37.9\n",
    "# Punt Average 34.0-35.9\n",
    "# Punt Average 33.9 or less"
   ]
  },
  {
   "cell_type": "code",
   "execution_count": 15,
   "metadata": {},
   "outputs": [],
   "source": [
    "# #individual defensive player scoring custom options (not used in standard game)\n",
    "#Every <0.5, 1> sacks\n",
    "#Every <1, 3, 5> total tackles\n",
    "#Interception Return TD\n",
    "#Fumble Return TD\n",
    "#Blocked Punt or FG return for TD\n",
    "#Blocked Punt, PAT or FG\n",
    "#Each Interception\n",
    "#Each Fumble Recovered\n",
    "#Each Fumble Forced\n",
    "#Each Safety\n",
    "#Every Assisted Tackle\n",
    "#Every Solo Tackle\n",
    "#Each Tackle for Loss\n",
    "#Passes Defensed"
   ]
  },
  {
   "cell_type": "code",
   "execution_count": 16,
   "metadata": {},
   "outputs": [],
   "source": [
    "# # Head Coach scoring custom options (not used in standard game)\n",
    "#Team Win\n",
    "#Team Loss\n",
    "#Team Tie\n",
    "#Every Point Scored\n",
    "#25+ point Win Margin\n",
    "#20-24 point Win Margin\n",
    "#15-19 point Win Margin\n",
    "#10-14 point Win Margin\n",
    "#5-9 point Win Margin\n",
    "#1-4 point Win Margin\n",
    "#1-4 point Loss Margin\n",
    "#5-9 point Loss Margin\n",
    "#10-14 point Loss Margin\n",
    "#15-19 point Loss Margin\n",
    "#20-24 point Loss Margin\n",
    "#25+ point Loss Margin"
   ]
  },
  {
   "cell_type": "code",
   "execution_count": null,
   "metadata": {},
   "outputs": [],
   "source": []
  },
  {
   "cell_type": "markdown",
   "metadata": {},
   "source": [
    "#### Define Your League Roster Criteria\n",
    "Starting with ESPN standard roster."
   ]
  },
  {
   "cell_type": "code",
   "execution_count": 97,
   "metadata": {},
   "outputs": [
    {
     "name": "stdout",
     "output_type": "stream",
     "text": [
      "What is your total roster size? 16\n",
      "What is the number of QB starters? 1\n",
      "What is the maximum number of QBs? 4\n",
      "What is the number of RB starters? 2\n",
      "What is the maximum number of RBs? 8\n",
      "What is the number of WR starters? 2\n",
      "What is the maximum number of WRs? 8\n",
      "What is the number of TE starters? 1\n",
      "What is the maximum number of TEs? 3\n",
      "What is the number of Flex (RB/WR/TE) starters? 1\n",
      "What is the number of DST starters? 1\n",
      "What is the maximum number of DSTs? 3\n",
      "What is the number of K starters? 1\n",
      "What is the maximum number of Ks? 3\n"
     ]
    }
   ],
   "source": [
    "#define league roster requirements - starters and max number at each position / size of bench\n",
    "roster_total = eval(input('What is your total roster size? '))\n",
    "roster_QB_starter = eval(input('What is the number of QB starters? '))\n",
    "roster_QB_max = eval(input('What is the maximum number of QBs? '))\n",
    "roster_RB_starter = eval(input('What is the number of RB starters? '))\n",
    "roster_RB_max = eval(input('What is the maximum number of RBs? '))\n",
    "roster_WR_starter = eval(input('What is the number of WR starters? '))\n",
    "roster_WR_max = eval(input('What is the maximum number of WRs? '))\n",
    "roster_TE_starter = eval(input('What is the number of TE starters? '))\n",
    "roster_TE_max = eval(input('What is the maximum number of TEs? '))\n",
    "#assume Flex is RB/WR/TE\n",
    "roster_Flex_starter = eval(input('What is the number of Flex (RB/WR/TE) starters? '))\n",
    "roster_DST_starter = eval(input('What is the number of DST starters? '))\n",
    "roster_DST_max = eval(input('What is the maximum number of DSTs? '))\n",
    "roster_K_starter = eval(input('What is the number of K starters? '))\n",
    "roster_K_max = eval(input('What is the maximum number of Ks? '))"
   ]
  },
  {
   "cell_type": "code",
   "execution_count": 98,
   "metadata": {},
   "outputs": [
    {
     "name": "stdout",
     "output_type": "stream",
     "text": [
      "What is the number of teams in your league? 10\n"
     ]
    }
   ],
   "source": [
    "#define how big your league is\n",
    "league_teams = eval(input('What is the number of teams in your league? '))"
   ]
  },
  {
   "cell_type": "markdown",
   "metadata": {},
   "source": [
    "#### Calculate Season Points Projections Based on Your League Criteria\n",
    "Start with each source individually ESPN, CBS, NFL, FFt"
   ]
  },
  {
   "cell_type": "code",
   "execution_count": 21,
   "metadata": {},
   "outputs": [
    {
     "data": {
      "text/html": [
       "<div>\n",
       "<style scoped>\n",
       "    .dataframe tbody tr th:only-of-type {\n",
       "        vertical-align: middle;\n",
       "    }\n",
       "\n",
       "    .dataframe tbody tr th {\n",
       "        vertical-align: top;\n",
       "    }\n",
       "\n",
       "    .dataframe thead th {\n",
       "        text-align: right;\n",
       "    }\n",
       "</style>\n",
       "<table border=\"1\" class=\"dataframe\">\n",
       "  <thead>\n",
       "    <tr style=\"text-align: right;\">\n",
       "      <th></th>\n",
       "      <th>RNK</th>\n",
       "      <th>PTS</th>\n",
       "      <th>PLAYER</th>\n",
       "      <th>TEAM</th>\n",
       "      <th>POS</th>\n",
       "      <th>PASS_YD</th>\n",
       "      <th>PASS_TD</th>\n",
       "      <th>PASS_INT</th>\n",
       "      <th>PASS_COMP</th>\n",
       "      <th>PASS_ATT</th>\n",
       "      <th>...</th>\n",
       "      <th>KICK_FG</th>\n",
       "      <th>KICK_FGAtt</th>\n",
       "      <th>KICK_FG%</th>\n",
       "      <th>KICK_XP</th>\n",
       "      <th>KICK_XPAtt</th>\n",
       "      <th>D/ST_Sack</th>\n",
       "      <th>D/ST_FF</th>\n",
       "      <th>D/ST_FR</th>\n",
       "      <th>D/ST_INT</th>\n",
       "      <th>D/ST_TD</th>\n",
       "    </tr>\n",
       "  </thead>\n",
       "  <tbody>\n",
       "    <tr>\n",
       "      <th>0</th>\n",
       "      <td>1</td>\n",
       "      <td>316.8</td>\n",
       "      <td>Tom Brady</td>\n",
       "      <td>NE</td>\n",
       "      <td>QB</td>\n",
       "      <td>4704.8</td>\n",
       "      <td>32.9</td>\n",
       "      <td>7.8</td>\n",
       "      <td>390.5</td>\n",
       "      <td>606.0</td>\n",
       "      <td>...</td>\n",
       "      <td>NaN</td>\n",
       "      <td>NaN</td>\n",
       "      <td>NaN</td>\n",
       "      <td>NaN</td>\n",
       "      <td>NaN</td>\n",
       "      <td>NaN</td>\n",
       "      <td>NaN</td>\n",
       "      <td>NaN</td>\n",
       "      <td>NaN</td>\n",
       "      <td>NaN</td>\n",
       "    </tr>\n",
       "    <tr>\n",
       "      <th>1</th>\n",
       "      <td>2</td>\n",
       "      <td>315.8</td>\n",
       "      <td>Aaron Rodgers</td>\n",
       "      <td>GB</td>\n",
       "      <td>QB</td>\n",
       "      <td>4016.3</td>\n",
       "      <td>33.5</td>\n",
       "      <td>9.2</td>\n",
       "      <td>358.6</td>\n",
       "      <td>564.9</td>\n",
       "      <td>...</td>\n",
       "      <td>NaN</td>\n",
       "      <td>NaN</td>\n",
       "      <td>NaN</td>\n",
       "      <td>NaN</td>\n",
       "      <td>NaN</td>\n",
       "      <td>NaN</td>\n",
       "      <td>NaN</td>\n",
       "      <td>NaN</td>\n",
       "      <td>NaN</td>\n",
       "      <td>NaN</td>\n",
       "    </tr>\n",
       "    <tr>\n",
       "      <th>2</th>\n",
       "      <td>3</td>\n",
       "      <td>302.6</td>\n",
       "      <td>Cam Newton</td>\n",
       "      <td>Car</td>\n",
       "      <td>QB</td>\n",
       "      <td>3776.2</td>\n",
       "      <td>22.4</td>\n",
       "      <td>14.1</td>\n",
       "      <td>312.5</td>\n",
       "      <td>529.7</td>\n",
       "      <td>...</td>\n",
       "      <td>NaN</td>\n",
       "      <td>NaN</td>\n",
       "      <td>NaN</td>\n",
       "      <td>NaN</td>\n",
       "      <td>NaN</td>\n",
       "      <td>NaN</td>\n",
       "      <td>NaN</td>\n",
       "      <td>NaN</td>\n",
       "      <td>NaN</td>\n",
       "      <td>NaN</td>\n",
       "    </tr>\n",
       "    <tr>\n",
       "      <th>3</th>\n",
       "      <td>4</td>\n",
       "      <td>294.5</td>\n",
       "      <td>Russell Wilson</td>\n",
       "      <td>Sea</td>\n",
       "      <td>QB</td>\n",
       "      <td>3695.4</td>\n",
       "      <td>25.8</td>\n",
       "      <td>10.1</td>\n",
       "      <td>311.7</td>\n",
       "      <td>503.7</td>\n",
       "      <td>...</td>\n",
       "      <td>NaN</td>\n",
       "      <td>NaN</td>\n",
       "      <td>NaN</td>\n",
       "      <td>NaN</td>\n",
       "      <td>NaN</td>\n",
       "      <td>NaN</td>\n",
       "      <td>NaN</td>\n",
       "      <td>NaN</td>\n",
       "      <td>NaN</td>\n",
       "      <td>NaN</td>\n",
       "    </tr>\n",
       "    <tr>\n",
       "      <th>4</th>\n",
       "      <td>5</td>\n",
       "      <td>288.4</td>\n",
       "      <td>Andrew Luck</td>\n",
       "      <td>Ind</td>\n",
       "      <td>QB</td>\n",
       "      <td>4310.1</td>\n",
       "      <td>28.1</td>\n",
       "      <td>16.2</td>\n",
       "      <td>367.1</td>\n",
       "      <td>586.2</td>\n",
       "      <td>...</td>\n",
       "      <td>NaN</td>\n",
       "      <td>NaN</td>\n",
       "      <td>NaN</td>\n",
       "      <td>NaN</td>\n",
       "      <td>NaN</td>\n",
       "      <td>NaN</td>\n",
       "      <td>NaN</td>\n",
       "      <td>NaN</td>\n",
       "      <td>NaN</td>\n",
       "      <td>NaN</td>\n",
       "    </tr>\n",
       "  </tbody>\n",
       "</table>\n",
       "<p>5 rows × 30 columns</p>\n",
       "</div>"
      ],
      "text/plain": [
       "   RNK    PTS          PLAYER TEAM POS PASS_YD PASS_TD PASS_INT  PASS_COMP  \\\n",
       "0    1  316.8       Tom Brady   NE  QB  4704.8    32.9      7.8      390.5   \n",
       "1    2  315.8   Aaron Rodgers   GB  QB  4016.3    33.5      9.2      358.6   \n",
       "2    3  302.6      Cam Newton  Car  QB  3776.2    22.4     14.1      312.5   \n",
       "3    4  294.5  Russell Wilson  Sea  QB  3695.4    25.8     10.1      311.7   \n",
       "4    5  288.4     Andrew Luck  Ind  QB  4310.1    28.1     16.2      367.1   \n",
       "\n",
       "   PASS_ATT   ...     KICK_FG KICK_FGAtt KICK_FG% KICK_XP KICK_XPAtt  \\\n",
       "0     606.0   ...         NaN        NaN      NaN     NaN        NaN   \n",
       "1     564.9   ...         NaN        NaN      NaN     NaN        NaN   \n",
       "2     529.7   ...         NaN        NaN      NaN     NaN        NaN   \n",
       "3     503.7   ...         NaN        NaN      NaN     NaN        NaN   \n",
       "4     586.2   ...         NaN        NaN      NaN     NaN        NaN   \n",
       "\n",
       "  D/ST_Sack D/ST_FF  D/ST_FR  D/ST_INT  D/ST_TD  \n",
       "0       NaN     NaN      NaN       NaN      NaN  \n",
       "1       NaN     NaN      NaN       NaN      NaN  \n",
       "2       NaN     NaN      NaN       NaN      NaN  \n",
       "3       NaN     NaN      NaN       NaN      NaN  \n",
       "4       NaN     NaN      NaN       NaN      NaN  \n",
       "\n",
       "[5 rows x 30 columns]"
      ]
     },
     "execution_count": 21,
     "metadata": {},
     "output_type": "execute_result"
    }
   ],
   "source": [
    "df_espn_projections.head()"
   ]
  },
  {
   "cell_type": "code",
   "execution_count": 115,
   "metadata": {},
   "outputs": [
    {
     "data": {
      "text/html": [
       "<div>\n",
       "<style scoped>\n",
       "    .dataframe tbody tr th:only-of-type {\n",
       "        vertical-align: middle;\n",
       "    }\n",
       "\n",
       "    .dataframe tbody tr th {\n",
       "        vertical-align: top;\n",
       "    }\n",
       "\n",
       "    .dataframe thead th {\n",
       "        text-align: right;\n",
       "    }\n",
       "</style>\n",
       "<table border=\"1\" class=\"dataframe\">\n",
       "  <thead>\n",
       "    <tr style=\"text-align: right;\">\n",
       "      <th></th>\n",
       "      <th>RNK</th>\n",
       "      <th>PTS</th>\n",
       "      <th>PLAYER</th>\n",
       "      <th>TEAM</th>\n",
       "      <th>POS</th>\n",
       "      <th>PASS_YD</th>\n",
       "      <th>PASS_TD</th>\n",
       "      <th>PASS_INT</th>\n",
       "      <th>PASS_COMP</th>\n",
       "      <th>PASS_ATT</th>\n",
       "      <th>...</th>\n",
       "      <th>KICK_FG</th>\n",
       "      <th>KICK_FGAtt</th>\n",
       "      <th>KICK_FG%</th>\n",
       "      <th>KICK_XP</th>\n",
       "      <th>KICK_XPAtt</th>\n",
       "      <th>D/ST_Sack</th>\n",
       "      <th>D/ST_FF</th>\n",
       "      <th>D/ST_FR</th>\n",
       "      <th>D/ST_INT</th>\n",
       "      <th>D/ST_TD</th>\n",
       "    </tr>\n",
       "  </thead>\n",
       "  <tbody>\n",
       "    <tr>\n",
       "      <th>986</th>\n",
       "      <td>28</td>\n",
       "      <td>75.4</td>\n",
       "      <td>Seahawks D/ST</td>\n",
       "      <td>Seahawks</td>\n",
       "      <td>D/ST</td>\n",
       "      <td>NaN</td>\n",
       "      <td>NaN</td>\n",
       "      <td>NaN</td>\n",
       "      <td>NaN</td>\n",
       "      <td>NaN</td>\n",
       "      <td>...</td>\n",
       "      <td>NaN</td>\n",
       "      <td>NaN</td>\n",
       "      <td>NaN</td>\n",
       "      <td>NaN</td>\n",
       "      <td>NaN</td>\n",
       "      <td>34.0</td>\n",
       "      <td>10.8</td>\n",
       "      <td>7.0</td>\n",
       "      <td>11.0</td>\n",
       "      <td>2.1</td>\n",
       "    </tr>\n",
       "    <tr>\n",
       "      <th>987</th>\n",
       "      <td>29</td>\n",
       "      <td>73.1</td>\n",
       "      <td>Colts D/ST</td>\n",
       "      <td>Colts</td>\n",
       "      <td>D/ST</td>\n",
       "      <td>NaN</td>\n",
       "      <td>NaN</td>\n",
       "      <td>NaN</td>\n",
       "      <td>NaN</td>\n",
       "      <td>NaN</td>\n",
       "      <td>...</td>\n",
       "      <td>NaN</td>\n",
       "      <td>NaN</td>\n",
       "      <td>NaN</td>\n",
       "      <td>NaN</td>\n",
       "      <td>NaN</td>\n",
       "      <td>30.0</td>\n",
       "      <td>10.8</td>\n",
       "      <td>7.0</td>\n",
       "      <td>12.0</td>\n",
       "      <td>2.2</td>\n",
       "    </tr>\n",
       "    <tr>\n",
       "      <th>988</th>\n",
       "      <td>30</td>\n",
       "      <td>72.2</td>\n",
       "      <td>Raiders D/ST</td>\n",
       "      <td>Raiders</td>\n",
       "      <td>D/ST</td>\n",
       "      <td>NaN</td>\n",
       "      <td>NaN</td>\n",
       "      <td>NaN</td>\n",
       "      <td>NaN</td>\n",
       "      <td>NaN</td>\n",
       "      <td>...</td>\n",
       "      <td>NaN</td>\n",
       "      <td>NaN</td>\n",
       "      <td>NaN</td>\n",
       "      <td>NaN</td>\n",
       "      <td>NaN</td>\n",
       "      <td>25.1</td>\n",
       "      <td>13.0</td>\n",
       "      <td>8.5</td>\n",
       "      <td>12.0</td>\n",
       "      <td>2.5</td>\n",
       "    </tr>\n",
       "    <tr>\n",
       "      <th>989</th>\n",
       "      <td>31</td>\n",
       "      <td>69.1</td>\n",
       "      <td>Jets D/ST</td>\n",
       "      <td>Jets</td>\n",
       "      <td>D/ST</td>\n",
       "      <td>NaN</td>\n",
       "      <td>NaN</td>\n",
       "      <td>NaN</td>\n",
       "      <td>NaN</td>\n",
       "      <td>NaN</td>\n",
       "      <td>...</td>\n",
       "      <td>NaN</td>\n",
       "      <td>NaN</td>\n",
       "      <td>NaN</td>\n",
       "      <td>NaN</td>\n",
       "      <td>NaN</td>\n",
       "      <td>27.0</td>\n",
       "      <td>12.3</td>\n",
       "      <td>8.0</td>\n",
       "      <td>10.3</td>\n",
       "      <td>2.1</td>\n",
       "    </tr>\n",
       "    <tr>\n",
       "      <th>990</th>\n",
       "      <td>32</td>\n",
       "      <td>68.8</td>\n",
       "      <td>49ers D/ST</td>\n",
       "      <td>49ers</td>\n",
       "      <td>D/ST</td>\n",
       "      <td>NaN</td>\n",
       "      <td>NaN</td>\n",
       "      <td>NaN</td>\n",
       "      <td>NaN</td>\n",
       "      <td>NaN</td>\n",
       "      <td>...</td>\n",
       "      <td>NaN</td>\n",
       "      <td>NaN</td>\n",
       "      <td>NaN</td>\n",
       "      <td>NaN</td>\n",
       "      <td>NaN</td>\n",
       "      <td>26.4</td>\n",
       "      <td>11.2</td>\n",
       "      <td>7.3</td>\n",
       "      <td>11.8</td>\n",
       "      <td>2.2</td>\n",
       "    </tr>\n",
       "  </tbody>\n",
       "</table>\n",
       "<p>5 rows × 30 columns</p>\n",
       "</div>"
      ],
      "text/plain": [
       "     RNK   PTS         PLAYER      TEAM   POS PASS_YD PASS_TD PASS_INT  \\\n",
       "986   28  75.4  Seahawks D/ST  Seahawks  D/ST     NaN     NaN      NaN   \n",
       "987   29  73.1     Colts D/ST     Colts  D/ST     NaN     NaN      NaN   \n",
       "988   30  72.2   Raiders D/ST   Raiders  D/ST     NaN     NaN      NaN   \n",
       "989   31  69.1      Jets D/ST      Jets  D/ST     NaN     NaN      NaN   \n",
       "990   32  68.8     49ers D/ST     49ers  D/ST     NaN     NaN      NaN   \n",
       "\n",
       "     PASS_COMP  PASS_ATT   ...     KICK_FG KICK_FGAtt KICK_FG% KICK_XP  \\\n",
       "986        NaN       NaN   ...         NaN        NaN      NaN     NaN   \n",
       "987        NaN       NaN   ...         NaN        NaN      NaN     NaN   \n",
       "988        NaN       NaN   ...         NaN        NaN      NaN     NaN   \n",
       "989        NaN       NaN   ...         NaN        NaN      NaN     NaN   \n",
       "990        NaN       NaN   ...         NaN        NaN      NaN     NaN   \n",
       "\n",
       "    KICK_XPAtt D/ST_Sack D/ST_FF  D/ST_FR  D/ST_INT  D/ST_TD  \n",
       "986        NaN      34.0    10.8      7.0      11.0      2.1  \n",
       "987        NaN      30.0    10.8      7.0      12.0      2.2  \n",
       "988        NaN      25.1    13.0      8.5      12.0      2.5  \n",
       "989        NaN      27.0    12.3      8.0      10.3      2.1  \n",
       "990        NaN      26.4    11.2      7.3      11.8      2.2  \n",
       "\n",
       "[5 rows x 30 columns]"
      ]
     },
     "execution_count": 115,
     "metadata": {},
     "output_type": "execute_result"
    }
   ],
   "source": [
    "df_espn_projections.tail()"
   ]
  },
  {
   "cell_type": "code",
   "execution_count": 20,
   "metadata": {},
   "outputs": [
    {
     "data": {
      "text/plain": [
       "Index(['RNK', 'PTS', 'PLAYER', 'TEAM', 'POS', 'PASS_YD', 'PASS_TD', 'PASS_INT',\n",
       "       'PASS_COMP', 'PASS_ATT', 'PASS_COMP_PCT', 'RUSH_ATT', 'RUSH_YD',\n",
       "       'RUSH_TD', 'RECV_RECPT', 'RECV_YD', 'RECV_TD', 'KICK_FG_1-39',\n",
       "       'KICK_FG_40-49', 'KICK_FG_50+', 'KICK_FG', 'KICK_FGAtt', 'KICK_FG%',\n",
       "       'KICK_XP', 'KICK_XPAtt', 'D/ST_Sack', 'D/ST_FF', 'D/ST_FR', 'D/ST_INT',\n",
       "       'D/ST_TD'],\n",
       "      dtype='object')"
      ]
     },
     "execution_count": 20,
     "metadata": {},
     "output_type": "execute_result"
    }
   ],
   "source": [
    "df_espn_projections.columns"
   ]
  },
  {
   "cell_type": "code",
   "execution_count": 119,
   "metadata": {},
   "outputs": [],
   "source": [
    "#create a dictionary that uses the scoring category as key and stores a list of info to be able to make calculations\n",
    "#0th item having calculation type (multiply, interval, subtract, defense_pts_allow)\n",
    "#1st item the value for the scoring criteria (for defense_pts_allow will have a list of different pt values)\n",
    "#2nd item having the column name in df where stored\n",
    "#3rd item (if exists) \n",
    "    #interval calc type: interval calculated detail (eg Pass/Rush/Recv_YD_interval)\n",
    "    #subtract calc type: column need to subtract from first column (eg. 2nd item 'KICK_FGAtt', 3rd item 'KICK_FG')\n",
    "    #defense_pts_allow calc type: will be list of the max points for each score range that correspond to the initial list of point values\n",
    "\n",
    "scoring_assoc_calc_espn = {\n",
    "                        #passing scoring\n",
    "                        'Pass_TD_pts': ['multiply', Pass_TD_pts, 'PASS_TD'],\n",
    "                        'Pass_YD_interval_pts': ['interval', Pass_YD_interval_pts, 'PASS_YD', Pass_YD_interval],\n",
    "                        'Pass_TwoPtConv_pts': ['multiply', Pass_TwoPtConv_pts, None],\n",
    "                        'Pass_Int_Thrown_pts': ['multiply', Pass_Int_Thrown_pts, 'PASS_INT'],\n",
    "                        #rushing scoring\n",
    "                        'Rush_TD_pts': ['multiply', Rush_TD_pts, 'RUSH_TD'],\n",
    "                        'Rush_YD_interval_pts': ['interval', Rush_YD_interval_pts, 'RUSH_YD', Rush_YD_interval],\n",
    "                        'Rush_TwoPtConv_pts': ['multiply', Rush_TwoPtConv_pts, None],\n",
    "                        #receiving scoring\n",
    "                        'Recv_TD_pts': ['multiply', Recv_TD_pts, 'RECV_TD'],\n",
    "                        'Recv_YD_interval_pts': ['interval', Recv_YD_interval_pts, 'RECV_YD', Recv_YD_interval],\n",
    "                        'Recv_TwoPtConv_pts': ['multiply', Recv_TwoPtConv_pts, None],\n",
    "                        'Recv_PPR_interval_pts': ['interval', Recv_PPR_interval, 'RECV_RECPT', Recv_PPR_interval_pts],\n",
    "                        #miscellaneous offense - but the season projections don't really project this data\n",
    "                        'Off_KickRet_TD_pts': ['multiply', Off_KickRet_TD_pts, None],\n",
    "                        'Off_PuntRet_TD_pts': ['multiply', Off_PuntRet_TD_pts, None],\n",
    "                        'Off_FumbleRecov_TD_pts': ['multiply', Off_FumbleRecov_TD_pts, None],\n",
    "                        'Off_FumbleLost_pts': ['multiply', Off_FumbleLost_pts, None],\n",
    "                        #kicking scoring\n",
    "                        'Kick_FGM_50_plus_pts': ['multiply', Kick_FGM_50_plus_pts, 'KICK_FG_50+'],\n",
    "                        'Kick_FGM_40_49_pts': ['multiply', Kick_FGM_40_49_pts, 'KICK_FG_40-49'],\n",
    "                        'Kick_FGM_0_39_pts': ['multiply', Kick_FGM_0_39_pts, 'KICK_FG_1-39'],\n",
    "                        'Kick_XPM_pts': ['multiply', Kick_XPM_pts, 'KICK_XP'],\n",
    "                        'Kick_FG_miss_pts': ['subtract', Kick_FG_miss_pts, 'KICK_FGAtt', 'KICK_FG'],\n",
    "                        #team defense/special teams scoring (some of the D/ST teams may be grouped into one column,\n",
    "                        #make sure to just calculate once and group it in Int TDs - assumes all D/ST TDs have same value)\n",
    "                        'DST_KickRet_TD_pts': ['multiply', DST_KickRet_TD_pts, None],\n",
    "                        'DST_PuntRet_TD_pts': ['multiply', DST_PuntRet_TD_pts, None],\n",
    "                        'DST_IntRet_TD_pts': ['multiply', DST_IntRet_TD_pts, 'D/ST_TD'],\n",
    "                        'DST_FumbleRecov_TD_pts': ['multiply', DST_FumbleRecov_TD_pts, None],\n",
    "                        'DST_BlkPK_TD_pts': ['multiply', DST_BlkPK_TD_pts, None],\n",
    "                        'DST_Int_pts': ['multiply', DST_Int_pts, 'D/ST_INT'],\n",
    "                        'DST_FumbleRecov_pts': ['multiply', DST_FumbleRecov_pts, 'D/ST_FR'],\n",
    "                        'DST_BlkPK_pts': ['multiply', DST_BlkPK_pts, None],\n",
    "                        'DST_Sty_pts': ['multiply', DST_Sty_pts, None],\n",
    "                        'DST_Sack_pts': ['multiply', DST_Sack_pts, 'D/ST_Sack'],\n",
    "                        #make sure defense/st points allowed column is per game and not whole season\n",
    "                        'DST_PtAll_pts': ['defense_pts_allow',\n",
    "                                          [DST_PtAll_0_pts, DST_PtAll_1_6_pts, DST_PtAll_7_13_pts,\n",
    "                                           DST_PtAll_14_17_pts, DST_PtAll_18_27_pts, DST_PtAll_28_34_pts,\n",
    "                                           DST_PtAll_35_45_pts, DST_PtAll_46_plus_pts],\n",
    "                                          None,\n",
    "                                          [0, 6, 13, 17, 27, 34, 45, 100]]\n",
    "                    }\n"
   ]
  },
  {
   "cell_type": "code",
   "execution_count": 127,
   "metadata": {},
   "outputs": [],
   "source": [
    "# CALCULATE SEASON FANTASTY POINTS PROJECTED FOR EACH PLAYER\n",
    "#will be applying this function by using the apply function down pandas dataframe to iterate through each player\n",
    "#input data will be player's row (which will have all column names of df associated) and the scoring\n",
    "#association/calculation dictionary that corresponds to the dataframe used\n",
    "def calc_seas_fant_pts_proj(player_row, scoring_assoc_calc):\n",
    "    #initialize the variable to store the total player fantasy points projected for the season\n",
    "    player_fant_pts = 0\n",
    "    \n",
    "    #iterate through the entire dictionary of scoring_assoc_calc, doing different operations\n",
    "    #depending on the calculation type (which is 0th item in the calc_details lists)\n",
    "    for score_category, calc_details in scoring_assoc_calc.items():\n",
    "        calc_type = calc_details[0]\n",
    "        col_name_df = calc_details[2]\n",
    "        \n",
    "        if calc_type == 'multiply':\n",
    "            #calc_details in form ['multiply', fantasy pts multiplier, column in df (can be None)]\n",
    "            #if column is None then we don't have data to calculate for this category, so only calculate if col data exists\n",
    "            if col_name_df != None:\n",
    "                multiplier = calc_details[1]\n",
    "                player_data = player_row[col_name_df]\n",
    "                \n",
    "                #if player_data is NaN, don't want to run calculation because it would return a nan value\n",
    "                #also no point to calculate if multiplier is zero or if player_data = 0\n",
    "                if ~np.isnan(player_data) and multiplier != 0 and player_data != 0:\n",
    "                    pts = multiplier * player_data\n",
    "                    player_fant_pts += pts\n",
    "        \n",
    "        elif calc_type == 'interval':\n",
    "            #calc details in form  ['interval', fantasy pts multiplier, column in df (can be None), interval amount]\n",
    "            #eg. for passing yards that awards 1 pt for every 25 yards, \n",
    "            #the interval amount would be 25 (yards) and fantasy pts multiplier would be 1\n",
    "            if col_name_df != None:\n",
    "                multiplier = calc_details[1]\n",
    "                player_data = player_row[col_name_df]\n",
    "                interval_amt = calc_details[3]\n",
    "                \n",
    "                #if player_data is NaN, don't want to run calculation because it would return a nan value\n",
    "                #also don't want to calculate if interval_amt is zero because division would cause infinity error\n",
    "                #also no point to calculate if multiplier is zero or if player_data = 0\n",
    "                if ~np.isnan(player_data) and multiplier != 0 and interval_amt != 0 and player_data != 0:\n",
    "                    #need to do floor division for the interval before multiplying by points\n",
    "                    pts = (player_data // interval_amt) * multiplier\n",
    "                    player_fant_pts += pts\n",
    "            \n",
    "        elif calc_type == 'subtract':\n",
    "            #calc details in form ['subtract', fantasy pts multiplier, base column in df (can be None), subtractor column in df (can be None)]\n",
    "            #eg. for missed Kick FG pts: KICK_FGAtt is base column and Field Goals Made is what is subtracted from that in order\n",
    "            #to get the number of missed FGs\n",
    "            col_name_df_subtractor = calc_details[3]\n",
    "            \n",
    "            if col_name_df != None and col_name_df_subtractor != None:\n",
    "                multiplier = calc_details[1]\n",
    "                player_data_base = player_row[col_name_df]\n",
    "                player_data_subtractor = player_row[col_name_df_subtractor]\n",
    "                \n",
    "                #if player_data_base or player_data_subtractor is NaN, don't want to run calculation because it would return a nan value\n",
    "                #also no point to calculate if multiplier is zero or if player_data_base = 0\n",
    "                if ~np.isnan(player_data_base) and ~np.isnan(player_data_subtractor) and multiplier != 0 and player_data_base != 0:\n",
    "                    pts = (player_data_base - player_data_subtractor) * multiplier\n",
    "                    player_fant_pts += pts\n",
    "            \n",
    "        elif calc_type == 'defense_pts_allow':\n",
    "            #calc details in form ['defense_pts_allow', fantasy pts multiplier list, column in df of pts allowed by defense(can be None),\n",
    "            #list of the max defense points allowed by range for each corresponding multiplier]\n",
    "            if col_name_df != None:\n",
    "                fant_pts_list = calc_details[1]\n",
    "                range_max_pts_allow_list = calc_details[3]\n",
    "                defense_pts_allow_per_gm = player_row[col_name_df]\n",
    "                \n",
    "                #if defense_data is NaN don't want to run calculation because it would return a nan value\n",
    "                if ~np.isnan(defense_pts_allow):\n",
    "                    idx_pts_allow = np.searchsorted(range_max_pts_allow_list, defense_pts_allow_per_gm,\n",
    "                                                   side='left')\n",
    "                    #multiply the defense allowed per game points times 16 games to get total season fantasy points\n",
    "                    pts = fant_pts_list[idx_pts_allow] * 16\n",
    "                    player_fant_pts += pts\n",
    "                        \n",
    "    return player_fant_pts"
   ]
  },
  {
   "cell_type": "code",
   "execution_count": 128,
   "metadata": {},
   "outputs": [
    {
     "ename": "TypeError",
     "evalue": "(\"ufunc 'isnan' not supported for the input types, and the inputs could not be safely coerced to any supported types according to the casting rule ''safe''\", 'occurred at index 703')",
     "output_type": "error",
     "traceback": [
      "\u001b[1;31m---------------------------------------------------------------------------\u001b[0m",
      "\u001b[1;31mTypeError\u001b[0m                                 Traceback (most recent call last)",
      "\u001b[1;32m<ipython-input-128-85d2cb480606>\u001b[0m in \u001b[0;36m<module>\u001b[1;34m()\u001b[0m\n\u001b[0;32m      1\u001b[0m df_espn_projections.apply(lambda row: calc_seas_fant_pts_proj(row, scoring_assoc_calc_espn),\n\u001b[1;32m----> 2\u001b[1;33m                          axis=1)\n\u001b[0m",
      "\u001b[1;32m~\\Anaconda3\\envs\\PythonData\\lib\\site-packages\\pandas\\core\\frame.py\u001b[0m in \u001b[0;36mapply\u001b[1;34m(self, func, axis, broadcast, raw, reduce, result_type, args, **kwds)\u001b[0m\n\u001b[0;32m   6002\u001b[0m                          \u001b[0margs\u001b[0m\u001b[1;33m=\u001b[0m\u001b[0margs\u001b[0m\u001b[1;33m,\u001b[0m\u001b[1;33m\u001b[0m\u001b[0m\n\u001b[0;32m   6003\u001b[0m                          kwds=kwds)\n\u001b[1;32m-> 6004\u001b[1;33m         \u001b[1;32mreturn\u001b[0m \u001b[0mop\u001b[0m\u001b[1;33m.\u001b[0m\u001b[0mget_result\u001b[0m\u001b[1;33m(\u001b[0m\u001b[1;33m)\u001b[0m\u001b[1;33m\u001b[0m\u001b[0m\n\u001b[0m\u001b[0;32m   6005\u001b[0m \u001b[1;33m\u001b[0m\u001b[0m\n\u001b[0;32m   6006\u001b[0m     \u001b[1;32mdef\u001b[0m \u001b[0mapplymap\u001b[0m\u001b[1;33m(\u001b[0m\u001b[0mself\u001b[0m\u001b[1;33m,\u001b[0m \u001b[0mfunc\u001b[0m\u001b[1;33m)\u001b[0m\u001b[1;33m:\u001b[0m\u001b[1;33m\u001b[0m\u001b[0m\n",
      "\u001b[1;32m~\\Anaconda3\\envs\\PythonData\\lib\\site-packages\\pandas\\core\\apply.py\u001b[0m in \u001b[0;36mget_result\u001b[1;34m(self)\u001b[0m\n\u001b[0;32m    140\u001b[0m             \u001b[1;32mreturn\u001b[0m \u001b[0mself\u001b[0m\u001b[1;33m.\u001b[0m\u001b[0mapply_raw\u001b[0m\u001b[1;33m(\u001b[0m\u001b[1;33m)\u001b[0m\u001b[1;33m\u001b[0m\u001b[0m\n\u001b[0;32m    141\u001b[0m \u001b[1;33m\u001b[0m\u001b[0m\n\u001b[1;32m--> 142\u001b[1;33m         \u001b[1;32mreturn\u001b[0m \u001b[0mself\u001b[0m\u001b[1;33m.\u001b[0m\u001b[0mapply_standard\u001b[0m\u001b[1;33m(\u001b[0m\u001b[1;33m)\u001b[0m\u001b[1;33m\u001b[0m\u001b[0m\n\u001b[0m\u001b[0;32m    143\u001b[0m \u001b[1;33m\u001b[0m\u001b[0m\n\u001b[0;32m    144\u001b[0m     \u001b[1;32mdef\u001b[0m \u001b[0mapply_empty_result\u001b[0m\u001b[1;33m(\u001b[0m\u001b[0mself\u001b[0m\u001b[1;33m)\u001b[0m\u001b[1;33m:\u001b[0m\u001b[1;33m\u001b[0m\u001b[0m\n",
      "\u001b[1;32m~\\Anaconda3\\envs\\PythonData\\lib\\site-packages\\pandas\\core\\apply.py\u001b[0m in \u001b[0;36mapply_standard\u001b[1;34m(self)\u001b[0m\n\u001b[0;32m    246\u001b[0m \u001b[1;33m\u001b[0m\u001b[0m\n\u001b[0;32m    247\u001b[0m         \u001b[1;31m# compute the result using the series generator\u001b[0m\u001b[1;33m\u001b[0m\u001b[1;33m\u001b[0m\u001b[0m\n\u001b[1;32m--> 248\u001b[1;33m         \u001b[0mself\u001b[0m\u001b[1;33m.\u001b[0m\u001b[0mapply_series_generator\u001b[0m\u001b[1;33m(\u001b[0m\u001b[1;33m)\u001b[0m\u001b[1;33m\u001b[0m\u001b[0m\n\u001b[0m\u001b[0;32m    249\u001b[0m \u001b[1;33m\u001b[0m\u001b[0m\n\u001b[0;32m    250\u001b[0m         \u001b[1;31m# wrap results\u001b[0m\u001b[1;33m\u001b[0m\u001b[1;33m\u001b[0m\u001b[0m\n",
      "\u001b[1;32m~\\Anaconda3\\envs\\PythonData\\lib\\site-packages\\pandas\\core\\apply.py\u001b[0m in \u001b[0;36mapply_series_generator\u001b[1;34m(self)\u001b[0m\n\u001b[0;32m    275\u001b[0m             \u001b[1;32mtry\u001b[0m\u001b[1;33m:\u001b[0m\u001b[1;33m\u001b[0m\u001b[0m\n\u001b[0;32m    276\u001b[0m                 \u001b[1;32mfor\u001b[0m \u001b[0mi\u001b[0m\u001b[1;33m,\u001b[0m \u001b[0mv\u001b[0m \u001b[1;32min\u001b[0m \u001b[0menumerate\u001b[0m\u001b[1;33m(\u001b[0m\u001b[0mseries_gen\u001b[0m\u001b[1;33m)\u001b[0m\u001b[1;33m:\u001b[0m\u001b[1;33m\u001b[0m\u001b[0m\n\u001b[1;32m--> 277\u001b[1;33m                     \u001b[0mresults\u001b[0m\u001b[1;33m[\u001b[0m\u001b[0mi\u001b[0m\u001b[1;33m]\u001b[0m \u001b[1;33m=\u001b[0m \u001b[0mself\u001b[0m\u001b[1;33m.\u001b[0m\u001b[0mf\u001b[0m\u001b[1;33m(\u001b[0m\u001b[0mv\u001b[0m\u001b[1;33m)\u001b[0m\u001b[1;33m\u001b[0m\u001b[0m\n\u001b[0m\u001b[0;32m    278\u001b[0m                     \u001b[0mkeys\u001b[0m\u001b[1;33m.\u001b[0m\u001b[0mappend\u001b[0m\u001b[1;33m(\u001b[0m\u001b[0mv\u001b[0m\u001b[1;33m.\u001b[0m\u001b[0mname\u001b[0m\u001b[1;33m)\u001b[0m\u001b[1;33m\u001b[0m\u001b[0m\n\u001b[0;32m    279\u001b[0m             \u001b[1;32mexcept\u001b[0m \u001b[0mException\u001b[0m \u001b[1;32mas\u001b[0m \u001b[0me\u001b[0m\u001b[1;33m:\u001b[0m\u001b[1;33m\u001b[0m\u001b[0m\n",
      "\u001b[1;32m<ipython-input-128-85d2cb480606>\u001b[0m in \u001b[0;36m<lambda>\u001b[1;34m(row)\u001b[0m\n\u001b[1;32m----> 1\u001b[1;33m df_espn_projections.apply(lambda row: calc_seas_fant_pts_proj(row, scoring_assoc_calc_espn),\n\u001b[0m\u001b[0;32m      2\u001b[0m                          axis=1)\n",
      "\u001b[1;32m<ipython-input-127-5912595d9e84>\u001b[0m in \u001b[0;36mcalc_seas_fant_pts_proj\u001b[1;34m(player_row, scoring_assoc_calc)\u001b[0m\n\u001b[0;32m     22\u001b[0m                 \u001b[1;31m#if player_data is NaN, don't want to run calculation because it would return a nan value\u001b[0m\u001b[1;33m\u001b[0m\u001b[1;33m\u001b[0m\u001b[0m\n\u001b[0;32m     23\u001b[0m                 \u001b[1;31m#also no point to calculate if multiplier is zero or if player_data = 0\u001b[0m\u001b[1;33m\u001b[0m\u001b[1;33m\u001b[0m\u001b[0m\n\u001b[1;32m---> 24\u001b[1;33m                 \u001b[1;32mif\u001b[0m \u001b[1;33m~\u001b[0m\u001b[0mnp\u001b[0m\u001b[1;33m.\u001b[0m\u001b[0misnan\u001b[0m\u001b[1;33m(\u001b[0m\u001b[0mplayer_data\u001b[0m\u001b[1;33m)\u001b[0m \u001b[1;32mand\u001b[0m \u001b[0mmultiplier\u001b[0m \u001b[1;33m!=\u001b[0m \u001b[1;36m0\u001b[0m \u001b[1;32mand\u001b[0m \u001b[0mplayer_data\u001b[0m \u001b[1;33m!=\u001b[0m \u001b[1;36m0\u001b[0m\u001b[1;33m:\u001b[0m\u001b[1;33m\u001b[0m\u001b[0m\n\u001b[0m\u001b[0;32m     25\u001b[0m                     \u001b[0mpts\u001b[0m \u001b[1;33m=\u001b[0m \u001b[0mmultiplier\u001b[0m \u001b[1;33m*\u001b[0m \u001b[0mplayer_data\u001b[0m\u001b[1;33m\u001b[0m\u001b[0m\n\u001b[0;32m     26\u001b[0m                     \u001b[0mplayer_fant_pts\u001b[0m \u001b[1;33m+=\u001b[0m \u001b[0mpts\u001b[0m\u001b[1;33m\u001b[0m\u001b[0m\n",
      "\u001b[1;31mTypeError\u001b[0m: (\"ufunc 'isnan' not supported for the input types, and the inputs could not be safely coerced to any supported types according to the casting rule ''safe''\", 'occurred at index 703')"
     ]
    }
   ],
   "source": [
    "df_espn_projections.apply(lambda row: calc_seas_fant_pts_proj(row, scoring_assoc_calc_espn),\n",
    "                         axis=1)"
   ]
  },
  {
   "cell_type": "code",
   "execution_count": 131,
   "metadata": {},
   "outputs": [
    {
     "ename": "TypeError",
     "evalue": "eval() arg 1 must be a string, bytes or code object",
     "output_type": "error",
     "traceback": [
      "\u001b[1;31m---------------------------------------------------------------------------\u001b[0m",
      "\u001b[1;31mTypeError\u001b[0m                                 Traceback (most recent call last)",
      "\u001b[1;32m<ipython-input-131-ee68741117bd>\u001b[0m in \u001b[0;36m<module>\u001b[1;34m()\u001b[0m\n\u001b[1;32m----> 1\u001b[1;33m \u001b[0meval\u001b[0m\u001b[1;33m(\u001b[0m\u001b[1;36m0.5\u001b[0m\u001b[1;33m)\u001b[0m\u001b[1;33m\u001b[0m\u001b[0m\n\u001b[0m",
      "\u001b[1;31mTypeError\u001b[0m: eval() arg 1 must be a string, bytes or code object"
     ]
    }
   ],
   "source": [
    "test = '0'\n",
    "test2 = '0.5'\n",
    "if test."
   ]
  },
  {
   "cell_type": "code",
   "execution_count": 146,
   "metadata": {},
   "outputs": [
    {
     "data": {
      "text/plain": [
       "RNK                int64\n",
       "PTS               object\n",
       "PLAYER            object\n",
       "TEAM              object\n",
       "POS               object\n",
       "PASS_YD           object\n",
       "PASS_TD           object\n",
       "PASS_INT          object\n",
       "PASS_COMP        float64\n",
       "PASS_ATT         float64\n",
       "PASS_COMP_PCT    float64\n",
       "RUSH_ATT          object\n",
       "RUSH_YD           object\n",
       "RUSH_TD           object\n",
       "RECV_RECPT        object\n",
       "RECV_YD           object\n",
       "RECV_TD           object\n",
       "KICK_FG_1-39     float64\n",
       "KICK_FG_40-49    float64\n",
       "KICK_FG_50+      float64\n",
       "KICK_FG          float64\n",
       "KICK_FGAtt       float64\n",
       "KICK_FG%         float64\n",
       "KICK_XP          float64\n",
       "KICK_XPAtt       float64\n",
       "D/ST_Sack        float64\n",
       "D/ST_FF          float64\n",
       "D/ST_FR          float64\n",
       "D/ST_INT         float64\n",
       "D/ST_TD          float64\n",
       "dtype: object"
      ]
     },
     "execution_count": 146,
     "metadata": {},
     "output_type": "execute_result"
    }
   ],
   "source": [
    "df_espn_projections.dtypes"
   ]
  },
  {
   "cell_type": "code",
   "execution_count": 126,
   "metadata": {},
   "outputs": [
    {
     "data": {
      "text/plain": [
       "'0'"
      ]
     },
     "execution_count": 126,
     "metadata": {},
     "output_type": "execute_result"
    }
   ],
   "source": [
    "df_espn_projections.iloc[703]['PASS_YD']"
   ]
  },
  {
   "cell_type": "code",
   "execution_count": 144,
   "metadata": {},
   "outputs": [
    {
     "data": {
      "text/plain": [
       "0    0.0\n",
       "Name: RECV_RECPT, dtype: float64"
      ]
     },
     "execution_count": 144,
     "metadata": {},
     "output_type": "execute_result"
    }
   ],
   "source": [
    "df_cbs_projections[df_cbs_projections['PLAYER'] == 'Deshaun Watson']['RECV_RECPT']"
   ]
  },
  {
   "cell_type": "code",
   "execution_count": 114,
   "metadata": {},
   "outputs": [
    {
     "data": {
      "text/plain": [
       "-1"
      ]
     },
     "execution_count": 114,
     "metadata": {},
     "output_type": "execute_result"
    }
   ],
   "source": [
    "pts_allow = 28\n",
    "idx_pts_allow = np.searchsorted([0, 6, 13, 17, 27, 34, 45, 100], pts_allow, side='left')\n",
    "[DST_PtAll_0_pts, DST_PtAll_1_6_pts, DST_PtAll_7_13_pts,\n",
    "                                           DST_PtAll_14_17_pts, DST_PtAll_18_27_pts, DST_PtAll_28_34_pts,\n",
    "                                           DST_PtAll_35_45_pts, DST_PtAll_46_plus_pts][idx_pts_allow]"
   ]
  },
  {
   "cell_type": "code",
   "execution_count": 99,
   "metadata": {},
   "outputs": [
    {
     "data": {
      "text/plain": [
       "[5, 4, 3, 1, 0, -1, -3, -5]"
      ]
     },
     "execution_count": 99,
     "metadata": {},
     "output_type": "execute_result"
    }
   ],
   "source": [
    "[DST_PtAll_0_pts, DST_PtAll_1_6_pts, DST_PtAll_7_13_pts,\n",
    "                                           DST_PtAll_14_17_pts, DST_PtAll_18_27_pts, DST_PtAll_28_34_pts,\n",
    "                                           DST_PtAll_35_45_pts, DST_PtAll_46_plus_pts]"
   ]
  },
  {
   "cell_type": "code",
   "execution_count": 43,
   "metadata": {},
   "outputs": [
    {
     "ename": "SyntaxError",
     "evalue": "invalid syntax (<ipython-input-43-e05ad2e3660d>, line 2)",
     "output_type": "error",
     "traceback": [
      "\u001b[1;36m  File \u001b[1;32m\"<ipython-input-43-e05ad2e3660d>\"\u001b[1;36m, line \u001b[1;32m2\u001b[0m\n\u001b[1;33m    test += if df_espn_projections['D/ST_INT'][0] != np.nan: df_espn_projections['D/ST_INT'][0] * 5\u001b[0m\n\u001b[1;37m             ^\u001b[0m\n\u001b[1;31mSyntaxError\u001b[0m\u001b[1;31m:\u001b[0m invalid syntax\n"
     ]
    }
   ],
   "source": [
    "test = 1\n",
    "test += if df_espn_projections['D/ST_INT'][0] != np.nan: df_espn_projections['D/ST_INT'][0] * 5 \n",
    "test"
   ]
  },
  {
   "cell_type": "code",
   "execution_count": 51,
   "metadata": {},
   "outputs": [
    {
     "data": {
      "text/plain": [
       "(991, 30)"
      ]
     },
     "execution_count": 51,
     "metadata": {},
     "output_type": "execute_result"
    }
   ],
   "source": [
    "df_espn_projections.shape"
   ]
  },
  {
   "cell_type": "code",
   "execution_count": 69,
   "metadata": {},
   "outputs": [
    {
     "data": {
      "text/plain": [
       "29.48"
      ]
     },
     "execution_count": 69,
     "metadata": {},
     "output_type": "execute_result"
    }
   ],
   "source": [
    "737/ 25"
   ]
  },
  {
   "cell_type": "code",
   "execution_count": 70,
   "metadata": {},
   "outputs": [
    {
     "data": {
      "text/plain": [
       "29"
      ]
     },
     "execution_count": 70,
     "metadata": {},
     "output_type": "execute_result"
    }
   ],
   "source": [
    "737// 25"
   ]
  },
  {
   "cell_type": "code",
   "execution_count": 58,
   "metadata": {},
   "outputs": [
    {
     "data": {
      "text/plain": [
       "True"
      ]
     },
     "execution_count": 58,
     "metadata": {},
     "output_type": "execute_result"
    }
   ],
   "source": [
    "np.isnan(df_espn_projections['D/ST_INT'][5])"
   ]
  },
  {
   "cell_type": "code",
   "execution_count": 60,
   "metadata": {},
   "outputs": [
    {
     "data": {
      "text/plain": [
       "nan"
      ]
     },
     "execution_count": 60,
     "metadata": {},
     "output_type": "execute_result"
    }
   ],
   "source": [
    "0 * np.nan"
   ]
  },
  {
   "cell_type": "code",
   "execution_count": 64,
   "metadata": {},
   "outputs": [
    {
     "data": {
      "text/plain": [
       "False"
      ]
     },
     "execution_count": 64,
     "metadata": {},
     "output_type": "execute_result"
    }
   ],
   "source": [
    "test2 = None\n",
    "test2 != None"
   ]
  },
  {
   "cell_type": "code",
   "execution_count": null,
   "metadata": {},
   "outputs": [],
   "source": [
    "df_your_league  #columns ESPN, CBS, NFL, FFt  #then have custom averaging options later"
   ]
  },
  {
   "cell_type": "code",
   "execution_count": null,
   "metadata": {},
   "outputs": [],
   "source": []
  },
  {
   "cell_type": "code",
   "execution_count": null,
   "metadata": {},
   "outputs": [],
   "source": []
  },
  {
   "cell_type": "markdown",
   "metadata": {},
   "source": [
    "Maybe calculate a ratio of the player's fantasy points / average position fantasy points to see how much more valuable that player is than the average player at that position (that you could presumably get later in the draft). Could also calculate a similar ratio of the player's fantasy points / average of top 10 position players. Also convert these calcs to not just relative ratios, but also absolute fantasy point differentials."
   ]
  },
  {
   "cell_type": "markdown",
   "metadata": {},
   "source": [
    "#### Draft Day Help - keeping track of who is left and your player needs\n"
   ]
  },
  {
   "cell_type": "code",
   "execution_count": null,
   "metadata": {},
   "outputs": [],
   "source": []
  }
 ],
 "metadata": {
  "kernelspec": {
   "display_name": "Python 3",
   "language": "python",
   "name": "python3"
  },
  "language_info": {
   "codemirror_mode": {
    "name": "ipython",
    "version": 3
   },
   "file_extension": ".py",
   "mimetype": "text/x-python",
   "name": "python",
   "nbconvert_exporter": "python",
   "pygments_lexer": "ipython3",
   "version": "3.6.5"
  }
 },
 "nbformat": 4,
 "nbformat_minor": 2
}
